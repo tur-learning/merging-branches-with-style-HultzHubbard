{
 "cells": [
  {
   "cell_type": "markdown",
   "metadata": {
    "slideshow": {
     "slide_type": "slide"
    }
   },
   "source": [
    " \n",
    "   # CIS 1051 - Temple Rome Spring 2023"
   ]
  },
  {
   "cell_type": "markdown",
   "metadata": {
    "slideshow": {
     "slide_type": "-"
    }
   },
   "source": [
    "## Intro to Problem solving and \n",
    "## Programming in Python"
   ]
  },
  {
   "cell_type": "markdown",
   "metadata": {
    "slideshow": {
     "slide_type": "-"
    }
   },
   "source": [
    "![LOGO](img/temple-logo.png)"
   ]
  },
  {
   "cell_type": "markdown",
   "metadata": {
    "slideshow": {
     "slide_type": "subslide"
    }
   },
   "source": [
    "![LOGO](img/temple-logo.png)"
   ]
  },
  {
   "cell_type": "markdown",
   "metadata": {
    "slideshow": {
     "slide_type": "-"
    }
   },
   "source": [
    "### Interfaces Design"
   ]
  },
  {
   "cell_type": "markdown",
   "metadata": {
    "slideshow": {
     "slide_type": "-"
    }
   },
   "source": [
    "Prof. Andrea Gallegati\n",
    "\n",
    "( [tuj81353@temple.edu](tuj81353@temple.edu) )"
   ]
  },
  {
   "cell_type": "markdown",
   "metadata": {
    "slideshow": {
     "slide_type": "slide"
    }
   },
   "source": [
    "## The Turtle Module"
   ]
  },
  {
   "cell_type": "markdown",
   "metadata": {
    "slideshow": {
     "slide_type": "-"
    }
   },
   "source": [
    "To check whether you have the turtle **module**, open the Python interpreter and type:\n",
    "\n",
    "```\n",
    ">>> import turtle\n",
    ">>> bob = turtle.Turtle()\n",
    "```"
   ]
  },
  {
   "cell_type": "markdown",
   "metadata": {
    "slideshow": {
     "slide_type": "fragment"
    }
   },
   "source": [
    "... and a new window should pop-up!\n",
    "\n",
    "The small arrow represents the \"turtle\"."
   ]
  },
  {
   "cell_type": "markdown",
   "metadata": {
    "slideshow": {
     "slide_type": "subslide"
    }
   },
   "source": [
    "Of course, this won't happen on a **Dockerized environment**, cause there's no `$DISPLAY` at all :)"
   ]
  },
  {
   "cell_type": "markdown",
   "metadata": {
    "slideshow": {
     "slide_type": "fragment"
    }
   },
   "source": [
    "There, we are going to import an equivalent module:\n",
    "\n",
    "```\n",
    "from svg_turtle import SvgTurtle\n",
    "```\n",
    "\n",
    "... that will do the job!"
   ]
  },
  {
   "cell_type": "markdown",
   "metadata": {
    "slideshow": {
     "slide_type": "subslide"
    }
   },
   "source": [
    "```\n",
    ">>> import turtle\n",
    ">>> bob = turtle.Turtle()\n",
    ">>>\n",
    ">>> print(bob)\n",
    "<turtle.Turtle object at 0xb7bfbf4c>\n",
    "```"
   ]
  },
  {
   "cell_type": "markdown",
   "metadata": {
    "slideshow": {
     "slide_type": "-"
    }
   },
   "source": [
    "The `turtle` module (*lowercase t*) provides a function called `Turtle` (*uppercase T*) that creates a Turtle **object**, which we assign to a variable named `bob`."
   ]
  },
  {
   "cell_type": "markdown",
   "metadata": {
    "slideshow": {
     "slide_type": "fragment"
    }
   },
   "source": [
    " Printing `bob` displays that `bob` refers to an **object** with **type** `Turtle` as defined in module turtle."
   ]
  },
  {
   "cell_type": "markdown",
   "metadata": {
    "slideshow": {
     "slide_type": "subslide"
    }
   },
   "source": [
    "Once created a Turtle, there are some **methods** to move it around the window. \n",
    "\n",
    "A *method* is similar to a *function*, with slightly different syntax."
   ]
  },
  {
   "cell_type": "markdown",
   "metadata": {
    "slideshow": {
     "slide_type": "fragment"
    }
   },
   "source": [
    "```\n",
    "bob.fd(100) # move bob forward, by 100 pixels\n",
    "```"
   ]
  },
  {
   "cell_type": "markdown",
   "metadata": {
    "slideshow": {
     "slide_type": "-"
    }
   },
   "source": [
    "The method, is associated with the turtle object we’re calling `bob`.\n",
    "\n",
    "Calling a method is like making a request: *you are asking bob to move forward!*"
   ]
  },
  {
   "cell_type": "markdown",
   "metadata": {
    "slideshow": {
     "slide_type": "subslide"
    }
   },
   "source": [
    "Other methods one can call on a Turtle are:\n",
    "- `bk` to move backward\n",
    "- `lt` turn left (by an angle in degrees)\n",
    "- `rt` turnright (by an angle in degrees)"
   ]
  },
  {
   "cell_type": "markdown",
   "metadata": {
    "slideshow": {
     "slide_type": "fragment"
    }
   },
   "source": [
    "Each Turtle is holding a pen, which is either \n",
    "- *down* (method `pd`)\n",
    "- *up* (method `pu`),\n",
    "\n",
    "for the Turtle to leave a trail when it moves. "
   ]
  },
  {
   "cell_type": "markdown",
   "metadata": {
    "slideshow": {
     "slide_type": "subslide"
    }
   },
   "source": [
    "To draw a right angle, create a file named `mypolygon.py`\n",
    "\n",
    "Then, add these lines to the program (after `bob` and before `mainloop`):"
   ]
  },
  {
   "cell_type": "markdown",
   "metadata": {
    "slideshow": {
     "slide_type": "-"
    }
   },
   "source": [
    "```\n",
    "import turtle\n",
    "\n",
    "bob = turtle.Turtle()\n",
    "\n",
    "bob.fd(100)\n",
    "bob.lt(90)\n",
    "bob.fd(100)\n",
    "\n",
    "turtle.mainloop()\n",
    "```"
   ]
  },
  {
   "cell_type": "markdown",
   "metadata": {
    "slideshow": {
     "slide_type": "fragment"
    }
   },
   "source": [
    "... `mainloop` tells the window to wait for user input, basically to close the window."
   ]
  },
  {
   "cell_type": "markdown",
   "metadata": {
    "slideshow": {
     "slide_type": "subslide"
    }
   },
   "source": [
    "Within a Docker container the *surronding structure* will be slightly more complex.\n",
    "\n",
    "... in a few words, a `Flask` app, serving the Turtle module output as an image, on a webpage."
   ]
  },
  {
   "cell_type": "markdown",
   "metadata": {
    "slideshow": {
     "slide_type": "-"
    }
   },
   "source": [
    "```python:\n",
    "import subprocess\n",
    "from flask import Flask, send_file\n",
    "\n",
    "app = Flask(__name__)\n",
    "\n",
    "@app.route(\"/\")\n",
    "def main():\n",
    "    subprocess.run([\"python\", \"turtle_graphics.py\"])\n",
    "    return send_file(\"shape.svg\")\n",
    "\n",
    "if __name__ == \"__main__\":\n",
    "    app.run(host=\"172.17.0.4\", port=8030)\n",
    "```"
   ]
  },
  {
   "cell_type": "markdown",
   "metadata": {
    "slideshow": {
     "slide_type": "subslide"
    }
   },
   "source": [
    "<p style=\"text-align: center;\">Modify the program to draw a square. Let's do it together!</p>"
   ]
  },
  {
   "cell_type": "markdown",
   "metadata": {
    "slideshow": {
     "slide_type": "slide"
    }
   },
   "source": [
    "## Simple Repetition"
   ]
  },
  {
   "cell_type": "markdown",
   "metadata": {
    "slideshow": {
     "slide_type": "-"
    }
   },
   "source": [
    "Probably, the easiest way to go would be"
   ]
  },
  {
   "cell_type": "markdown",
   "metadata": {
    "slideshow": {
     "slide_type": "fragment"
    }
   },
   "source": [
    "```\n",
    "bob.fd(100) ; bob.lt(90)   # 1st side\n",
    "bob.fd(100) ; bob.lt(90)   # 2nd side\n",
    "bob.fd(100) ; bob.lt(90)   # 3rd side\n",
    "bob.fd(100)                # last side\n",
    "```"
   ]
  },
  {
   "cell_type": "markdown",
   "metadata": {
    "slideshow": {
     "slide_type": "subslide"
    }
   },
   "source": [
    "But the same thing &ndash; more concisely &ndash; can be accomplished with a `for` statement."
   ]
  },
  {
   "cell_type": "code",
   "execution_count": 3,
   "metadata": {
    "collapsed": false,
    "slideshow": {
     "slide_type": "-"
    }
   },
   "outputs": [
    {
     "name": "stdout",
     "output_type": "stream",
     "text": [
      "Hello!\n",
      "Hello!\n",
      "Hello!\n",
      "Hello!\n"
     ]
    }
   ],
   "source": [
    "for i in range(4):\n",
    "    print('Hello!')"
   ]
  },
  {
   "cell_type": "markdown",
   "metadata": {
    "slideshow": {
     "slide_type": "fragment"
    }
   },
   "source": [
    "This is the simplest use of the **for statement**.\n",
    "\n",
    "The syntax is similar to a **function definition**. It has:\n",
    "- an header that ends with a colon \n",
    "- an indented body\n",
    "\n",
    "The body can contain any number of statements."
   ]
  },
  {
   "cell_type": "markdown",
   "metadata": {
    "slideshow": {
     "slide_type": "subslide"
    }
   },
   "source": [
    "<p style=\"text-align: center;\">A for statement is also called a <strong>loop</strong> because the <strong>flow of execution</strong> runs through the body and then loops back to the top.</p>"
   ]
  },
  {
   "cell_type": "markdown",
   "metadata": {
    "slideshow": {
     "slide_type": "fragment"
    }
   },
   "source": [
    "Here below, a for statement that draws a square:"
   ]
  },
  {
   "cell_type": "markdown",
   "metadata": {
    "slideshow": {
     "slide_type": "-"
    }
   },
   "source": [
    "```\n",
    "for i in range(4):\n",
    "    bob.fd(100)\n",
    "    bob.lt(90)\n",
    "```"
   ]
  },
  {
   "cell_type": "markdown",
   "metadata": {
    "slideshow": {
     "slide_type": "fragment"
    }
   },
   "source": [
    "Add the above **loop** to `mypolygon.py` and try it out!"
   ]
  },
  {
   "cell_type": "markdown",
   "metadata": {
    "slideshow": {
     "slide_type": "subslide"
    }
   },
   "source": [
    "This version &ndash; actually &ndash; slightly differs from the previous one, because of the *extra turn it takes*\n",
    "\n",
    "... but it **simplifies the code** if we do the same thing every time through the loop!"
   ]
  },
  {
   "cell_type": "markdown",
   "metadata": {
    "slideshow": {
     "slide_type": "fragment"
    }
   },
   "source": [
    "We can rewrite the original **for statement** without defing an **iterator**, following this syntax:"
   ]
  },
  {
   "cell_type": "code",
   "execution_count": 1,
   "metadata": {
    "collapsed": false
   },
   "outputs": [
    {
     "name": "stdout",
     "output_type": "stream",
     "text": [
      "Hello!\n",
      "Hello!\n",
      "Hello!\n",
      "Hello!\n"
     ]
    }
   ],
   "source": [
    "for _ in range(4):\n",
    "    print('Hello!')"
   ]
  },
  {
   "cell_type": "markdown",
   "metadata": {
    "slideshow": {
     "slide_type": "fragment"
    }
   },
   "source": [
    "... when we don't care about the iterator value, but that it should run some specific number of times!"
   ]
  },
  {
   "cell_type": "markdown",
   "metadata": {
    "slideshow": {
     "slide_type": "slide"
    }
   },
   "source": [
    "## Exercises"
   ]
  },
  {
   "cell_type": "markdown",
   "metadata": {
    "slideshow": {
     "slide_type": "-"
    }
   },
   "source": [
    "1. A function `square` takes a **parameter** `t` (a turtle) and draws a square. Call `square` function passing `bob` as **argument**.\n",
    "2. The `square` function takes the side's `length` as **parameter**. Pass the second **argument** too. **Test** a range of values.\n",
    "3. A function `polygon` takes an additional **parameter** `n` and draws an *n-sided* regular polygon.\n",
    "4. A function `circle` takes as additional **parameter** a radius `r` and draws an approximate circle. **Test** a range of values of `r`.\n",
    "5. A function `arc` takes as additional **parameter** an `angle` (degrees) and draws a sector of a circle."
   ]
  },
  {
   "cell_type": "markdown",
   "metadata": {
    "slideshow": {
     "slide_type": "subslide"
    }
   },
   "source": [
    "The following sections have solutions to the exercises, so don’t look until you have finished (or at least tried)."
   ]
  },
  {
   "cell_type": "markdown",
   "metadata": {
    "slideshow": {
     "slide_type": "subslide"
    }
   },
   "source": [
    "## Case Study"
   ]
  },
  {
   "cell_type": "markdown",
   "metadata": {
    "slideshow": {
     "slide_type": "-"
    }
   },
   "source": [
    "Put the square-drawing code into a **function definition** and call the function, passing the *turtle* as **parameter**."
   ]
  },
  {
   "cell_type": "markdown",
   "metadata": {
    "slideshow": {
     "slide_type": "-"
    }
   },
   "source": [
    "```\n",
    "for i in range(4):\n",
    "\n",
    "    bob.fd(100)\n",
    "    bob.lt(90)\n",
    "```"
   ]
  },
  {
   "cell_type": "markdown",
   "metadata": {
    "slideshow": {
     "slide_type": "subslide"
    }
   },
   "source": [
    "```\n",
    "bob = Turtle()\n",
    "def square(t):\n",
    "    for i in range(4):\n",
    "        t.fd(100)\n",
    "        t.lt(90)\n",
    "        \n",
    "square(bob)\n",
    "```"
   ]
  },
  {
   "cell_type": "markdown",
   "metadata": {
    "slideshow": {
     "slide_type": "-"
    }
   },
   "source": [
    "Innermost statements are **indented twice** to show that they are inside the **for loop**, which is inside the **function definition**.\n",
    "\n",
    "All the rest, is **flush with the left margin**, which indicates the end of both the for loop and the function definition."
   ]
  },
  {
   "cell_type": "markdown",
   "metadata": {
    "slideshow": {
     "slide_type": "subslide"
    }
   },
   "source": [
    "```\n",
    "bob = Turtle()\n",
    "def square(t):\n",
    "    for i in range(4):\n",
    "        t.fd(100)\n",
    "        t.lt(90)\n",
    "        \n",
    "square(bob)\n",
    "```"
   ]
  },
  {
   "cell_type": "markdown",
   "metadata": {
    "slideshow": {
     "slide_type": "-"
    }
   },
   "source": [
    "Inside the function, the **parameter** `t` refers to the same turtle `bob`, passed as **argument**.\n",
    "\n",
    "Why not call the parameter bob? \n",
    "\n",
    "The idea is that t can be **any** turtle, not just bob, so you could *create a second turtle and pass it* as an argument to the same function!"
   ]
  },
  {
   "cell_type": "markdown",
   "metadata": {
    "slideshow": {
     "slide_type": "subslide"
    }
   },
   "source": [
    "Wrapping a piece of code up in a function is called **encapsulation**. \n",
    "\n",
    "It attaches a name to the code, which serves as a kind of *documentation*.\n",
    "\n",
    "If you reuse the code, it is more concise to call a function twice than to copy and paste the body!"
   ]
  },
  {
   "cell_type": "markdown",
   "metadata": {
    "slideshow": {
     "slide_type": "subslide"
    }
   },
   "source": [
    "## Generalization"
   ]
  },
  {
   "cell_type": "markdown",
   "metadata": {
    "slideshow": {
     "slide_type": "-"
    }
   },
   "source": [
    "Next step, add a `length` parameter to `square`."
   ]
  },
  {
   "cell_type": "markdown",
   "metadata": {
    "slideshow": {
     "slide_type": "-"
    }
   },
   "source": [
    "```\n",
    "bob = Turtle()\n",
    "def square(t, length):\n",
    "\n",
    "    for i in range(4):\n",
    "    \n",
    "        t.fd(length)\n",
    "        t.lt(90)\n",
    "        \n",
    "square(bob, 100)\n",
    "```"
   ]
  },
  {
   "cell_type": "markdown",
   "metadata": {
    "slideshow": {
     "slide_type": "subslide"
    }
   },
   "source": [
    "Adding a parameter to a function is called **generalization**.\n",
    "\n",
    "It makes the function more general: just before the square was always the same size, now it can be any size."
   ]
  },
  {
   "cell_type": "markdown",
   "metadata": {
    "slideshow": {
     "slide_type": "subslide"
    }
   },
   "source": [
    "Next step is also a generalization, since `polygon` draws regular polygons with any number of sides, not just four!"
   ]
  },
  {
   "cell_type": "markdown",
   "metadata": {
    "slideshow": {
     "slide_type": "-"
    }
   },
   "source": [
    "```\n",
    "bob = Turtle()\n",
    "def polygon(t, n, length):\n",
    "\n",
    "    angle = 360 / n\n",
    "    \n",
    "    for i in range(n):\n",
    "    \n",
    "        t.fd(length)\n",
    "        \n",
    "        t.lt(angle)\n",
    "\n",
    "polygon(bob, 7, 70)\n",
    "```"
   ]
  },
  {
   "cell_type": "markdown",
   "metadata": {
    "slideshow": {
     "slide_type": "fragment"
    }
   },
   "source": [
    "This example draws a 7-sided polygon with side length 70."
   ]
  },
  {
   "cell_type": "markdown",
   "metadata": {
    "slideshow": {
     "slide_type": "subslide"
    }
   },
   "source": [
    "If using `Python2`, the value of angle might be **off** because of **integer division**. A simple solution is to compute it as follows"
   ]
  },
  {
   "cell_type": "markdown",
   "metadata": {
    "slideshow": {
     "slide_type": "-"
    }
   },
   "source": [
    "```\n",
    "angle = 360.0 / n\n",
    "```"
   ]
  },
  {
   "cell_type": "markdown",
   "metadata": {
    "slideshow": {
     "slide_type": "-"
    }
   },
   "source": [
    "The numerator is a **floating-point** number, as well as the result."
   ]
  },
  {
   "cell_type": "markdown",
   "metadata": {
    "slideshow": {
     "slide_type": "subslide"
    }
   },
   "source": [
    "With more than a few numeric arguments, it's easy to forget **what** they are, or what **order** they should be in!\n",
    "\n",
    "A good idea is to include the parameters' names in the argument list:"
   ]
  },
  {
   "cell_type": "markdown",
   "metadata": {
    "slideshow": {
     "slide_type": "-"
    }
   },
   "source": [
    "```\n",
    "polygon(bob, n=7, length=70)\n",
    "```"
   ]
  },
  {
   "cell_type": "markdown",
   "metadata": {
    "slideshow": {
     "slide_type": "fragment"
    }
   },
   "source": [
    "These are called **keyword arguments** including the **parameter** names as *keywords* (do not confuse with Python keywords like `while` and `def`).\n",
    "\n",
    "This syntax makes the program more readable."
   ]
  },
  {
   "cell_type": "markdown",
   "metadata": {
    "slideshow": {
     "slide_type": "subslide"
    }
   },
   "source": [
    "## Interface Design"
   ]
  },
  {
   "cell_type": "markdown",
   "metadata": {
    "slideshow": {
     "slide_type": "-"
    }
   },
   "source": [
    "Next step, write `circle` taking a radius `r` as a parameter."
   ]
  },
  {
   "cell_type": "markdown",
   "metadata": {
    "slideshow": {
     "slide_type": "-"
    }
   },
   "source": [
    "```\n",
    "import math\n",
    "\n",
    "def circle(t, r):\n",
    "    circumference = 2 * math.pi * r ; n = 50\n",
    "    \n",
    "    length = circumference / n\n",
    "    \n",
    "    polygon(t, n, length)\n",
    "```"
   ]
  },
  {
   "cell_type": "markdown",
   "metadata": {
    "slideshow": {
     "slide_type": "fragment"
    }
   },
   "source": [
    "This solution uses `polygon` to draw a 50-sided polygon that approximates a circle, with an **appropriate** length and number of **sides**!"
   ]
  },
  {
   "cell_type": "markdown",
   "metadata": {
    "slideshow": {
     "slide_type": "subslide"
    }
   },
   "source": [
    "First line computes the **circumference** of a circle with radius r. \n",
    "\n",
    "Since we use `math.pi`, we have to import `math`.\n",
    "\n",
    "By convention, import statements are usually at the beginning of the script.\n",
    "\n",
    "`n` is the number of line segments in our approximation, thus `length` is the length of each segment."
   ]
  },
  {
   "cell_type": "markdown",
   "metadata": {
    "slideshow": {
     "slide_type": "subslide"
    }
   },
   "source": [
    "A current limitation is that `n` is a **constant**,thus:\n",
    "- for very *big circles*, the line segments are too long\n",
    "- for *small circles*, we waste time drawing very small segments"
   ]
  },
  {
   "cell_type": "markdown",
   "metadata": {
    "slideshow": {
     "slide_type": "subslide"
    }
   },
   "source": [
    "A possible solution would be to **generalize** the function, taking `n` as a **parameter**, giving the user (better, the **caller**) more *control*, but the **interface** would be *less clean*."
   ]
  },
  {
   "cell_type": "markdown",
   "metadata": {
    "slideshow": {
     "slide_type": "subslide"
    }
   },
   "source": [
    "The **interface** of a function is a *summary* of how it is used:\n",
    "- What are the parameters?\n",
    "- What does the function do?\n",
    "- What is the return value? "
   ]
  },
  {
   "cell_type": "markdown",
   "metadata": {
    "slideshow": {
     "slide_type": "fragment"
    }
   },
   "source": [
    "<p style=\"text-align: center;\">An interface is <strong>clean</strong> if it allows the caller to do what they want without dealing with <strong>unnecessary details</strong>.</p>"
   ]
  },
  {
   "cell_type": "markdown",
   "metadata": {
    "slideshow": {
     "slide_type": "subslide"
    }
   },
   "source": [
    "\n",
    "- `r` belongs in the interface since it specifies the circle to be drawn.\n",
    "- `n` would be less appropriate, pertaining to the details of *how the circle should be rendered*."
   ]
  },
  {
   "cell_type": "markdown",
   "metadata": {
    "slideshow": {
     "slide_type": "subslide"
    }
   },
   "source": [
    "To avoid clutter up the interface, it's better to choose an appropriate value of `n` depending on `circumference`:"
   ]
  },
  {
   "cell_type": "markdown",
   "metadata": {
    "slideshow": {
     "slide_type": "-"
    }
   },
   "source": [
    "```\n",
    "import math\n",
    "\n",
    "def circle(t, r):\n",
    "    circumference = 2 * math.pi * r\n",
    "    n = int(circumference / 3) + 1\n",
    "    length = circumference / n\n",
    "    \n",
    "    polygon(t, n, length)\n",
    "```"
   ]
  },
  {
   "cell_type": "markdown",
   "metadata": {
    "slideshow": {
     "slide_type": "fragment"
    }
   },
   "source": [
    "The number of segments now is an integer near `circumference/3`.\n",
    "Thus, the `length` of each segment is approximately 3.\n",
    "\n",
    "... small enough that the circles look good, but big enough to be efficient!"
   ]
  },
  {
   "cell_type": "markdown",
   "metadata": {
    "slideshow": {
     "slide_type": "subslide"
    }
   },
   "source": [
    "## Refactoring"
   ]
  },
  {
   "cell_type": "markdown",
   "metadata": {
    "slideshow": {
     "slide_type": "-"
    }
   },
   "source": [
    "Writing `circle` we were able to reuse `polygon`, being suitable to approximate of a circle, but `arc` is not as cooperative!"
   ]
  },
  {
   "cell_type": "markdown",
   "metadata": {
    "slideshow": {
     "slide_type": "fragment"
    }
   },
   "source": [
    "An alternative is to start with a **copy** of `polygon` to transform it into `arc`."
   ]
  },
  {
   "cell_type": "markdown",
   "metadata": {
    "slideshow": {
     "slide_type": "subslide"
    }
   },
   "source": [
    "```\n",
    "def arc(t, r, angle):\n",
    "    arc_length = 2 * math.pi * r * angle / 360\n",
    "    n = int(arc_length / 3) + 1\n",
    "    step_length = arc_length / n\n",
    "    step_angle = angle / n\n",
    "    \n",
    "    for i in range(n):\n",
    "        t.fd(step_length)\n",
    "        t.lt(step_angle)\n",
    "```"
   ]
  },
  {
   "cell_type": "markdown",
   "metadata": {
    "slideshow": {
     "slide_type": "fragment"
    }
   },
   "source": [
    "The second half looks like `polygon`, but we can’t **reuse** polygon without **changing** (aka **refactoring**) the interface!"
   ]
  },
  {
   "cell_type": "markdown",
   "metadata": {
    "slideshow": {
     "slide_type": "subslide"
    }
   },
   "source": [
    "We could **generalize** polygon to take an `angle` as a third **argument**, but then `polygon` would no longer be an appropriate name!\n",
    "\n",
    "Instead, let’s call the more general function `polyline`:"
   ]
  },
  {
   "cell_type": "markdown",
   "metadata": {
    "slideshow": {
     "slide_type": "-"
    }
   },
   "source": [
    "```\n",
    "def polyline(t, n, length, angle):\n",
    "    for i in range(n):\n",
    "        t.fd(length)\n",
    "        t.lt(angle)\n",
    "```"
   ]
  },
  {
   "cell_type": "markdown",
   "metadata": {
    "slideshow": {
     "slide_type": "subslide"
    }
   },
   "source": [
    "Now we can **rewrite** (aka **refactor**) `polygon` and `arc` using `polyline`:"
   ]
  },
  {
   "cell_type": "markdown",
   "metadata": {
    "slideshow": {
     "slide_type": "-"
    }
   },
   "source": [
    "```\n",
    "def polygon(t, n, length):\n",
    "    angle = 360.0 / n\n",
    "    polyline(t, n, length, angle)\n",
    "\n",
    "def arc(t, r, angle):\n",
    "    arc_length = 2 * math.pi * r * angle / 360\n",
    "    n = int(arc_length / 3) + 1\n",
    "    step_length = arc_length / n\n",
    "    step_angle = float(angle) / n\n",
    "    polyline(t, n, step_length, step_angle)\n",
    "```"
   ]
  },
  {
   "cell_type": "markdown",
   "metadata": {
    "slideshow": {
     "slide_type": "subslide"
    }
   },
   "source": [
    "... and we can **rewrite** `circle` using `arc` !"
   ]
  },
  {
   "cell_type": "markdown",
   "metadata": {
    "slideshow": {
     "slide_type": "-"
    }
   },
   "source": [
    "```\n",
    "def circle(t, r):\n",
    "    arc(t, r, 360)\n",
    "```"
   ]
  },
  {
   "cell_type": "markdown",
   "metadata": {
    "slideshow": {
     "slide_type": "fragment"
    }
   },
   "source": [
    "The process of **rearranging** a program to **improve** interfaces and facilitate code reuse is called refactoring.\n",
    "\n",
    "Once noticed that `arc` and `polygon` were **similar code**, we *factored them out* into `polyline` !"
   ]
  },
  {
   "cell_type": "markdown",
   "metadata": {
    "slideshow": {
     "slide_type": "subslide"
    }
   },
   "source": [
    "If planned ahead, we might have written first `polyline` avoiding refactoring, but often you don’t know enough at the beginning of a project to design all the interfaces. \n",
    "\n",
    "Once you start coding, you **understand the problem** better."
   ]
  },
  {
   "cell_type": "markdown",
   "metadata": {
    "slideshow": {
     "slide_type": "fragment"
    }
   },
   "source": [
    "<p style=\"text-align: center;\">Sometimes refactoring is a sign that you have learned something.</p>"
   ]
  },
  {
   "cell_type": "markdown",
   "metadata": {
    "slideshow": {
     "slide_type": "slide"
    }
   },
   "source": [
    "## A Development Plan"
   ]
  },
  {
   "cell_type": "markdown",
   "metadata": {
    "slideshow": {
     "slide_type": "-"
    }
   },
   "source": [
    "A process for writing programs. The development plan used so far was “encapsulation & generalization”.\n",
    "\n",
    "1. Start with a small program &ndash; no function definitions.\n",
    "2. Once you get it working, identify coherent pieces & encapsulate them in functions.\n",
    "3. Generalize these functions by adding appropriate parameters.\n",
    "4. Get a set of working functions (steps 1–3): **copy/paste** working code avoids retyping (and **re-debugging**).\n",
    "5. Further improve it, looks for similar code to factor out into an appropriately general function."
   ]
  },
  {
   "cell_type": "markdown",
   "metadata": {
    "slideshow": {
     "slide_type": "subslide"
    }
   },
   "source": [
    "This process has some drawbacks. We will see alternatives later, but it can be useful if you don’t know ahead of time how to divide the program into functions.\n",
    "\n",
    "This approach lets you design as you go along."
   ]
  },
  {
   "cell_type": "markdown",
   "metadata": {
    "slideshow": {
     "slide_type": "subslide"
    }
   },
   "source": [
    "## docstring"
   ]
  },
  {
   "cell_type": "markdown",
   "metadata": {
    "slideshow": {
     "slide_type": "-"
    }
   },
   "source": [
    "Is a string at the beginning of a function that **explains the interface** (*doc* is short for *documentation*)."
   ]
  },
  {
   "cell_type": "markdown",
   "metadata": {
    "slideshow": {
     "slide_type": "fragment"
    }
   },
   "source": [
    "```\n",
    "def polyline(t, n, length, angle):\n",
    "    \"\"\"Draws n line segments with the given length and\n",
    "    angle (in degrees) between them.  t is a turtle.\n",
    "    \"\"\"    \n",
    "    for i in range(n):\n",
    "        t.fd(length)\n",
    "        t.lt(angle)\n",
    "```"
   ]
  },
  {
   "cell_type": "markdown",
   "metadata": {
    "slideshow": {
     "slide_type": "-"
    }
   },
   "source": [
    "By convention, docstrings are **triple-quoted strings**, also known as **multiline strings**, since this  the string to span more than one line."
   ]
  },
  {
   "cell_type": "markdown",
   "metadata": {
    "slideshow": {
     "slide_type": "subslide"
    }
   },
   "source": [
    "It is **terse**, but it contains the **essential information** someone would need to use this function.\n",
    "\n",
    "It explains concisely what the function does (without getting into the details of how it does it), explaining the effect of each parameter and its type."
   ]
  },
  {
   "cell_type": "markdown",
   "metadata": {
    "slideshow": {
     "slide_type": "fragment"
    }
   },
   "source": [
    "<p style=\"text-align: center;\">Writing this kind of documentation is an important part of interface design.</p>"
   ]
  },
  {
   "cell_type": "markdown",
   "metadata": {
    "slideshow": {
     "slide_type": "fragment"
    }
   },
   "source": [
    "A **well-designed** interface should be **simple to explain**; if you have a hard time explaining one of your functions, maybe the interface could be improved."
   ]
  },
  {
   "cell_type": "markdown",
   "metadata": {
    "slideshow": {
     "slide_type": "slide"
    }
   },
   "source": [
    "## Debugging"
   ]
  },
  {
   "cell_type": "markdown",
   "metadata": {
    "slideshow": {
     "slide_type": "-"
    }
   },
   "source": [
    "An interface is like a **contract** between a *function* and a *caller*. \n",
    "\n",
    "- The caller agrees to provide certain parameters\n",
    "- The function agrees to do certain work"
   ]
  },
  {
   "cell_type": "markdown",
   "metadata": {
    "slideshow": {
     "slide_type": "subslide"
    }
   },
   "source": [
    "For example, `polyline` requires four arguments: \n",
    "- `t` has to be a Turtle;\n",
    "- `n` has to be an integer;\n",
    "- `length` should be a positive number;\n",
    "- `angle` has to be a number (in degrees)."
   ]
  },
  {
   "cell_type": "markdown",
   "metadata": {
    "slideshow": {
     "slide_type": "fragment"
    }
   },
   "source": [
    "These *requirements* are called **preconditions** because they are supposed to be true before the function starts executing."
   ]
  },
  {
   "cell_type": "markdown",
   "metadata": {
    "slideshow": {
     "slide_type": "fragment"
    }
   },
   "source": [
    "Conversely, *conditions at the end of the function* are **postconditions**, including the intended effect of the function and any side effects!"
   ]
  },
  {
   "cell_type": "markdown",
   "metadata": {
    "slideshow": {
     "slide_type": "subslide"
    }
   },
   "source": [
    "Preconditions are the *responsibility of the caller*. If the caller violates a (properly documented!) precondition and the function doesn’t work correctly, the **bug** is in the caller, not the function.\n",
    "\n",
    "If the preconditions are satisfied and the postconditions are not, the **bug** is in the function. If your **pre/postconditions** are clear, they can help with debugging."
   ]
  }
 ],
 "metadata": {
  "celltoolbar": "Slideshow",
  "kernelspec": {
   "display_name": "Python 3",
   "language": "python",
   "name": "python3"
  },
  "language_info": {
   "codemirror_mode": {
    "name": "ipython",
    "version": 3
   },
   "file_extension": ".py",
   "mimetype": "text/x-python",
   "name": "python",
   "nbconvert_exporter": "python",
   "pygments_lexer": "ipython3",
   "version": "3.4.5"
  }
 },
 "nbformat": 4,
 "nbformat_minor": 2
}
