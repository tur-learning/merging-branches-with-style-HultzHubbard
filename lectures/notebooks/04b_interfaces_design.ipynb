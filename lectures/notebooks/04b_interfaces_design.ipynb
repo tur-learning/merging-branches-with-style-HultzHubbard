{
  "cells": [
    {
      "cell_type": "markdown",
      "metadata": {},
      "source": [
        "<a href=\"https://colab.research.google.com/github/tur-learning/CIS1051-python/blob/lectures/lectures/notebooks/04b_interfaces_design.ipynb\" target=\"_parent\"><img src=\"https://colab.research.google.com/assets/colab-badge.svg\" alt=\"Open In Colab\"/></a>"
      ]
    },
    {
      "cell_type": "markdown",
      "metadata": {
        "id": "nVDtWg5BpfQW"
      },
      "source": [
        "# Interface Design\n",
        "\n",
        "The following case study presents how to design functions that work together.\n",
        "\n",
        "This is done introducing the <code>turtle</code> module, to draw images using turtle graphics."
      ]
    },
    {
      "cell_type": "markdown",
      "metadata": {
        "id": "cvcA0BFcsXwM"
      },
      "source": [
        "## The Turtle Module\n",
        "\n",
        "The <a href=\"https://docs.python.org/3/library/turtle.html\">turtle module</a> is included in most Python installations, but if you are running Python in the browser, like using\n",
        "- <em>PythonAnywhere</em>\n",
        "- <em>Google Colab</em>\n",
        "- a <em>Docker container</em>\n",
        "\n",
        "anything won't appear on your screen since there's no <code>$DISPLAY</code> at all :)\n",
        "\n",
        "Fortunately, there exists an <a href=\"https://github.com/tolgaatam/ColabTurtle/\">HTML based Turtle implementation</a> by Tolga Atam (tolgaatam) to work in Google Colab, this is what we are going to use troughout the case study."
      ]
    },
    {
      "cell_type": "markdown",
      "metadata": {
        "id": "2xu7m_-8XwEi"
      },
      "source": [
        "To ensure the <code>turtle</code> module is installed in the current notebook environment, run the following code block (just once)."
      ]
    },
    {
      "cell_type": "code",
      "execution_count": 10,
      "metadata": {
        "colab": {
          "base_uri": "https://localhost:8080/"
        },
        "id": "2ISLuNPF2LKE",
        "outputId": "e9d6ecaf-69ff-4b96-8bd9-2b8f9f10e809"
      },
      "outputs": [
        {
          "name": "stdout",
          "output_type": "stream",
          "text": [
            "Requirement already satisfied: ColabTurtle in /usr/local/lib/python3.10/dist-packages (2.1.0)\n"
          ]
        }
      ],
      "source": [
        "!pip3 install ColabTurtle\n",
        "import ColabTurtle.Turtle as turtle"
      ]
    },
    {
      "cell_type": "markdown",
      "metadata": {
        "id": "uWENJXy0-fkU"
      },
      "source": [
        "<br/><br/>\n",
        "The <code>initializeTurtle()</code> function call will create a turtle for us ... and a new window should pop-up!\n",
        "\n",
        "If you already have a turtle, the <code>intializeTurtle()</code> function will erase your turtle's history so that you can start over."
      ]
    },
    {
      "cell_type": "code",
      "execution_count": 20,
      "metadata": {
        "colab": {
          "base_uri": "https://localhost:8080/",
          "height": 521
        },
        "id": "fZ4V9cYZuYJy",
        "outputId": "f4004609-52d2-4a1a-d602-687099b0ba3d"
      },
      "outputs": [
        {
          "data": {
            "text/html": [
              "\n",
              "      <svg width=\"800\" height=\"500\">\n",
              "        <rect width=\"100%\" height=\"100%\" fill=\"black\"/>\n",
              "        \n",
              "        <g visibility=visible transform=\"rotate(360,400,250) translate(382, 232)\">\n",
              "<path style=\" stroke:none;fill-rule:evenodd;fill:white;fill-opacity:1;\" d=\"M 18.214844 0.632812 C 16.109375 1.800781 15.011719 4.074219 15.074219 7.132812 L 15.085938 7.652344 L 14.785156 7.496094 C 13.476562 6.824219 11.957031 6.671875 10.40625 7.066406 C 8.46875 7.550781 6.515625 9.15625 4.394531 11.992188 C 3.0625 13.777344 2.679688 14.636719 3.042969 15.027344 L 3.15625 15.152344 L 3.519531 15.152344 C 4.238281 15.152344 4.828125 14.886719 8.1875 13.039062 C 9.386719 12.378906 10.371094 11.839844 10.378906 11.839844 C 10.386719 11.839844 10.355469 11.929688 10.304688 12.035156 C 9.832031 13.09375 9.257812 14.820312 8.96875 16.078125 C 7.914062 20.652344 8.617188 24.53125 11.070312 27.660156 C 11.351562 28.015625 11.363281 27.914062 10.972656 28.382812 C 8.925781 30.84375 7.945312 33.28125 8.238281 35.1875 C 8.289062 35.527344 8.28125 35.523438 8.917969 35.523438 C 10.941406 35.523438 13.074219 34.207031 15.136719 31.6875 C 15.359375 31.417969 15.328125 31.425781 15.5625 31.574219 C 16.292969 32.042969 18.023438 32.964844 18.175781 32.964844 C 18.335938 32.964844 19.941406 32.210938 20.828125 31.71875 C 20.996094 31.625 21.136719 31.554688 21.136719 31.558594 C 21.203125 31.664062 21.898438 32.414062 22.222656 32.730469 C 23.835938 34.300781 25.5625 35.132812 27.582031 35.300781 C 27.90625 35.328125 27.9375 35.308594 28.007812 34.984375 C 28.382812 33.242188 27.625 30.925781 25.863281 28.425781 L 25.542969 27.96875 L 25.699219 27.785156 C 28.945312 23.960938 29.132812 18.699219 26.257812 11.96875 L 26.207031 11.84375 L 27.945312 12.703125 C 31.53125 14.476562 32.316406 14.800781 33.03125 14.800781 C 33.976562 14.800781 33.78125 13.9375 32.472656 12.292969 C 28.519531 7.355469 25.394531 5.925781 21.921875 7.472656 L 21.558594 7.636719 L 21.578125 7.542969 C 21.699219 6.992188 21.761719 5.742188 21.699219 5.164062 C 21.496094 3.296875 20.664062 1.964844 19.003906 0.855469 C 18.480469 0.503906 18.457031 0.5 18.214844 0.632812\"/>\n",
              "</g>\n",
              "      </svg>\n",
              "    "
            ],
            "text/plain": [
              "<IPython.core.display.HTML object>"
            ]
          },
          "metadata": {},
          "output_type": "display_data"
        }
      ],
      "source": [
        "turtle.initializeTurtle()"
      ]
    },
    {
      "cell_type": "markdown",
      "metadata": {
        "id": "Y_i4_0XuZTA8"
      },
      "source": [
        "Thus, the <code>ColabTurtle</code> module allows for <em>a single instance</em> of a turtle at a time ... in a future case study we will import <code>ColabTurtlePlus</code> an <a href=\"https://github.com/mathriddle/ColabTurtlePlus\">extension of the original one using classes</a>\n",
        ", to allow for multiple turtle instances."
      ]
    },
    {
      "cell_type": "markdown",
      "metadata": {
        "id": "TqjI2Mylsqnu"
      },
      "source": [
        "## Moving around the turtle"
      ]
    },
    {
      "cell_type": "markdown",
      "metadata": {
        "id": "U5LCHU1AsyEr"
      },
      "source": [
        "Once created a Turtle, there are some functions to move it around the window."
      ]
    },
    {
      "cell_type": "code",
      "execution_count": 21,
      "metadata": {
        "colab": {
          "base_uri": "https://localhost:8080/",
          "height": 521
        },
        "id": "w02iN8ids52l",
        "outputId": "3e006dd4-3bd1-403c-d1d9-f532d16189b8"
      },
      "outputs": [
        {
          "data": {
            "text/html": [
              "\n",
              "      <svg width=\"800\" height=\"500\">\n",
              "        <rect width=\"100%\" height=\"100%\" fill=\"black\"/>\n",
              "        <line x1=\"400\" y1=\"250\" x2=\"400.0\" y2=\"150.0\" stroke-linecap=\"round\" style=\"stroke:white;stroke-width:4\"/>\n",
              "        <g visibility=visible transform=\"rotate(360,400.0,150.0) translate(382.0, 132.0)\">\n",
              "<path style=\" stroke:none;fill-rule:evenodd;fill:white;fill-opacity:1;\" d=\"M 18.214844 0.632812 C 16.109375 1.800781 15.011719 4.074219 15.074219 7.132812 L 15.085938 7.652344 L 14.785156 7.496094 C 13.476562 6.824219 11.957031 6.671875 10.40625 7.066406 C 8.46875 7.550781 6.515625 9.15625 4.394531 11.992188 C 3.0625 13.777344 2.679688 14.636719 3.042969 15.027344 L 3.15625 15.152344 L 3.519531 15.152344 C 4.238281 15.152344 4.828125 14.886719 8.1875 13.039062 C 9.386719 12.378906 10.371094 11.839844 10.378906 11.839844 C 10.386719 11.839844 10.355469 11.929688 10.304688 12.035156 C 9.832031 13.09375 9.257812 14.820312 8.96875 16.078125 C 7.914062 20.652344 8.617188 24.53125 11.070312 27.660156 C 11.351562 28.015625 11.363281 27.914062 10.972656 28.382812 C 8.925781 30.84375 7.945312 33.28125 8.238281 35.1875 C 8.289062 35.527344 8.28125 35.523438 8.917969 35.523438 C 10.941406 35.523438 13.074219 34.207031 15.136719 31.6875 C 15.359375 31.417969 15.328125 31.425781 15.5625 31.574219 C 16.292969 32.042969 18.023438 32.964844 18.175781 32.964844 C 18.335938 32.964844 19.941406 32.210938 20.828125 31.71875 C 20.996094 31.625 21.136719 31.554688 21.136719 31.558594 C 21.203125 31.664062 21.898438 32.414062 22.222656 32.730469 C 23.835938 34.300781 25.5625 35.132812 27.582031 35.300781 C 27.90625 35.328125 27.9375 35.308594 28.007812 34.984375 C 28.382812 33.242188 27.625 30.925781 25.863281 28.425781 L 25.542969 27.96875 L 25.699219 27.785156 C 28.945312 23.960938 29.132812 18.699219 26.257812 11.96875 L 26.207031 11.84375 L 27.945312 12.703125 C 31.53125 14.476562 32.316406 14.800781 33.03125 14.800781 C 33.976562 14.800781 33.78125 13.9375 32.472656 12.292969 C 28.519531 7.355469 25.394531 5.925781 21.921875 7.472656 L 21.558594 7.636719 L 21.578125 7.542969 C 21.699219 6.992188 21.761719 5.742188 21.699219 5.164062 C 21.496094 3.296875 20.664062 1.964844 19.003906 0.855469 C 18.480469 0.503906 18.457031 0.5 18.214844 0.632812\"/>\n",
              "</g>\n",
              "      </svg>\n",
              "    "
            ],
            "text/plain": [
              "<IPython.core.display.HTML object>"
            ]
          },
          "metadata": {},
          "output_type": "display_data"
        }
      ],
      "source": [
        "turtle.fd(100) # move bob forward, by 100 pixels"
      ]
    },
    {
      "cell_type": "markdown",
      "metadata": {
        "id": "4t1EltxhxZN0"
      },
      "source": [
        "Other functions one can call on the turtle are:\n",
        "<ul>\n",
        "<li><code>bk</code> to move backward</li>\n",
        "<li><code>lt</code> turn left (by an angle in degrees)</li>\n",
        "<li><code>rt</code> turn right (by an angle in degrees)</li>\n",
        "</ul>"
      ]
    },
    {
      "cell_type": "markdown",
      "metadata": {
        "id": "J8SBFbc6yMPh"
      },
      "source": [
        "Each Turtle is holding a pen, which is either\n",
        "<ul>\n",
        "<li><code>pd</code> down</li>\n",
        "<li><code>pu</code> up</li>\n",
        "</ul>\n",
        "for the Turtle to leave a trail when it moves."
      ]
    },
    {
      "cell_type": "markdown",
      "metadata": {
        "id": "vnSBXD-EyZEM"
      },
      "source": [
        "To draw a right angle, add these lines to the above blocks"
      ]
    },
    {
      "cell_type": "code",
      "execution_count": 23,
      "metadata": {
        "colab": {
          "base_uri": "https://localhost:8080/",
          "height": 521
        },
        "id": "OnaxZO9CyJXt",
        "outputId": "ee274ae4-02fa-47a8-fccb-b0eee2351988"
      },
      "outputs": [
        {
          "data": {
            "text/html": [
              "\n",
              "      <svg width=\"800\" height=\"500\">\n",
              "        <rect width=\"100%\" height=\"100%\" fill=\"black\"/>\n",
              "        <line x1=\"400\" y1=\"250\" x2=\"400.0\" y2=\"150.0\" stroke-linecap=\"round\" style=\"stroke:white;stroke-width:4\"/><line x1=\"400.0\" y1=\"150.0\" x2=\"500.0\" y2=\"150.0\" stroke-linecap=\"round\" style=\"stroke:white;stroke-width:4\"/>\n",
              "        <g visibility=visible transform=\"rotate(90,500.0,150.0) translate(482.0, 132.0)\">\n",
              "<path style=\" stroke:none;fill-rule:evenodd;fill:white;fill-opacity:1;\" d=\"M 18.214844 0.632812 C 16.109375 1.800781 15.011719 4.074219 15.074219 7.132812 L 15.085938 7.652344 L 14.785156 7.496094 C 13.476562 6.824219 11.957031 6.671875 10.40625 7.066406 C 8.46875 7.550781 6.515625 9.15625 4.394531 11.992188 C 3.0625 13.777344 2.679688 14.636719 3.042969 15.027344 L 3.15625 15.152344 L 3.519531 15.152344 C 4.238281 15.152344 4.828125 14.886719 8.1875 13.039062 C 9.386719 12.378906 10.371094 11.839844 10.378906 11.839844 C 10.386719 11.839844 10.355469 11.929688 10.304688 12.035156 C 9.832031 13.09375 9.257812 14.820312 8.96875 16.078125 C 7.914062 20.652344 8.617188 24.53125 11.070312 27.660156 C 11.351562 28.015625 11.363281 27.914062 10.972656 28.382812 C 8.925781 30.84375 7.945312 33.28125 8.238281 35.1875 C 8.289062 35.527344 8.28125 35.523438 8.917969 35.523438 C 10.941406 35.523438 13.074219 34.207031 15.136719 31.6875 C 15.359375 31.417969 15.328125 31.425781 15.5625 31.574219 C 16.292969 32.042969 18.023438 32.964844 18.175781 32.964844 C 18.335938 32.964844 19.941406 32.210938 20.828125 31.71875 C 20.996094 31.625 21.136719 31.554688 21.136719 31.558594 C 21.203125 31.664062 21.898438 32.414062 22.222656 32.730469 C 23.835938 34.300781 25.5625 35.132812 27.582031 35.300781 C 27.90625 35.328125 27.9375 35.308594 28.007812 34.984375 C 28.382812 33.242188 27.625 30.925781 25.863281 28.425781 L 25.542969 27.96875 L 25.699219 27.785156 C 28.945312 23.960938 29.132812 18.699219 26.257812 11.96875 L 26.207031 11.84375 L 27.945312 12.703125 C 31.53125 14.476562 32.316406 14.800781 33.03125 14.800781 C 33.976562 14.800781 33.78125 13.9375 32.472656 12.292969 C 28.519531 7.355469 25.394531 5.925781 21.921875 7.472656 L 21.558594 7.636719 L 21.578125 7.542969 C 21.699219 6.992188 21.761719 5.742188 21.699219 5.164062 C 21.496094 3.296875 20.664062 1.964844 19.003906 0.855469 C 18.480469 0.503906 18.457031 0.5 18.214844 0.632812\"/>\n",
              "</g>\n",
              "      </svg>\n",
              "    "
            ],
            "text/plain": [
              "<IPython.core.display.HTML object>"
            ]
          },
          "metadata": {},
          "output_type": "display_data"
        }
      ],
      "source": [
        "turtle.initializeTurtle() # to refresh the turtle's history\n",
        "\n",
        "turtle.fd(100)\n",
        "turtle.rt(90)\n",
        "turtle.fd(100)"
      ]
    },
    {
      "cell_type": "markdown",
      "metadata": {
        "id": "ofZMpf6Zy56y"
      },
      "source": [
        "remeber to refresh the turtle's history with the <code>intializeTurtle()</code> function!"
      ]
    },
    {
      "cell_type": "markdown",
      "metadata": {
        "id": "X4pGECqazXez"
      },
      "source": [
        "## Simple Repetition\n",
        "\n",
        "Modify the program to draw a square. Let's do it together!"
      ]
    },
    {
      "cell_type": "markdown",
      "metadata": {
        "id": "kbjFJs4QzbRx"
      },
      "source": [
        "<br/><br/>\n",
        "Probably, the easiest way to go would be"
      ]
    },
    {
      "cell_type": "code",
      "execution_count": 26,
      "metadata": {
        "colab": {
          "base_uri": "https://localhost:8080/",
          "height": 521
        },
        "id": "iCYsIW0Ix46N",
        "outputId": "47bb5f07-6a80-4b50-d767-94fc50c35a27"
      },
      "outputs": [
        {
          "data": {
            "text/html": [
              "\n",
              "      <svg width=\"800\" height=\"500\">\n",
              "        <rect width=\"100%\" height=\"100%\" fill=\"black\"/>\n",
              "        <line x1=\"400\" y1=\"250\" x2=\"400.0\" y2=\"150.0\" stroke-linecap=\"round\" style=\"stroke:white;stroke-width:4\"/><line x1=\"400.0\" y1=\"150.0\" x2=\"300.0\" y2=\"150.0\" stroke-linecap=\"round\" style=\"stroke:white;stroke-width:4\"/><line x1=\"300.0\" y1=\"150.0\" x2=\"300.0\" y2=\"250.0\" stroke-linecap=\"round\" style=\"stroke:white;stroke-width:4\"/><line x1=\"300.0\" y1=\"250.0\" x2=\"400.0\" y2=\"250.0\" stroke-linecap=\"round\" style=\"stroke:white;stroke-width:4\"/>\n",
              "        <g visibility=visible transform=\"rotate(90,400.0,250.0) translate(382.0, 232.0)\">\n",
              "<path style=\" stroke:none;fill-rule:evenodd;fill:white;fill-opacity:1;\" d=\"M 18.214844 0.632812 C 16.109375 1.800781 15.011719 4.074219 15.074219 7.132812 L 15.085938 7.652344 L 14.785156 7.496094 C 13.476562 6.824219 11.957031 6.671875 10.40625 7.066406 C 8.46875 7.550781 6.515625 9.15625 4.394531 11.992188 C 3.0625 13.777344 2.679688 14.636719 3.042969 15.027344 L 3.15625 15.152344 L 3.519531 15.152344 C 4.238281 15.152344 4.828125 14.886719 8.1875 13.039062 C 9.386719 12.378906 10.371094 11.839844 10.378906 11.839844 C 10.386719 11.839844 10.355469 11.929688 10.304688 12.035156 C 9.832031 13.09375 9.257812 14.820312 8.96875 16.078125 C 7.914062 20.652344 8.617188 24.53125 11.070312 27.660156 C 11.351562 28.015625 11.363281 27.914062 10.972656 28.382812 C 8.925781 30.84375 7.945312 33.28125 8.238281 35.1875 C 8.289062 35.527344 8.28125 35.523438 8.917969 35.523438 C 10.941406 35.523438 13.074219 34.207031 15.136719 31.6875 C 15.359375 31.417969 15.328125 31.425781 15.5625 31.574219 C 16.292969 32.042969 18.023438 32.964844 18.175781 32.964844 C 18.335938 32.964844 19.941406 32.210938 20.828125 31.71875 C 20.996094 31.625 21.136719 31.554688 21.136719 31.558594 C 21.203125 31.664062 21.898438 32.414062 22.222656 32.730469 C 23.835938 34.300781 25.5625 35.132812 27.582031 35.300781 C 27.90625 35.328125 27.9375 35.308594 28.007812 34.984375 C 28.382812 33.242188 27.625 30.925781 25.863281 28.425781 L 25.542969 27.96875 L 25.699219 27.785156 C 28.945312 23.960938 29.132812 18.699219 26.257812 11.96875 L 26.207031 11.84375 L 27.945312 12.703125 C 31.53125 14.476562 32.316406 14.800781 33.03125 14.800781 C 33.976562 14.800781 33.78125 13.9375 32.472656 12.292969 C 28.519531 7.355469 25.394531 5.925781 21.921875 7.472656 L 21.558594 7.636719 L 21.578125 7.542969 C 21.699219 6.992188 21.761719 5.742188 21.699219 5.164062 C 21.496094 3.296875 20.664062 1.964844 19.003906 0.855469 C 18.480469 0.503906 18.457031 0.5 18.214844 0.632812\"/>\n",
              "</g>\n",
              "      </svg>\n",
              "    "
            ],
            "text/plain": [
              "<IPython.core.display.HTML object>"
            ]
          },
          "metadata": {},
          "output_type": "display_data"
        }
      ],
      "source": [
        "turtle.initializeTurtle()\n",
        "\n",
        "turtle.fd(100) ; turtle.lt(90)  # 1st side\n",
        "turtle.fd(100) ; turtle.lt(90)  # 2nd side\n",
        "turtle.fd(100) ; turtle.lt(90)  # 3rd side\n",
        "turtle.fd(100)                  # last side"
      ]
    },
    {
      "cell_type": "markdown",
      "metadata": {
        "id": "1vgZx4Kk0bUe"
      },
      "source": [
        "Otherwise – more concisely – with a <code>for</code> statement.\n",
        "<br/><br/>\n",
        "This is the simplest use of the for statement:"
      ]
    },
    {
      "cell_type": "code",
      "execution_count": 27,
      "metadata": {
        "colab": {
          "base_uri": "https://localhost:8080/"
        },
        "id": "Ta2PYRc_tb1I",
        "outputId": "9f7fa752-a00b-491d-cc1b-63e1cb83838e"
      },
      "outputs": [
        {
          "name": "stdout",
          "output_type": "stream",
          "text": [
            "Hello!\n",
            "Hello!\n",
            "Hello!\n",
            "Hello!\n"
          ]
        }
      ],
      "source": [
        "for i in range(4):\n",
        "    print('Hello!')"
      ]
    },
    {
      "cell_type": "markdown",
      "metadata": {
        "id": "dnocm3P102GA"
      },
      "source": [
        "... don't care about the iterator value?\n",
        "<br/><br/>Just think about it should run some specific number of times!"
      ]
    },
    {
      "cell_type": "code",
      "execution_count": 28,
      "metadata": {
        "colab": {
          "base_uri": "https://localhost:8080/"
        },
        "id": "_JRmHUlOxeBP",
        "outputId": "63cd66af-50f3-4df0-8e08-7e35bd35dda3"
      },
      "outputs": [
        {
          "name": "stdout",
          "output_type": "stream",
          "text": [
            "Hello!\n",
            "Hello!\n",
            "Hello!\n",
            "Hello!\n"
          ]
        }
      ],
      "source": [
        "for _ in range(4):\n",
        "    print('Hello!')"
      ]
    },
    {
      "cell_type": "markdown",
      "metadata": {
        "id": "duM5UrUi1bNJ"
      },
      "source": [
        "The syntax is similar to a function definition, with:\n",
        "<ul>\n",
        "<li>an <strong>header</strong> that ends with a colon</li>\n",
        "<li>an indented <strong>body</strong></li>\n",
        "</ul>\n",
        "\n",
        "The body can contain any number of statements."
      ]
    },
    {
      "cell_type": "markdown",
      "metadata": {
        "id": "pFXAY4k-2ZQS"
      },
      "source": [
        "A for statement is also called a <strong>loop</strong> because the <strong>flow of execution</strong> runs through the body and then loops back to the top."
      ]
    },
    {
      "cell_type": "markdown",
      "metadata": {
        "id": "sm4XwOfg2e65"
      },
      "source": [
        "This <code>for</code> statement draws a square:\n",
        "\n"
      ]
    },
    {
      "cell_type": "code",
      "execution_count": 37,
      "metadata": {
        "colab": {
          "base_uri": "https://localhost:8080/",
          "height": 521
        },
        "id": "EikOad5NxeD_",
        "outputId": "ee821fc0-60ff-4119-edf3-911b5242dcc5"
      },
      "outputs": [
        {
          "data": {
            "text/html": [
              "\n",
              "      <svg width=\"800\" height=\"500\">\n",
              "        <rect width=\"100%\" height=\"100%\" fill=\"black\"/>\n",
              "        <line x1=\"400\" y1=\"250\" x2=\"400.0\" y2=\"150.0\" stroke-linecap=\"round\" style=\"stroke:white;stroke-width:4\"/><line x1=\"400.0\" y1=\"150.0\" x2=\"300.0\" y2=\"150.0\" stroke-linecap=\"round\" style=\"stroke:white;stroke-width:4\"/><line x1=\"300.0\" y1=\"150.0\" x2=\"300.0\" y2=\"250.0\" stroke-linecap=\"round\" style=\"stroke:white;stroke-width:4\"/><line x1=\"300.0\" y1=\"250.0\" x2=\"400.0\" y2=\"250.0\" stroke-linecap=\"round\" style=\"stroke:white;stroke-width:4\"/>\n",
              "        <g visibility=visible transform=\"rotate(360,400.0,250.0) translate(382.0, 232.0)\">\n",
              "<path style=\" stroke:none;fill-rule:evenodd;fill:white;fill-opacity:1;\" d=\"M 18.214844 0.632812 C 16.109375 1.800781 15.011719 4.074219 15.074219 7.132812 L 15.085938 7.652344 L 14.785156 7.496094 C 13.476562 6.824219 11.957031 6.671875 10.40625 7.066406 C 8.46875 7.550781 6.515625 9.15625 4.394531 11.992188 C 3.0625 13.777344 2.679688 14.636719 3.042969 15.027344 L 3.15625 15.152344 L 3.519531 15.152344 C 4.238281 15.152344 4.828125 14.886719 8.1875 13.039062 C 9.386719 12.378906 10.371094 11.839844 10.378906 11.839844 C 10.386719 11.839844 10.355469 11.929688 10.304688 12.035156 C 9.832031 13.09375 9.257812 14.820312 8.96875 16.078125 C 7.914062 20.652344 8.617188 24.53125 11.070312 27.660156 C 11.351562 28.015625 11.363281 27.914062 10.972656 28.382812 C 8.925781 30.84375 7.945312 33.28125 8.238281 35.1875 C 8.289062 35.527344 8.28125 35.523438 8.917969 35.523438 C 10.941406 35.523438 13.074219 34.207031 15.136719 31.6875 C 15.359375 31.417969 15.328125 31.425781 15.5625 31.574219 C 16.292969 32.042969 18.023438 32.964844 18.175781 32.964844 C 18.335938 32.964844 19.941406 32.210938 20.828125 31.71875 C 20.996094 31.625 21.136719 31.554688 21.136719 31.558594 C 21.203125 31.664062 21.898438 32.414062 22.222656 32.730469 C 23.835938 34.300781 25.5625 35.132812 27.582031 35.300781 C 27.90625 35.328125 27.9375 35.308594 28.007812 34.984375 C 28.382812 33.242188 27.625 30.925781 25.863281 28.425781 L 25.542969 27.96875 L 25.699219 27.785156 C 28.945312 23.960938 29.132812 18.699219 26.257812 11.96875 L 26.207031 11.84375 L 27.945312 12.703125 C 31.53125 14.476562 32.316406 14.800781 33.03125 14.800781 C 33.976562 14.800781 33.78125 13.9375 32.472656 12.292969 C 28.519531 7.355469 25.394531 5.925781 21.921875 7.472656 L 21.558594 7.636719 L 21.578125 7.542969 C 21.699219 6.992188 21.761719 5.742188 21.699219 5.164062 C 21.496094 3.296875 20.664062 1.964844 19.003906 0.855469 C 18.480469 0.503906 18.457031 0.5 18.214844 0.632812\"/>\n",
              "</g>\n",
              "      </svg>\n",
              "    "
            ],
            "text/plain": [
              "<IPython.core.display.HTML object>"
            ]
          },
          "metadata": {},
          "output_type": "display_data"
        }
      ],
      "source": [
        "turtle.initializeTurtle()\n",
        "\n",
        "for _ in range(4):\n",
        "    turtle.fd(100)\n",
        "    turtle.lt(90)"
      ]
    },
    {
      "cell_type": "markdown",
      "metadata": {
        "id": "TZokDJYY3Kot"
      },
      "source": [
        "<p>This version – actually – slightly differs from the previous one, because of the <em>extra turn it takes</em></p>\n",
        "<p>... but it <strong>simplifies the code</strong> repeating the same thing through the loop!</p>"
      ]
    },
    {
      "cell_type": "markdown",
      "metadata": {
        "id": "uJWPB_Kg3fWQ"
      },
      "source": [
        "# Assignment"
      ]
    },
    {
      "cell_type": "markdown",
      "metadata": {
        "id": "OYcXEAbL32Oh"
      },
      "source": [
        "<ol>\n",
        "<li>A function <code>square</code> takes no <strong>parameter</strong> and draws a square. Call <code>square</code> function passing no <strong>argument</strong>.</li>\n",
        "<li>The <code>square</code> function takes the side's <code>length</code> as <strong>parameter</strong>. Pass this <strong>argument</strong> and <strong>test</strong> a range of values too.</li>\n",
        "<li>A function <code>polygon</code> takes an additional <strong>parameter</strong> <code>n</code> and draws an <em>n-sided</em> regular polygon.</li>\n",
        "<li>A function <code>circle</code> takes as additional <strong>parameter</strong> a radius <code>r</code> and draws an approximate circle. <strong>Test</strong> a range of values of <code>r</code>.</li>\n",
        "<li>A function <code>arc</code> takes as additional <strong>parameter</strong> an <code>angle</code> (degrees) and draws a sector of a circle.</li>\n",
        "</ol>"
      ]
    },
    {
      "cell_type": "markdown",
      "metadata": {
        "id": "OX3Y7Ue24SbM"
      },
      "source": [
        "The following sections have solutions to the exercises, so don’t look until you have finished (or at least tried)."
      ]
    },
    {
      "cell_type": "markdown",
      "metadata": {
        "id": "jtgD_0w04XhP"
      },
      "source": [
        "# Solutions"
      ]
    },
    {
      "cell_type": "markdown",
      "metadata": {
        "id": "5Pn2JQrq4i1H"
      },
      "source": [
        "## Encapsulation\n",
        "\n",
        "<p>Put the square-drawing code into a <strong>function definition</strong> and call the function, passing no <strong>parameter</strong>.</p>"
      ]
    },
    {
      "cell_type": "code",
      "execution_count": 38,
      "metadata": {
        "cellView": "form",
        "colab": {
          "base_uri": "https://localhost:8080/",
          "height": 521
        },
        "id": "3xpgMcuf5RuI",
        "outputId": "12caf90c-926c-4190-87d7-a2b2a686f48a"
      },
      "outputs": [
        {
          "data": {
            "text/html": [
              "\n",
              "      <svg width=\"800\" height=\"500\">\n",
              "        <rect width=\"100%\" height=\"100%\" fill=\"black\"/>\n",
              "        <line x1=\"400\" y1=\"250\" x2=\"400.0\" y2=\"150.0\" stroke-linecap=\"round\" style=\"stroke:white;stroke-width:4\"/><line x1=\"400.0\" y1=\"150.0\" x2=\"300.0\" y2=\"150.0\" stroke-linecap=\"round\" style=\"stroke:white;stroke-width:4\"/><line x1=\"300.0\" y1=\"150.0\" x2=\"300.0\" y2=\"250.0\" stroke-linecap=\"round\" style=\"stroke:white;stroke-width:4\"/><line x1=\"300.0\" y1=\"250.0\" x2=\"400.0\" y2=\"250.0\" stroke-linecap=\"round\" style=\"stroke:white;stroke-width:4\"/>\n",
              "        <g visibility=visible transform=\"rotate(360,400.0,250.0) translate(382.0, 232.0)\">\n",
              "<path style=\" stroke:none;fill-rule:evenodd;fill:white;fill-opacity:1;\" d=\"M 18.214844 0.632812 C 16.109375 1.800781 15.011719 4.074219 15.074219 7.132812 L 15.085938 7.652344 L 14.785156 7.496094 C 13.476562 6.824219 11.957031 6.671875 10.40625 7.066406 C 8.46875 7.550781 6.515625 9.15625 4.394531 11.992188 C 3.0625 13.777344 2.679688 14.636719 3.042969 15.027344 L 3.15625 15.152344 L 3.519531 15.152344 C 4.238281 15.152344 4.828125 14.886719 8.1875 13.039062 C 9.386719 12.378906 10.371094 11.839844 10.378906 11.839844 C 10.386719 11.839844 10.355469 11.929688 10.304688 12.035156 C 9.832031 13.09375 9.257812 14.820312 8.96875 16.078125 C 7.914062 20.652344 8.617188 24.53125 11.070312 27.660156 C 11.351562 28.015625 11.363281 27.914062 10.972656 28.382812 C 8.925781 30.84375 7.945312 33.28125 8.238281 35.1875 C 8.289062 35.527344 8.28125 35.523438 8.917969 35.523438 C 10.941406 35.523438 13.074219 34.207031 15.136719 31.6875 C 15.359375 31.417969 15.328125 31.425781 15.5625 31.574219 C 16.292969 32.042969 18.023438 32.964844 18.175781 32.964844 C 18.335938 32.964844 19.941406 32.210938 20.828125 31.71875 C 20.996094 31.625 21.136719 31.554688 21.136719 31.558594 C 21.203125 31.664062 21.898438 32.414062 22.222656 32.730469 C 23.835938 34.300781 25.5625 35.132812 27.582031 35.300781 C 27.90625 35.328125 27.9375 35.308594 28.007812 34.984375 C 28.382812 33.242188 27.625 30.925781 25.863281 28.425781 L 25.542969 27.96875 L 25.699219 27.785156 C 28.945312 23.960938 29.132812 18.699219 26.257812 11.96875 L 26.207031 11.84375 L 27.945312 12.703125 C 31.53125 14.476562 32.316406 14.800781 33.03125 14.800781 C 33.976562 14.800781 33.78125 13.9375 32.472656 12.292969 C 28.519531 7.355469 25.394531 5.925781 21.921875 7.472656 L 21.558594 7.636719 L 21.578125 7.542969 C 21.699219 6.992188 21.761719 5.742188 21.699219 5.164062 C 21.496094 3.296875 20.664062 1.964844 19.003906 0.855469 C 18.480469 0.503906 18.457031 0.5 18.214844 0.632812\"/>\n",
              "</g>\n",
              "      </svg>\n",
              "    "
            ],
            "text/plain": [
              "<IPython.core.display.HTML object>"
            ]
          },
          "metadata": {},
          "output_type": "display_data"
        }
      ],
      "source": [
        "# @title Solution 1\n",
        "turtle.initializeTurtle()\n",
        "\n",
        "def square():\n",
        "  for _ in range(4):\n",
        "      turtle.fd(100)\n",
        "      turtle.lt(90)\n",
        "\n",
        "square()"
      ]
    },
    {
      "cell_type": "markdown",
      "metadata": {
        "id": "bx5diZiq6M2k"
      },
      "source": [
        "<p>Innermost statements are <strong>indented twice</strong>:\n",
        "<ul>\n",
        "<li>they are inside the <strong>for loop</strong>,</li>\n",
        "<ul>\n",
        "<li>which is inside the <strong>function definition</strong>.</li>\n",
        "</ul>\n",
        "</ul>\n",
        "</p>\n",
        "<p>All the rest, is <strong>flush with the left margin</strong>, to indicate the end of both\n",
        "<ul>\n",
        "<ul>\n",
        "<li>the for loop</li>\n",
        "</ul>\n",
        "<li>and the function definition.</li>\n",
        "</ul></p>"
      ]
    },
    {
      "cell_type": "markdown",
      "metadata": {
        "id": "adgCEXLZ83Qt"
      },
      "source": [
        "<p>Wrapping a piece of code up in a function is called <strong>encapsulation</strong>.</p>\n",
        "<p>It attaches a name to the code, which serves as a kind of <em>documentation</em>.</p>"
      ]
    },
    {
      "cell_type": "markdown",
      "metadata": {
        "id": "QT8beTM79CP5"
      },
      "source": [
        "<p>If you reuse the code, it is more concise to call a function twice than to copy and paste the body!</p>"
      ]
    },
    {
      "cell_type": "markdown",
      "metadata": {
        "id": "OkEaRNkZ9JEj"
      },
      "source": [
        "## Generalization"
      ]
    },
    {
      "cell_type": "markdown",
      "metadata": {
        "id": "ApSUYEAk9PO2"
      },
      "source": [
        "<p>Next step, add a <code>length</code> parameter to <code>square</code>.</p>"
      ]
    },
    {
      "cell_type": "code",
      "execution_count": 36,
      "metadata": {
        "cellView": "form",
        "colab": {
          "base_uri": "https://localhost:8080/",
          "height": 521
        },
        "id": "ZpLggAir82z2",
        "outputId": "87e66acb-1d7c-4514-9197-5f1ff8d7e6a4"
      },
      "outputs": [
        {
          "data": {
            "text/html": [
              "\n",
              "      <svg width=\"800\" height=\"500\">\n",
              "        <rect width=\"100%\" height=\"100%\" fill=\"black\"/>\n",
              "        <line x1=\"400\" y1=\"250\" x2=\"400.0\" y2=\"50.0\" stroke-linecap=\"round\" style=\"stroke:white;stroke-width:4\"/><line x1=\"400.0\" y1=\"50.0\" x2=\"200.0\" y2=\"50.0\" stroke-linecap=\"round\" style=\"stroke:white;stroke-width:4\"/><line x1=\"200.0\" y1=\"50.0\" x2=\"200.0\" y2=\"250.0\" stroke-linecap=\"round\" style=\"stroke:white;stroke-width:4\"/><line x1=\"200.0\" y1=\"250.0\" x2=\"400.0\" y2=\"250.0\" stroke-linecap=\"round\" style=\"stroke:white;stroke-width:4\"/>\n",
              "        <g visibility=visible transform=\"rotate(360,400.0,250.0) translate(382.0, 232.0)\">\n",
              "<path style=\" stroke:none;fill-rule:evenodd;fill:white;fill-opacity:1;\" d=\"M 18.214844 0.632812 C 16.109375 1.800781 15.011719 4.074219 15.074219 7.132812 L 15.085938 7.652344 L 14.785156 7.496094 C 13.476562 6.824219 11.957031 6.671875 10.40625 7.066406 C 8.46875 7.550781 6.515625 9.15625 4.394531 11.992188 C 3.0625 13.777344 2.679688 14.636719 3.042969 15.027344 L 3.15625 15.152344 L 3.519531 15.152344 C 4.238281 15.152344 4.828125 14.886719 8.1875 13.039062 C 9.386719 12.378906 10.371094 11.839844 10.378906 11.839844 C 10.386719 11.839844 10.355469 11.929688 10.304688 12.035156 C 9.832031 13.09375 9.257812 14.820312 8.96875 16.078125 C 7.914062 20.652344 8.617188 24.53125 11.070312 27.660156 C 11.351562 28.015625 11.363281 27.914062 10.972656 28.382812 C 8.925781 30.84375 7.945312 33.28125 8.238281 35.1875 C 8.289062 35.527344 8.28125 35.523438 8.917969 35.523438 C 10.941406 35.523438 13.074219 34.207031 15.136719 31.6875 C 15.359375 31.417969 15.328125 31.425781 15.5625 31.574219 C 16.292969 32.042969 18.023438 32.964844 18.175781 32.964844 C 18.335938 32.964844 19.941406 32.210938 20.828125 31.71875 C 20.996094 31.625 21.136719 31.554688 21.136719 31.558594 C 21.203125 31.664062 21.898438 32.414062 22.222656 32.730469 C 23.835938 34.300781 25.5625 35.132812 27.582031 35.300781 C 27.90625 35.328125 27.9375 35.308594 28.007812 34.984375 C 28.382812 33.242188 27.625 30.925781 25.863281 28.425781 L 25.542969 27.96875 L 25.699219 27.785156 C 28.945312 23.960938 29.132812 18.699219 26.257812 11.96875 L 26.207031 11.84375 L 27.945312 12.703125 C 31.53125 14.476562 32.316406 14.800781 33.03125 14.800781 C 33.976562 14.800781 33.78125 13.9375 32.472656 12.292969 C 28.519531 7.355469 25.394531 5.925781 21.921875 7.472656 L 21.558594 7.636719 L 21.578125 7.542969 C 21.699219 6.992188 21.761719 5.742188 21.699219 5.164062 C 21.496094 3.296875 20.664062 1.964844 19.003906 0.855469 C 18.480469 0.503906 18.457031 0.5 18.214844 0.632812\"/>\n",
              "</g>\n",
              "      </svg>\n",
              "    "
            ],
            "text/plain": [
              "<IPython.core.display.HTML object>"
            ]
          },
          "metadata": {},
          "output_type": "display_data"
        }
      ],
      "source": [
        "# @title Solution 2\n",
        "turtle.initializeTurtle()\n",
        "\n",
        "def square(length):\n",
        "  for _ in range(4):\n",
        "      turtle.fd(length)\n",
        "      turtle.lt(90)\n",
        "\n",
        "side = 200\n",
        "square(side)"
      ]
    },
    {
      "cell_type": "markdown",
      "metadata": {
        "id": "x7-LPpqA-fjK"
      },
      "source": [
        "<p>Inside the function, the <strong>parameter</strong> <code>length</code> refers to the same length <code>side</code>, passed as <strong>argument</strong>.</p>\n",
        "<p>Why not call the parameter <code>side</code>?</p>\n",
        "<p>The idea is that <code>length</code> can be <strong>any</strong> length, not just that particular square side length, so we could <em>generalize it further</em> to draw any polygon!</p>\n"
      ]
    },
    {
      "cell_type": "markdown",
      "metadata": {
        "id": "iUmHeeZq_bV_"
      },
      "source": [
        "<p>Adding a parameter to a function is called <strong>generalization</strong>.</p>\n",
        "<p>It makes the function more general:\n",
        "<ul>\n",
        "<li>before the square was always the same size,</li>\n",
        "<li> now it can be any size.</li>\n",
        "</ul>\n",
        "</p>"
      ]
    },
    {
      "cell_type": "markdown",
      "metadata": {
        "id": "D0LeanCf_0GT"
      },
      "source": [
        "<p>Next step is also a generalization, since <code>polygon</code> draws regular polygons with any number of sides, not just four!</p>"
      ]
    },
    {
      "cell_type": "code",
      "execution_count": 41,
      "metadata": {
        "cellView": "form",
        "colab": {
          "base_uri": "https://localhost:8080/",
          "height": 521
        },
        "id": "Ah2PxJEc824J",
        "outputId": "915dce03-d473-417c-d316-55e3dc9a2a54"
      },
      "outputs": [
        {
          "data": {
            "text/html": [
              "\n",
              "      <svg width=\"800\" height=\"500\">\n",
              "        <rect width=\"100%\" height=\"100%\" fill=\"black\"/>\n",
              "        <line x1=\"400\" y1=\"250\" x2=\"400.0\" y2=\"180.0\" stroke-linecap=\"round\" style=\"stroke:white;stroke-width:4\"/><line x1=\"400.0\" y1=\"180.0\" x2=\"345.272\" y2=\"136.356\" stroke-linecap=\"round\" style=\"stroke:white;stroke-width:4\"/><line x1=\"345.272\" y1=\"136.356\" x2=\"277.027\" y2=\"151.932\" stroke-linecap=\"round\" style=\"stroke:white;stroke-width:4\"/><line x1=\"277.027\" y1=\"151.932\" x2=\"246.655\" y2=\"215.0\" stroke-linecap=\"round\" style=\"stroke:white;stroke-width:4\"/><line x1=\"246.655\" y1=\"215.0\" x2=\"277.027\" y2=\"278.068\" stroke-linecap=\"round\" style=\"stroke:white;stroke-width:4\"/><line x1=\"277.027\" y1=\"278.068\" x2=\"345.272\" y2=\"293.644\" stroke-linecap=\"round\" style=\"stroke:white;stroke-width:4\"/><line x1=\"345.272\" y1=\"293.644\" x2=\"400.0\" y2=\"250.0\" stroke-linecap=\"round\" style=\"stroke:white;stroke-width:4\"/>\n",
              "        <g visibility=visible transform=\"rotate(359.99999999999994,400.0,250.0) translate(382.0, 232.0)\">\n",
              "<path style=\" stroke:none;fill-rule:evenodd;fill:white;fill-opacity:1;\" d=\"M 18.214844 0.632812 C 16.109375 1.800781 15.011719 4.074219 15.074219 7.132812 L 15.085938 7.652344 L 14.785156 7.496094 C 13.476562 6.824219 11.957031 6.671875 10.40625 7.066406 C 8.46875 7.550781 6.515625 9.15625 4.394531 11.992188 C 3.0625 13.777344 2.679688 14.636719 3.042969 15.027344 L 3.15625 15.152344 L 3.519531 15.152344 C 4.238281 15.152344 4.828125 14.886719 8.1875 13.039062 C 9.386719 12.378906 10.371094 11.839844 10.378906 11.839844 C 10.386719 11.839844 10.355469 11.929688 10.304688 12.035156 C 9.832031 13.09375 9.257812 14.820312 8.96875 16.078125 C 7.914062 20.652344 8.617188 24.53125 11.070312 27.660156 C 11.351562 28.015625 11.363281 27.914062 10.972656 28.382812 C 8.925781 30.84375 7.945312 33.28125 8.238281 35.1875 C 8.289062 35.527344 8.28125 35.523438 8.917969 35.523438 C 10.941406 35.523438 13.074219 34.207031 15.136719 31.6875 C 15.359375 31.417969 15.328125 31.425781 15.5625 31.574219 C 16.292969 32.042969 18.023438 32.964844 18.175781 32.964844 C 18.335938 32.964844 19.941406 32.210938 20.828125 31.71875 C 20.996094 31.625 21.136719 31.554688 21.136719 31.558594 C 21.203125 31.664062 21.898438 32.414062 22.222656 32.730469 C 23.835938 34.300781 25.5625 35.132812 27.582031 35.300781 C 27.90625 35.328125 27.9375 35.308594 28.007812 34.984375 C 28.382812 33.242188 27.625 30.925781 25.863281 28.425781 L 25.542969 27.96875 L 25.699219 27.785156 C 28.945312 23.960938 29.132812 18.699219 26.257812 11.96875 L 26.207031 11.84375 L 27.945312 12.703125 C 31.53125 14.476562 32.316406 14.800781 33.03125 14.800781 C 33.976562 14.800781 33.78125 13.9375 32.472656 12.292969 C 28.519531 7.355469 25.394531 5.925781 21.921875 7.472656 L 21.558594 7.636719 L 21.578125 7.542969 C 21.699219 6.992188 21.761719 5.742188 21.699219 5.164062 C 21.496094 3.296875 20.664062 1.964844 19.003906 0.855469 C 18.480469 0.503906 18.457031 0.5 18.214844 0.632812\"/>\n",
              "</g>\n",
              "      </svg>\n",
              "    "
            ],
            "text/plain": [
              "<IPython.core.display.HTML object>"
            ]
          },
          "metadata": {},
          "output_type": "display_data"
        }
      ],
      "source": [
        "# @title Solution 3\n",
        "turtle.initializeTurtle()\n",
        "\n",
        "def polygon(n, length):\n",
        "\n",
        "  angle = 360 / n\n",
        "\n",
        "  for _ in range(n):\n",
        "      turtle.fd(length)\n",
        "      turtle.lt(angle)\n",
        "\n",
        "side_number = 7\n",
        "side_length = 70\n",
        "\n",
        "polygon(side_number, side_length)"
      ]
    },
    {
      "cell_type": "markdown",
      "metadata": {
        "id": "fXd9tbd-B83r"
      },
      "source": [
        "<p>This example draws a 7-sided polygon with side length 70.</p>\n",
        "<p>If using <code>Python2</code>, the value of angle might be <strong>off</strong> because of <strong>integer division</strong>.</p>"
      ]
    },
    {
      "cell_type": "markdown",
      "metadata": {
        "id": "tWYx4W7nCV6w"
      },
      "source": [
        "<p>A simple solution would have been to compute it as follows</p>"
      ]
    },
    {
      "cell_type": "code",
      "execution_count": 46,
      "metadata": {
        "colab": {
          "base_uri": "https://localhost:8080/"
        },
        "id": "RofxvGoOCaRh",
        "outputId": "f6e89e60-4a7c-40fa-f9b0-5140aed11dd7"
      },
      "outputs": [
        {
          "name": "stdout",
          "output_type": "stream",
          "text": [
            "51.42857142857143\n"
          ]
        }
      ],
      "source": [
        "n = 7\n",
        "angle = 360.0 / n\n",
        "print(angle)"
      ]
    },
    {
      "cell_type": "markdown",
      "metadata": {
        "id": "-DKoKK-NCok8"
      },
      "source": [
        "<p>where the numerator is a <strong>floating-point</strong> number, as well as the result.</p>"
      ]
    },
    {
      "cell_type": "markdown",
      "metadata": {
        "id": "625MzFkzC5qX"
      },
      "source": [
        "<p>With many arguments, it's easy to forget <strong>what</strong> they are or what <strong>order</strong> they should be in!</p>\n",
        "<p>A good idea is to include the parameters' names in the argument list:</p>"
      ]
    },
    {
      "cell_type": "code",
      "execution_count": 48,
      "metadata": {
        "colab": {
          "base_uri": "https://localhost:8080/",
          "height": 521
        },
        "id": "n3Fh4WbcC6wV",
        "outputId": "47b5e3a4-beb7-4c1c-fb57-0d9aec8efc6f"
      },
      "outputs": [
        {
          "data": {
            "text/html": [
              "\n",
              "      <svg width=\"800\" height=\"500\">\n",
              "        <rect width=\"100%\" height=\"100%\" fill=\"black\"/>\n",
              "        <line x1=\"400\" y1=\"250\" x2=\"400.0\" y2=\"180.0\" stroke-linecap=\"round\" style=\"stroke:white;stroke-width:4\"/><line x1=\"400.0\" y1=\"180.0\" x2=\"345.272\" y2=\"136.356\" stroke-linecap=\"round\" style=\"stroke:white;stroke-width:4\"/><line x1=\"345.272\" y1=\"136.356\" x2=\"277.027\" y2=\"151.932\" stroke-linecap=\"round\" style=\"stroke:white;stroke-width:4\"/><line x1=\"277.027\" y1=\"151.932\" x2=\"246.655\" y2=\"215.0\" stroke-linecap=\"round\" style=\"stroke:white;stroke-width:4\"/><line x1=\"246.655\" y1=\"215.0\" x2=\"277.027\" y2=\"278.068\" stroke-linecap=\"round\" style=\"stroke:white;stroke-width:4\"/><line x1=\"277.027\" y1=\"278.068\" x2=\"345.272\" y2=\"293.644\" stroke-linecap=\"round\" style=\"stroke:white;stroke-width:4\"/><line x1=\"345.272\" y1=\"293.644\" x2=\"400.0\" y2=\"250.0\" stroke-linecap=\"round\" style=\"stroke:white;stroke-width:4\"/><line x1=\"400.0\" y1=\"250.0\" x2=\"400.0\" y2=\"180.0\" stroke-linecap=\"round\" style=\"stroke:white;stroke-width:4\"/><line x1=\"400.0\" y1=\"180.0\" x2=\"345.272\" y2=\"136.356\" stroke-linecap=\"round\" style=\"stroke:white;stroke-width:4\"/><line x1=\"345.272\" y1=\"136.356\" x2=\"277.027\" y2=\"151.932\" stroke-linecap=\"round\" style=\"stroke:white;stroke-width:4\"/><line x1=\"277.027\" y1=\"151.932\" x2=\"246.655\" y2=\"215.0\" stroke-linecap=\"round\" style=\"stroke:white;stroke-width:4\"/><line x1=\"246.655\" y1=\"215.0\" x2=\"277.027\" y2=\"278.068\" stroke-linecap=\"round\" style=\"stroke:white;stroke-width:4\"/><line x1=\"277.027\" y1=\"278.068\" x2=\"345.272\" y2=\"293.644\" stroke-linecap=\"round\" style=\"stroke:white;stroke-width:4\"/><line x1=\"345.272\" y1=\"293.644\" x2=\"400.0\" y2=\"250.0\" stroke-linecap=\"round\" style=\"stroke:white;stroke-width:4\"/><line x1=\"400.0\" y1=\"250.0\" x2=\"400.0\" y2=\"180.0\" stroke-linecap=\"round\" style=\"stroke:white;stroke-width:4\"/><line x1=\"400.0\" y1=\"180.0\" x2=\"345.272\" y2=\"136.356\" stroke-linecap=\"round\" style=\"stroke:white;stroke-width:4\"/><line x1=\"345.272\" y1=\"136.356\" x2=\"277.027\" y2=\"151.932\" stroke-linecap=\"round\" style=\"stroke:white;stroke-width:4\"/><line x1=\"277.027\" y1=\"151.932\" x2=\"246.655\" y2=\"215.0\" stroke-linecap=\"round\" style=\"stroke:white;stroke-width:4\"/><line x1=\"246.655\" y1=\"215.0\" x2=\"277.027\" y2=\"278.068\" stroke-linecap=\"round\" style=\"stroke:white;stroke-width:4\"/><line x1=\"277.027\" y1=\"278.068\" x2=\"345.272\" y2=\"293.644\" stroke-linecap=\"round\" style=\"stroke:white;stroke-width:4\"/><line x1=\"345.272\" y1=\"293.644\" x2=\"400.0\" y2=\"250.0\" stroke-linecap=\"round\" style=\"stroke:white;stroke-width:4\"/>\n",
              "        <g visibility=visible transform=\"rotate(359.99999999999983,400.0,250.0) translate(382.0, 232.0)\">\n",
              "<path style=\" stroke:none;fill-rule:evenodd;fill:white;fill-opacity:1;\" d=\"M 18.214844 0.632812 C 16.109375 1.800781 15.011719 4.074219 15.074219 7.132812 L 15.085938 7.652344 L 14.785156 7.496094 C 13.476562 6.824219 11.957031 6.671875 10.40625 7.066406 C 8.46875 7.550781 6.515625 9.15625 4.394531 11.992188 C 3.0625 13.777344 2.679688 14.636719 3.042969 15.027344 L 3.15625 15.152344 L 3.519531 15.152344 C 4.238281 15.152344 4.828125 14.886719 8.1875 13.039062 C 9.386719 12.378906 10.371094 11.839844 10.378906 11.839844 C 10.386719 11.839844 10.355469 11.929688 10.304688 12.035156 C 9.832031 13.09375 9.257812 14.820312 8.96875 16.078125 C 7.914062 20.652344 8.617188 24.53125 11.070312 27.660156 C 11.351562 28.015625 11.363281 27.914062 10.972656 28.382812 C 8.925781 30.84375 7.945312 33.28125 8.238281 35.1875 C 8.289062 35.527344 8.28125 35.523438 8.917969 35.523438 C 10.941406 35.523438 13.074219 34.207031 15.136719 31.6875 C 15.359375 31.417969 15.328125 31.425781 15.5625 31.574219 C 16.292969 32.042969 18.023438 32.964844 18.175781 32.964844 C 18.335938 32.964844 19.941406 32.210938 20.828125 31.71875 C 20.996094 31.625 21.136719 31.554688 21.136719 31.558594 C 21.203125 31.664062 21.898438 32.414062 22.222656 32.730469 C 23.835938 34.300781 25.5625 35.132812 27.582031 35.300781 C 27.90625 35.328125 27.9375 35.308594 28.007812 34.984375 C 28.382812 33.242188 27.625 30.925781 25.863281 28.425781 L 25.542969 27.96875 L 25.699219 27.785156 C 28.945312 23.960938 29.132812 18.699219 26.257812 11.96875 L 26.207031 11.84375 L 27.945312 12.703125 C 31.53125 14.476562 32.316406 14.800781 33.03125 14.800781 C 33.976562 14.800781 33.78125 13.9375 32.472656 12.292969 C 28.519531 7.355469 25.394531 5.925781 21.921875 7.472656 L 21.558594 7.636719 L 21.578125 7.542969 C 21.699219 6.992188 21.761719 5.742188 21.699219 5.164062 C 21.496094 3.296875 20.664062 1.964844 19.003906 0.855469 C 18.480469 0.503906 18.457031 0.5 18.214844 0.632812\"/>\n",
              "</g>\n",
              "      </svg>\n",
              "    "
            ],
            "text/plain": [
              "<IPython.core.display.HTML object>"
            ]
          },
          "metadata": {},
          "output_type": "display_data"
        }
      ],
      "source": [
        "polygon(n=side_number, length=side_length)"
      ]
    },
    {
      "cell_type": "markdown",
      "metadata": {
        "id": "lrzfl155DkY8"
      },
      "source": [
        "<p>These are called <strong>keyword arguments</strong>: including the <strong>parameter</strong> names as <em>keywords, making the program more readable.</em></p>\n",
        "<p>(do not confuse with Python keywords like <code>while</code> and <code>def</code>)</p>"
      ]
    },
    {
      "cell_type": "markdown",
      "metadata": {
        "id": "2YSoTA7gD_8t"
      },
      "source": [
        "## Interface Design"
      ]
    },
    {
      "cell_type": "markdown",
      "metadata": {
        "id": "0WctgT2yEHR-"
      },
      "source": [
        "<p>Next step, write <code>circle</code> taking a radius <code>r</code> as a parameter.</p>\n"
      ]
    },
    {
      "cell_type": "code",
      "execution_count": 52,
      "metadata": {
        "cellView": "form",
        "colab": {
          "base_uri": "https://localhost:8080/",
          "height": 521
        },
        "id": "u4o4E2AFEKnw",
        "outputId": "87049c72-5c96-444c-bedb-d30ccc95a577"
      },
      "outputs": [
        {
          "data": {
            "text/html": [
              "\n",
              "      <svg width=\"800\" height=\"500\">\n",
              "        <rect width=\"100%\" height=\"100%\" fill=\"black\"/>\n",
              "        <line x1=\"400\" y1=\"250\" x2=\"400.0\" y2=\"240.575\" stroke-linecap=\"round\" style=\"stroke:white;stroke-width:4\"/><line x1=\"400.0\" y1=\"240.575\" x2=\"398.819\" y2=\"231.225\" stroke-linecap=\"round\" style=\"stroke:white;stroke-width:4\"/><line x1=\"398.819\" y1=\"231.225\" x2=\"396.475\" y2=\"222.096\" stroke-linecap=\"round\" style=\"stroke:white;stroke-width:4\"/><line x1=\"396.475\" y1=\"222.096\" x2=\"393.006\" y2=\"213.333\" stroke-linecap=\"round\" style=\"stroke:white;stroke-width:4\"/><line x1=\"393.006\" y1=\"213.333\" x2=\"388.466\" y2=\"205.074\" stroke-linecap=\"round\" style=\"stroke:white;stroke-width:4\"/><line x1=\"388.466\" y1=\"205.074\" x2=\"382.926\" y2=\"197.449\" stroke-linecap=\"round\" style=\"stroke:white;stroke-width:4\"/><line x1=\"382.926\" y1=\"197.449\" x2=\"376.474\" y2=\"190.579\" stroke-linecap=\"round\" style=\"stroke:white;stroke-width:4\"/><line x1=\"376.474\" y1=\"190.579\" x2=\"369.212\" y2=\"184.571\" stroke-linecap=\"round\" style=\"stroke:white;stroke-width:4\"/><line x1=\"369.212\" y1=\"184.571\" x2=\"361.254\" y2=\"179.521\" stroke-linecap=\"round\" style=\"stroke:white;stroke-width:4\"/><line x1=\"361.254\" y1=\"179.521\" x2=\"352.726\" y2=\"175.508\" stroke-linecap=\"round\" style=\"stroke:white;stroke-width:4\"/><line x1=\"352.726\" y1=\"175.508\" x2=\"343.763\" y2=\"172.596\" stroke-linecap=\"round\" style=\"stroke:white;stroke-width:4\"/><line x1=\"343.763\" y1=\"172.596\" x2=\"334.505\" y2=\"170.83\" stroke-linecap=\"round\" style=\"stroke:white;stroke-width:4\"/><line x1=\"334.505\" y1=\"170.83\" x2=\"325.099\" y2=\"170.238\" stroke-linecap=\"round\" style=\"stroke:white;stroke-width:4\"/><line x1=\"325.099\" y1=\"170.238\" x2=\"315.693\" y2=\"170.83\" stroke-linecap=\"round\" style=\"stroke:white;stroke-width:4\"/><line x1=\"315.693\" y1=\"170.83\" x2=\"306.435\" y2=\"172.596\" stroke-linecap=\"round\" style=\"stroke:white;stroke-width:4\"/><line x1=\"306.435\" y1=\"172.596\" x2=\"297.472\" y2=\"175.508\" stroke-linecap=\"round\" style=\"stroke:white;stroke-width:4\"/><line x1=\"297.472\" y1=\"175.508\" x2=\"288.944\" y2=\"179.521\" stroke-linecap=\"round\" style=\"stroke:white;stroke-width:4\"/><line x1=\"288.944\" y1=\"179.521\" x2=\"280.986\" y2=\"184.571\" stroke-linecap=\"round\" style=\"stroke:white;stroke-width:4\"/><line x1=\"280.986\" y1=\"184.571\" x2=\"273.724\" y2=\"190.579\" stroke-linecap=\"round\" style=\"stroke:white;stroke-width:4\"/><line x1=\"273.724\" y1=\"190.579\" x2=\"267.272\" y2=\"197.449\" stroke-linecap=\"round\" style=\"stroke:white;stroke-width:4\"/><line x1=\"267.272\" y1=\"197.449\" x2=\"261.732\" y2=\"205.074\" stroke-linecap=\"round\" style=\"stroke:white;stroke-width:4\"/><line x1=\"261.732\" y1=\"205.074\" x2=\"257.192\" y2=\"213.333\" stroke-linecap=\"round\" style=\"stroke:white;stroke-width:4\"/><line x1=\"257.192\" y1=\"213.333\" x2=\"253.723\" y2=\"222.096\" stroke-linecap=\"round\" style=\"stroke:white;stroke-width:4\"/><line x1=\"253.723\" y1=\"222.096\" x2=\"251.379\" y2=\"231.225\" stroke-linecap=\"round\" style=\"stroke:white;stroke-width:4\"/><line x1=\"251.379\" y1=\"231.225\" x2=\"250.198\" y2=\"240.575\" stroke-linecap=\"round\" style=\"stroke:white;stroke-width:4\"/><line x1=\"250.198\" y1=\"240.575\" x2=\"250.198\" y2=\"250.0\" stroke-linecap=\"round\" style=\"stroke:white;stroke-width:4\"/><line x1=\"250.198\" y1=\"250.0\" x2=\"251.379\" y2=\"259.35\" stroke-linecap=\"round\" style=\"stroke:white;stroke-width:4\"/><line x1=\"251.379\" y1=\"259.35\" x2=\"253.723\" y2=\"268.479\" stroke-linecap=\"round\" style=\"stroke:white;stroke-width:4\"/><line x1=\"253.723\" y1=\"268.479\" x2=\"257.192\" y2=\"277.242\" stroke-linecap=\"round\" style=\"stroke:white;stroke-width:4\"/><line x1=\"257.192\" y1=\"277.242\" x2=\"261.732\" y2=\"285.501\" stroke-linecap=\"round\" style=\"stroke:white;stroke-width:4\"/><line x1=\"261.732\" y1=\"285.501\" x2=\"267.272\" y2=\"293.126\" stroke-linecap=\"round\" style=\"stroke:white;stroke-width:4\"/><line x1=\"267.272\" y1=\"293.126\" x2=\"273.724\" y2=\"299.996\" stroke-linecap=\"round\" style=\"stroke:white;stroke-width:4\"/><line x1=\"273.724\" y1=\"299.996\" x2=\"280.986\" y2=\"306.004\" stroke-linecap=\"round\" style=\"stroke:white;stroke-width:4\"/><line x1=\"280.986\" y1=\"306.004\" x2=\"288.944\" y2=\"311.054\" stroke-linecap=\"round\" style=\"stroke:white;stroke-width:4\"/><line x1=\"288.944\" y1=\"311.054\" x2=\"297.472\" y2=\"315.067\" stroke-linecap=\"round\" style=\"stroke:white;stroke-width:4\"/><line x1=\"297.472\" y1=\"315.067\" x2=\"306.435\" y2=\"317.979\" stroke-linecap=\"round\" style=\"stroke:white;stroke-width:4\"/><line x1=\"306.435\" y1=\"317.979\" x2=\"315.693\" y2=\"319.745\" stroke-linecap=\"round\" style=\"stroke:white;stroke-width:4\"/><line x1=\"315.693\" y1=\"319.745\" x2=\"325.099\" y2=\"320.337\" stroke-linecap=\"round\" style=\"stroke:white;stroke-width:4\"/><line x1=\"325.099\" y1=\"320.337\" x2=\"334.505\" y2=\"319.745\" stroke-linecap=\"round\" style=\"stroke:white;stroke-width:4\"/><line x1=\"334.505\" y1=\"319.745\" x2=\"343.763\" y2=\"317.979\" stroke-linecap=\"round\" style=\"stroke:white;stroke-width:4\"/><line x1=\"343.763\" y1=\"317.979\" x2=\"352.726\" y2=\"315.067\" stroke-linecap=\"round\" style=\"stroke:white;stroke-width:4\"/><line x1=\"352.726\" y1=\"315.067\" x2=\"361.254\" y2=\"311.054\" stroke-linecap=\"round\" style=\"stroke:white;stroke-width:4\"/><line x1=\"361.254\" y1=\"311.054\" x2=\"369.212\" y2=\"306.004\" stroke-linecap=\"round\" style=\"stroke:white;stroke-width:4\"/><line x1=\"369.212\" y1=\"306.004\" x2=\"376.474\" y2=\"299.996\" stroke-linecap=\"round\" style=\"stroke:white;stroke-width:4\"/><line x1=\"376.474\" y1=\"299.996\" x2=\"382.926\" y2=\"293.126\" stroke-linecap=\"round\" style=\"stroke:white;stroke-width:4\"/><line x1=\"382.926\" y1=\"293.126\" x2=\"388.466\" y2=\"285.501\" stroke-linecap=\"round\" style=\"stroke:white;stroke-width:4\"/><line x1=\"388.466\" y1=\"285.501\" x2=\"393.006\" y2=\"277.242\" stroke-linecap=\"round\" style=\"stroke:white;stroke-width:4\"/><line x1=\"393.006\" y1=\"277.242\" x2=\"396.475\" y2=\"268.479\" stroke-linecap=\"round\" style=\"stroke:white;stroke-width:4\"/><line x1=\"396.475\" y1=\"268.479\" x2=\"398.819\" y2=\"259.35\" stroke-linecap=\"round\" style=\"stroke:white;stroke-width:4\"/><line x1=\"398.819\" y1=\"259.35\" x2=\"400.0\" y2=\"250.0\" stroke-linecap=\"round\" style=\"stroke:white;stroke-width:4\"/>\n",
              "        <g visibility=visible transform=\"rotate(360.00000000000034,400.0,250.0) translate(382.0, 232.0)\">\n",
              "<path style=\" stroke:none;fill-rule:evenodd;fill:white;fill-opacity:1;\" d=\"M 18.214844 0.632812 C 16.109375 1.800781 15.011719 4.074219 15.074219 7.132812 L 15.085938 7.652344 L 14.785156 7.496094 C 13.476562 6.824219 11.957031 6.671875 10.40625 7.066406 C 8.46875 7.550781 6.515625 9.15625 4.394531 11.992188 C 3.0625 13.777344 2.679688 14.636719 3.042969 15.027344 L 3.15625 15.152344 L 3.519531 15.152344 C 4.238281 15.152344 4.828125 14.886719 8.1875 13.039062 C 9.386719 12.378906 10.371094 11.839844 10.378906 11.839844 C 10.386719 11.839844 10.355469 11.929688 10.304688 12.035156 C 9.832031 13.09375 9.257812 14.820312 8.96875 16.078125 C 7.914062 20.652344 8.617188 24.53125 11.070312 27.660156 C 11.351562 28.015625 11.363281 27.914062 10.972656 28.382812 C 8.925781 30.84375 7.945312 33.28125 8.238281 35.1875 C 8.289062 35.527344 8.28125 35.523438 8.917969 35.523438 C 10.941406 35.523438 13.074219 34.207031 15.136719 31.6875 C 15.359375 31.417969 15.328125 31.425781 15.5625 31.574219 C 16.292969 32.042969 18.023438 32.964844 18.175781 32.964844 C 18.335938 32.964844 19.941406 32.210938 20.828125 31.71875 C 20.996094 31.625 21.136719 31.554688 21.136719 31.558594 C 21.203125 31.664062 21.898438 32.414062 22.222656 32.730469 C 23.835938 34.300781 25.5625 35.132812 27.582031 35.300781 C 27.90625 35.328125 27.9375 35.308594 28.007812 34.984375 C 28.382812 33.242188 27.625 30.925781 25.863281 28.425781 L 25.542969 27.96875 L 25.699219 27.785156 C 28.945312 23.960938 29.132812 18.699219 26.257812 11.96875 L 26.207031 11.84375 L 27.945312 12.703125 C 31.53125 14.476562 32.316406 14.800781 33.03125 14.800781 C 33.976562 14.800781 33.78125 13.9375 32.472656 12.292969 C 28.519531 7.355469 25.394531 5.925781 21.921875 7.472656 L 21.558594 7.636719 L 21.578125 7.542969 C 21.699219 6.992188 21.761719 5.742188 21.699219 5.164062 C 21.496094 3.296875 20.664062 1.964844 19.003906 0.855469 C 18.480469 0.503906 18.457031 0.5 18.214844 0.632812\"/>\n",
              "</g>\n",
              "      </svg>\n",
              "    "
            ],
            "text/plain": [
              "<IPython.core.display.HTML object>"
            ]
          },
          "metadata": {},
          "output_type": "display_data"
        }
      ],
      "source": [
        "# @title Solution 4\n",
        "import math\n",
        "\n",
        "turtle.initializeTurtle()\n",
        "\n",
        "def circle(r):\n",
        "\n",
        "    n = 50\n",
        "    circumference = 2 * math.pi * r\n",
        "    length = circumference / n\n",
        "    polygon(n, length)\n",
        "\n",
        "radius = 75\n",
        "circle(radius)"
      ]
    },
    {
      "cell_type": "markdown",
      "metadata": {
        "id": "Dk0tx7EKGKug"
      },
      "source": [
        "<p>This solution uses <code>polygon</code> to draw a 50-sided polygon that approximates a circle, with an <strong>appropriate</strong> length and number of <strong>sides</strong>!</p>"
      ]
    },
    {
      "cell_type": "markdown",
      "metadata": {
        "id": "n3n6CZM_Ga2l"
      },
      "source": [
        "<ul>\n",
        "  <li><p>First line computes the <strong>circumference</strong> of a circle with radius r.</p></li>\n",
        "  <ul>\n",
        "  <li><p>Since we use <code>math.pi</code>, we have to import <code>math</code> module.</p></li>\n",
        "  <li><p>By convention, <code>import</code> statements are usually at the beginning of the script.</p></li>\n",
        "</ul>\n",
        "  <li><p><code>n</code> is the number of line segments in our approximation, thus <code>length</code> is the length of each segment.</p></li>\n",
        "</ul>"
      ]
    },
    {
      "cell_type": "markdown",
      "metadata": {
        "id": "Jay4xb41HLjW"
      },
      "source": [
        "<p>A current limitation is that <code>n</code> is a <strong>constant</strong>,thus:</p>\n",
        "<ul>\n",
        "<li>for very <em>big circles</em>, the line segments are too long</li>\n",
        "<li>for <em>small circles</em>, we waste time drawing very small segments</li>\n",
        "</ul>"
      ]
    },
    {
      "cell_type": "markdown",
      "metadata": {
        "id": "XzvayVufHQB4"
      },
      "source": [
        "<p>A solution would be to <strong>generalize</strong> this function: taking <code>n</code> as a <strong>parameter</strong>.</p>\n",
        "<p>This gives the user (better, the <strong>caller</strong>) more <em>control</em>, but the <strong>interface</strong> would be <em>less clean</em>.</p>"
      ]
    },
    {
      "cell_type": "markdown",
      "metadata": {
        "id": "UPujGqccIB7B"
      },
      "source": [
        "<p>The <strong>interface</strong> of a function is a <em>summary</em> of how it is used:</p>\n",
        "<ul>\n",
        "<li>What are the parameters?</li>\n",
        "<li>What does the function do?</li>\n",
        "<li>What is the return value?</li>\n",
        "</ul>"
      ]
    },
    {
      "cell_type": "markdown",
      "metadata": {
        "id": "HPeyp155IIqs"
      },
      "source": [
        "<p>A <strong>clean</strong> interface allows the callers to do what they want without dealing with <strong>unnecessary details</strong>.</p>\n"
      ]
    },
    {
      "cell_type": "markdown",
      "metadata": {
        "id": "nwB08SfkIVPz"
      },
      "source": [
        "<ul>\n",
        "<li><code>r</code> belongs in the interface since it specifies the circle to be drawn.</li>\n",
        "<li><code>n</code> is not appropriate, just details on <em>how the circle should be rendered</em>.</li>\n",
        "</ul>"
      ]
    },
    {
      "cell_type": "markdown",
      "metadata": {
        "id": "Yq9Z3xyTIt-H"
      },
      "source": [
        "<p>To avoid clutter up, better to choose an appropriate value of <code>n</code> depending on <code>circumference</code> length:</p>"
      ]
    },
    {
      "cell_type": "code",
      "execution_count": 53,
      "metadata": {
        "cellView": "form",
        "colab": {
          "base_uri": "https://localhost:8080/",
          "height": 521
        },
        "id": "Hkw_f_oCICgd",
        "outputId": "ea168549-b684-4112-c42c-c26ee866ce7d"
      },
      "outputs": [
        {
          "data": {
            "text/html": [
              "\n",
              "      <svg width=\"800\" height=\"500\">\n",
              "        <rect width=\"100%\" height=\"100%\" fill=\"black\"/>\n",
              "        <line x1=\"400\" y1=\"250\" x2=\"400.0\" y2=\"247.017\" stroke-linecap=\"round\" style=\"stroke:white;stroke-width:4\"/><line x1=\"400.0\" y1=\"247.017\" x2=\"399.881\" y2=\"244.037\" stroke-linecap=\"round\" style=\"stroke:white;stroke-width:4\"/><line x1=\"399.881\" y1=\"244.037\" x2=\"399.644\" y2=\"241.064\" stroke-linecap=\"round\" style=\"stroke:white;stroke-width:4\"/><line x1=\"399.644\" y1=\"241.064\" x2=\"399.289\" y2=\"238.103\" stroke-linecap=\"round\" style=\"stroke:white;stroke-width:4\"/><line x1=\"399.289\" y1=\"238.103\" x2=\"398.817\" y2=\"235.158\" stroke-linecap=\"round\" style=\"stroke:white;stroke-width:4\"/><line x1=\"398.817\" y1=\"235.158\" x2=\"398.228\" y2=\"232.234\" stroke-linecap=\"round\" style=\"stroke:white;stroke-width:4\"/><line x1=\"398.228\" y1=\"232.234\" x2=\"397.523\" y2=\"229.336\" stroke-linecap=\"round\" style=\"stroke:white;stroke-width:4\"/><line x1=\"397.523\" y1=\"229.336\" x2=\"396.703\" y2=\"226.468\" stroke-linecap=\"round\" style=\"stroke:white;stroke-width:4\"/><line x1=\"396.703\" y1=\"226.468\" x2=\"395.77\" y2=\"223.635\" stroke-linecap=\"round\" style=\"stroke:white;stroke-width:4\"/><line x1=\"395.77\" y1=\"223.635\" x2=\"394.725\" y2=\"220.841\" stroke-linecap=\"round\" style=\"stroke:white;stroke-width:4\"/><line x1=\"394.725\" y1=\"220.841\" x2=\"393.57\" y2=\"218.091\" stroke-linecap=\"round\" style=\"stroke:white;stroke-width:4\"/><line x1=\"393.57\" y1=\"218.091\" x2=\"392.307\" y2=\"215.389\" stroke-linecap=\"round\" style=\"stroke:white;stroke-width:4\"/><line x1=\"392.307\" y1=\"215.389\" x2=\"390.937\" y2=\"212.74\" stroke-linecap=\"round\" style=\"stroke:white;stroke-width:4\"/><line x1=\"390.937\" y1=\"212.74\" x2=\"389.463\" y2=\"210.147\" stroke-linecap=\"round\" style=\"stroke:white;stroke-width:4\"/><line x1=\"389.463\" y1=\"210.147\" x2=\"387.887\" y2=\"207.615\" stroke-linecap=\"round\" style=\"stroke:white;stroke-width:4\"/><line x1=\"387.887\" y1=\"207.615\" x2=\"386.212\" y2=\"205.148\" stroke-linecap=\"round\" style=\"stroke:white;stroke-width:4\"/><line x1=\"386.212\" y1=\"205.148\" x2=\"384.44\" y2=\"202.749\" stroke-linecap=\"round\" style=\"stroke:white;stroke-width:4\"/><line x1=\"384.44\" y1=\"202.749\" x2=\"382.574\" y2=\"200.422\" stroke-linecap=\"round\" style=\"stroke:white;stroke-width:4\"/><line x1=\"382.574\" y1=\"200.422\" x2=\"380.617\" y2=\"198.171\" stroke-linecap=\"round\" style=\"stroke:white;stroke-width:4\"/><line x1=\"380.617\" y1=\"198.171\" x2=\"378.572\" y2=\"196.0\" stroke-linecap=\"round\" style=\"stroke:white;stroke-width:4\"/><line x1=\"378.572\" y1=\"196.0\" x2=\"376.442\" y2=\"193.912\" stroke-linecap=\"round\" style=\"stroke:white;stroke-width:4\"/><line x1=\"376.442\" y1=\"193.912\" x2=\"374.231\" y2=\"191.91\" stroke-linecap=\"round\" style=\"stroke:white;stroke-width:4\"/><line x1=\"374.231\" y1=\"191.91\" x2=\"371.942\" y2=\"189.998\" stroke-linecap=\"round\" style=\"stroke:white;stroke-width:4\"/><line x1=\"371.942\" y1=\"189.998\" x2=\"369.579\" y2=\"188.178\" stroke-linecap=\"round\" style=\"stroke:white;stroke-width:4\"/><line x1=\"369.579\" y1=\"188.178\" x2=\"367.145\" y2=\"186.454\" stroke-linecap=\"round\" style=\"stroke:white;stroke-width:4\"/><line x1=\"367.145\" y1=\"186.454\" x2=\"364.645\" y2=\"184.828\" stroke-linecap=\"round\" style=\"stroke:white;stroke-width:4\"/><line x1=\"364.645\" y1=\"184.828\" x2=\"362.082\" y2=\"183.303\" stroke-linecap=\"round\" style=\"stroke:white;stroke-width:4\"/><line x1=\"362.082\" y1=\"183.303\" x2=\"359.46\" y2=\"181.881\" stroke-linecap=\"round\" style=\"stroke:white;stroke-width:4\"/><line x1=\"359.46\" y1=\"181.881\" x2=\"356.784\" y2=\"180.564\" stroke-linecap=\"round\" style=\"stroke:white;stroke-width:4\"/><line x1=\"356.784\" y1=\"180.564\" x2=\"354.058\" y2=\"179.355\" stroke-linecap=\"round\" style=\"stroke:white;stroke-width:4\"/><line x1=\"354.058\" y1=\"179.355\" x2=\"351.286\" y2=\"178.255\" stroke-linecap=\"round\" style=\"stroke:white;stroke-width:4\"/><line x1=\"351.286\" y1=\"178.255\" x2=\"348.472\" y2=\"177.266\" stroke-linecap=\"round\" style=\"stroke:white;stroke-width:4\"/><line x1=\"348.472\" y1=\"177.266\" x2=\"345.621\" y2=\"176.39\" stroke-linecap=\"round\" style=\"stroke:white;stroke-width:4\"/><line x1=\"345.621\" y1=\"176.39\" x2=\"342.738\" y2=\"175.628\" stroke-linecap=\"round\" style=\"stroke:white;stroke-width:4\"/><line x1=\"342.738\" y1=\"175.628\" x2=\"339.827\" y2=\"174.981\" stroke-linecap=\"round\" style=\"stroke:white;stroke-width:4\"/><line x1=\"339.827\" y1=\"174.981\" x2=\"336.892\" y2=\"174.45\" stroke-linecap=\"round\" style=\"stroke:white;stroke-width:4\"/><line x1=\"336.892\" y1=\"174.45\" x2=\"333.938\" y2=\"174.036\" stroke-linecap=\"round\" style=\"stroke:white;stroke-width:4\"/><line x1=\"333.938\" y1=\"174.036\" x2=\"330.97\" y2=\"173.74\" stroke-linecap=\"round\" style=\"stroke:white;stroke-width:4\"/><line x1=\"330.97\" y1=\"173.74\" x2=\"327.993\" y2=\"173.562\" stroke-linecap=\"round\" style=\"stroke:white;stroke-width:4\"/><line x1=\"327.993\" y1=\"173.562\" x2=\"325.011\" y2=\"173.503\" stroke-linecap=\"round\" style=\"stroke:white;stroke-width:4\"/><line x1=\"325.011\" y1=\"173.503\" x2=\"322.029\" y2=\"173.562\" stroke-linecap=\"round\" style=\"stroke:white;stroke-width:4\"/><line x1=\"322.029\" y1=\"173.562\" x2=\"319.052\" y2=\"173.74\" stroke-linecap=\"round\" style=\"stroke:white;stroke-width:4\"/><line x1=\"319.052\" y1=\"173.74\" x2=\"316.084\" y2=\"174.036\" stroke-linecap=\"round\" style=\"stroke:white;stroke-width:4\"/><line x1=\"316.084\" y1=\"174.036\" x2=\"313.13\" y2=\"174.45\" stroke-linecap=\"round\" style=\"stroke:white;stroke-width:4\"/><line x1=\"313.13\" y1=\"174.45\" x2=\"310.195\" y2=\"174.981\" stroke-linecap=\"round\" style=\"stroke:white;stroke-width:4\"/><line x1=\"310.195\" y1=\"174.981\" x2=\"307.284\" y2=\"175.628\" stroke-linecap=\"round\" style=\"stroke:white;stroke-width:4\"/><line x1=\"307.284\" y1=\"175.628\" x2=\"304.401\" y2=\"176.39\" stroke-linecap=\"round\" style=\"stroke:white;stroke-width:4\"/><line x1=\"304.401\" y1=\"176.39\" x2=\"301.55\" y2=\"177.266\" stroke-linecap=\"round\" style=\"stroke:white;stroke-width:4\"/><line x1=\"301.55\" y1=\"177.266\" x2=\"298.736\" y2=\"178.255\" stroke-linecap=\"round\" style=\"stroke:white;stroke-width:4\"/><line x1=\"298.736\" y1=\"178.255\" x2=\"295.964\" y2=\"179.355\" stroke-linecap=\"round\" style=\"stroke:white;stroke-width:4\"/><line x1=\"295.964\" y1=\"179.355\" x2=\"293.238\" y2=\"180.564\" stroke-linecap=\"round\" style=\"stroke:white;stroke-width:4\"/><line x1=\"293.238\" y1=\"180.564\" x2=\"290.562\" y2=\"181.881\" stroke-linecap=\"round\" style=\"stroke:white;stroke-width:4\"/><line x1=\"290.562\" y1=\"181.881\" x2=\"287.94\" y2=\"183.303\" stroke-linecap=\"round\" style=\"stroke:white;stroke-width:4\"/><line x1=\"287.94\" y1=\"183.303\" x2=\"285.377\" y2=\"184.828\" stroke-linecap=\"round\" style=\"stroke:white;stroke-width:4\"/><line x1=\"285.377\" y1=\"184.828\" x2=\"282.877\" y2=\"186.454\" stroke-linecap=\"round\" style=\"stroke:white;stroke-width:4\"/><line x1=\"282.877\" y1=\"186.454\" x2=\"280.443\" y2=\"188.178\" stroke-linecap=\"round\" style=\"stroke:white;stroke-width:4\"/><line x1=\"280.443\" y1=\"188.178\" x2=\"278.08\" y2=\"189.998\" stroke-linecap=\"round\" style=\"stroke:white;stroke-width:4\"/><line x1=\"278.08\" y1=\"189.998\" x2=\"275.791\" y2=\"191.91\" stroke-linecap=\"round\" style=\"stroke:white;stroke-width:4\"/><line x1=\"275.791\" y1=\"191.91\" x2=\"273.58\" y2=\"193.912\" stroke-linecap=\"round\" style=\"stroke:white;stroke-width:4\"/><line x1=\"273.58\" y1=\"193.912\" x2=\"271.45\" y2=\"196.0\" stroke-linecap=\"round\" style=\"stroke:white;stroke-width:4\"/><line x1=\"271.45\" y1=\"196.0\" x2=\"269.405\" y2=\"198.171\" stroke-linecap=\"round\" style=\"stroke:white;stroke-width:4\"/><line x1=\"269.405\" y1=\"198.171\" x2=\"267.448\" y2=\"200.422\" stroke-linecap=\"round\" style=\"stroke:white;stroke-width:4\"/><line x1=\"267.448\" y1=\"200.422\" x2=\"265.582\" y2=\"202.749\" stroke-linecap=\"round\" style=\"stroke:white;stroke-width:4\"/><line x1=\"265.582\" y1=\"202.749\" x2=\"263.81\" y2=\"205.148\" stroke-linecap=\"round\" style=\"stroke:white;stroke-width:4\"/><line x1=\"263.81\" y1=\"205.148\" x2=\"262.135\" y2=\"207.615\" stroke-linecap=\"round\" style=\"stroke:white;stroke-width:4\"/><line x1=\"262.135\" y1=\"207.615\" x2=\"260.559\" y2=\"210.147\" stroke-linecap=\"round\" style=\"stroke:white;stroke-width:4\"/><line x1=\"260.559\" y1=\"210.147\" x2=\"259.085\" y2=\"212.74\" stroke-linecap=\"round\" style=\"stroke:white;stroke-width:4\"/><line x1=\"259.085\" y1=\"212.74\" x2=\"257.715\" y2=\"215.389\" stroke-linecap=\"round\" style=\"stroke:white;stroke-width:4\"/><line x1=\"257.715\" y1=\"215.389\" x2=\"256.452\" y2=\"218.091\" stroke-linecap=\"round\" style=\"stroke:white;stroke-width:4\"/><line x1=\"256.452\" y1=\"218.091\" x2=\"255.297\" y2=\"220.841\" stroke-linecap=\"round\" style=\"stroke:white;stroke-width:4\"/><line x1=\"255.297\" y1=\"220.841\" x2=\"254.252\" y2=\"223.635\" stroke-linecap=\"round\" style=\"stroke:white;stroke-width:4\"/><line x1=\"254.252\" y1=\"223.635\" x2=\"253.319\" y2=\"226.468\" stroke-linecap=\"round\" style=\"stroke:white;stroke-width:4\"/><line x1=\"253.319\" y1=\"226.468\" x2=\"252.499\" y2=\"229.336\" stroke-linecap=\"round\" style=\"stroke:white;stroke-width:4\"/><line x1=\"252.499\" y1=\"229.336\" x2=\"251.794\" y2=\"232.234\" stroke-linecap=\"round\" style=\"stroke:white;stroke-width:4\"/><line x1=\"251.794\" y1=\"232.234\" x2=\"251.205\" y2=\"235.158\" stroke-linecap=\"round\" style=\"stroke:white;stroke-width:4\"/><line x1=\"251.205\" y1=\"235.158\" x2=\"250.733\" y2=\"238.103\" stroke-linecap=\"round\" style=\"stroke:white;stroke-width:4\"/><line x1=\"250.733\" y1=\"238.103\" x2=\"250.378\" y2=\"241.064\" stroke-linecap=\"round\" style=\"stroke:white;stroke-width:4\"/><line x1=\"250.378\" y1=\"241.064\" x2=\"250.141\" y2=\"244.037\" stroke-linecap=\"round\" style=\"stroke:white;stroke-width:4\"/><line x1=\"250.141\" y1=\"244.037\" x2=\"250.022\" y2=\"247.017\" stroke-linecap=\"round\" style=\"stroke:white;stroke-width:4\"/><line x1=\"250.022\" y1=\"247.017\" x2=\"250.022\" y2=\"250.0\" stroke-linecap=\"round\" style=\"stroke:white;stroke-width:4\"/><line x1=\"250.022\" y1=\"250.0\" x2=\"250.141\" y2=\"252.98\" stroke-linecap=\"round\" style=\"stroke:white;stroke-width:4\"/><line x1=\"250.141\" y1=\"252.98\" x2=\"250.378\" y2=\"255.953\" stroke-linecap=\"round\" style=\"stroke:white;stroke-width:4\"/><line x1=\"250.378\" y1=\"255.953\" x2=\"250.733\" y2=\"258.914\" stroke-linecap=\"round\" style=\"stroke:white;stroke-width:4\"/><line x1=\"250.733\" y1=\"258.914\" x2=\"251.205\" y2=\"261.859\" stroke-linecap=\"round\" style=\"stroke:white;stroke-width:4\"/><line x1=\"251.205\" y1=\"261.859\" x2=\"251.794\" y2=\"264.783\" stroke-linecap=\"round\" style=\"stroke:white;stroke-width:4\"/><line x1=\"251.794\" y1=\"264.783\" x2=\"252.499\" y2=\"267.681\" stroke-linecap=\"round\" style=\"stroke:white;stroke-width:4\"/><line x1=\"252.499\" y1=\"267.681\" x2=\"253.319\" y2=\"270.549\" stroke-linecap=\"round\" style=\"stroke:white;stroke-width:4\"/><line x1=\"253.319\" y1=\"270.549\" x2=\"254.252\" y2=\"273.382\" stroke-linecap=\"round\" style=\"stroke:white;stroke-width:4\"/><line x1=\"254.252\" y1=\"273.382\" x2=\"255.297\" y2=\"276.176\" stroke-linecap=\"round\" style=\"stroke:white;stroke-width:4\"/><line x1=\"255.297\" y1=\"276.176\" x2=\"256.452\" y2=\"278.926\" stroke-linecap=\"round\" style=\"stroke:white;stroke-width:4\"/><line x1=\"256.452\" y1=\"278.926\" x2=\"257.715\" y2=\"281.628\" stroke-linecap=\"round\" style=\"stroke:white;stroke-width:4\"/><line x1=\"257.715\" y1=\"281.628\" x2=\"259.085\" y2=\"284.277\" stroke-linecap=\"round\" style=\"stroke:white;stroke-width:4\"/><line x1=\"259.085\" y1=\"284.277\" x2=\"260.559\" y2=\"286.87\" stroke-linecap=\"round\" style=\"stroke:white;stroke-width:4\"/><line x1=\"260.559\" y1=\"286.87\" x2=\"262.135\" y2=\"289.402\" stroke-linecap=\"round\" style=\"stroke:white;stroke-width:4\"/><line x1=\"262.135\" y1=\"289.402\" x2=\"263.81\" y2=\"291.869\" stroke-linecap=\"round\" style=\"stroke:white;stroke-width:4\"/><line x1=\"263.81\" y1=\"291.869\" x2=\"265.582\" y2=\"294.268\" stroke-linecap=\"round\" style=\"stroke:white;stroke-width:4\"/><line x1=\"265.582\" y1=\"294.268\" x2=\"267.448\" y2=\"296.595\" stroke-linecap=\"round\" style=\"stroke:white;stroke-width:4\"/><line x1=\"267.448\" y1=\"296.595\" x2=\"269.405\" y2=\"298.846\" stroke-linecap=\"round\" style=\"stroke:white;stroke-width:4\"/><line x1=\"269.405\" y1=\"298.846\" x2=\"271.45\" y2=\"301.017\" stroke-linecap=\"round\" style=\"stroke:white;stroke-width:4\"/><line x1=\"271.45\" y1=\"301.017\" x2=\"273.58\" y2=\"303.105\" stroke-linecap=\"round\" style=\"stroke:white;stroke-width:4\"/><line x1=\"273.58\" y1=\"303.105\" x2=\"275.791\" y2=\"305.107\" stroke-linecap=\"round\" style=\"stroke:white;stroke-width:4\"/><line x1=\"275.791\" y1=\"305.107\" x2=\"278.08\" y2=\"307.019\" stroke-linecap=\"round\" style=\"stroke:white;stroke-width:4\"/><line x1=\"278.08\" y1=\"307.019\" x2=\"280.443\" y2=\"308.839\" stroke-linecap=\"round\" style=\"stroke:white;stroke-width:4\"/><line x1=\"280.443\" y1=\"308.839\" x2=\"282.877\" y2=\"310.563\" stroke-linecap=\"round\" style=\"stroke:white;stroke-width:4\"/><line x1=\"282.877\" y1=\"310.563\" x2=\"285.377\" y2=\"312.189\" stroke-linecap=\"round\" style=\"stroke:white;stroke-width:4\"/><line x1=\"285.377\" y1=\"312.189\" x2=\"287.94\" y2=\"313.714\" stroke-linecap=\"round\" style=\"stroke:white;stroke-width:4\"/><line x1=\"287.94\" y1=\"313.714\" x2=\"290.562\" y2=\"315.136\" stroke-linecap=\"round\" style=\"stroke:white;stroke-width:4\"/><line x1=\"290.562\" y1=\"315.136\" x2=\"293.238\" y2=\"316.453\" stroke-linecap=\"round\" style=\"stroke:white;stroke-width:4\"/><line x1=\"293.238\" y1=\"316.453\" x2=\"295.964\" y2=\"317.662\" stroke-linecap=\"round\" style=\"stroke:white;stroke-width:4\"/><line x1=\"295.964\" y1=\"317.662\" x2=\"298.736\" y2=\"318.762\" stroke-linecap=\"round\" style=\"stroke:white;stroke-width:4\"/><line x1=\"298.736\" y1=\"318.762\" x2=\"301.55\" y2=\"319.751\" stroke-linecap=\"round\" style=\"stroke:white;stroke-width:4\"/><line x1=\"301.55\" y1=\"319.751\" x2=\"304.401\" y2=\"320.627\" stroke-linecap=\"round\" style=\"stroke:white;stroke-width:4\"/><line x1=\"304.401\" y1=\"320.627\" x2=\"307.284\" y2=\"321.389\" stroke-linecap=\"round\" style=\"stroke:white;stroke-width:4\"/><line x1=\"307.284\" y1=\"321.389\" x2=\"310.195\" y2=\"322.036\" stroke-linecap=\"round\" style=\"stroke:white;stroke-width:4\"/><line x1=\"310.195\" y1=\"322.036\" x2=\"313.13\" y2=\"322.567\" stroke-linecap=\"round\" style=\"stroke:white;stroke-width:4\"/><line x1=\"313.13\" y1=\"322.567\" x2=\"316.084\" y2=\"322.981\" stroke-linecap=\"round\" style=\"stroke:white;stroke-width:4\"/><line x1=\"316.084\" y1=\"322.981\" x2=\"319.052\" y2=\"323.277\" stroke-linecap=\"round\" style=\"stroke:white;stroke-width:4\"/><line x1=\"319.052\" y1=\"323.277\" x2=\"322.029\" y2=\"323.455\" stroke-linecap=\"round\" style=\"stroke:white;stroke-width:4\"/><line x1=\"322.029\" y1=\"323.455\" x2=\"325.011\" y2=\"323.514\" stroke-linecap=\"round\" style=\"stroke:white;stroke-width:4\"/><line x1=\"325.011\" y1=\"323.514\" x2=\"327.993\" y2=\"323.455\" stroke-linecap=\"round\" style=\"stroke:white;stroke-width:4\"/><line x1=\"327.993\" y1=\"323.455\" x2=\"330.97\" y2=\"323.277\" stroke-linecap=\"round\" style=\"stroke:white;stroke-width:4\"/><line x1=\"330.97\" y1=\"323.277\" x2=\"333.938\" y2=\"322.981\" stroke-linecap=\"round\" style=\"stroke:white;stroke-width:4\"/><line x1=\"333.938\" y1=\"322.981\" x2=\"336.892\" y2=\"322.567\" stroke-linecap=\"round\" style=\"stroke:white;stroke-width:4\"/><line x1=\"336.892\" y1=\"322.567\" x2=\"339.827\" y2=\"322.036\" stroke-linecap=\"round\" style=\"stroke:white;stroke-width:4\"/><line x1=\"339.827\" y1=\"322.036\" x2=\"342.738\" y2=\"321.389\" stroke-linecap=\"round\" style=\"stroke:white;stroke-width:4\"/><line x1=\"342.738\" y1=\"321.389\" x2=\"345.621\" y2=\"320.627\" stroke-linecap=\"round\" style=\"stroke:white;stroke-width:4\"/><line x1=\"345.621\" y1=\"320.627\" x2=\"348.472\" y2=\"319.751\" stroke-linecap=\"round\" style=\"stroke:white;stroke-width:4\"/><line x1=\"348.472\" y1=\"319.751\" x2=\"351.286\" y2=\"318.762\" stroke-linecap=\"round\" style=\"stroke:white;stroke-width:4\"/><line x1=\"351.286\" y1=\"318.762\" x2=\"354.058\" y2=\"317.662\" stroke-linecap=\"round\" style=\"stroke:white;stroke-width:4\"/><line x1=\"354.058\" y1=\"317.662\" x2=\"356.784\" y2=\"316.453\" stroke-linecap=\"round\" style=\"stroke:white;stroke-width:4\"/><line x1=\"356.784\" y1=\"316.453\" x2=\"359.46\" y2=\"315.136\" stroke-linecap=\"round\" style=\"stroke:white;stroke-width:4\"/><line x1=\"359.46\" y1=\"315.136\" x2=\"362.082\" y2=\"313.714\" stroke-linecap=\"round\" style=\"stroke:white;stroke-width:4\"/><line x1=\"362.082\" y1=\"313.714\" x2=\"364.645\" y2=\"312.189\" stroke-linecap=\"round\" style=\"stroke:white;stroke-width:4\"/><line x1=\"364.645\" y1=\"312.189\" x2=\"367.145\" y2=\"310.563\" stroke-linecap=\"round\" style=\"stroke:white;stroke-width:4\"/><line x1=\"367.145\" y1=\"310.563\" x2=\"369.579\" y2=\"308.839\" stroke-linecap=\"round\" style=\"stroke:white;stroke-width:4\"/><line x1=\"369.579\" y1=\"308.839\" x2=\"371.942\" y2=\"307.019\" stroke-linecap=\"round\" style=\"stroke:white;stroke-width:4\"/><line x1=\"371.942\" y1=\"307.019\" x2=\"374.231\" y2=\"305.107\" stroke-linecap=\"round\" style=\"stroke:white;stroke-width:4\"/><line x1=\"374.231\" y1=\"305.107\" x2=\"376.442\" y2=\"303.105\" stroke-linecap=\"round\" style=\"stroke:white;stroke-width:4\"/><line x1=\"376.442\" y1=\"303.105\" x2=\"378.572\" y2=\"301.017\" stroke-linecap=\"round\" style=\"stroke:white;stroke-width:4\"/><line x1=\"378.572\" y1=\"301.017\" x2=\"380.617\" y2=\"298.846\" stroke-linecap=\"round\" style=\"stroke:white;stroke-width:4\"/><line x1=\"380.617\" y1=\"298.846\" x2=\"382.574\" y2=\"296.595\" stroke-linecap=\"round\" style=\"stroke:white;stroke-width:4\"/><line x1=\"382.574\" y1=\"296.595\" x2=\"384.44\" y2=\"294.268\" stroke-linecap=\"round\" style=\"stroke:white;stroke-width:4\"/><line x1=\"384.44\" y1=\"294.268\" x2=\"386.212\" y2=\"291.869\" stroke-linecap=\"round\" style=\"stroke:white;stroke-width:4\"/><line x1=\"386.212\" y1=\"291.869\" x2=\"387.887\" y2=\"289.402\" stroke-linecap=\"round\" style=\"stroke:white;stroke-width:4\"/><line x1=\"387.887\" y1=\"289.402\" x2=\"389.463\" y2=\"286.87\" stroke-linecap=\"round\" style=\"stroke:white;stroke-width:4\"/><line x1=\"389.463\" y1=\"286.87\" x2=\"390.937\" y2=\"284.277\" stroke-linecap=\"round\" style=\"stroke:white;stroke-width:4\"/><line x1=\"390.937\" y1=\"284.277\" x2=\"392.307\" y2=\"281.628\" stroke-linecap=\"round\" style=\"stroke:white;stroke-width:4\"/><line x1=\"392.307\" y1=\"281.628\" x2=\"393.57\" y2=\"278.926\" stroke-linecap=\"round\" style=\"stroke:white;stroke-width:4\"/><line x1=\"393.57\" y1=\"278.926\" x2=\"394.725\" y2=\"276.176\" stroke-linecap=\"round\" style=\"stroke:white;stroke-width:4\"/><line x1=\"394.725\" y1=\"276.176\" x2=\"395.77\" y2=\"273.382\" stroke-linecap=\"round\" style=\"stroke:white;stroke-width:4\"/><line x1=\"395.77\" y1=\"273.382\" x2=\"396.703\" y2=\"270.549\" stroke-linecap=\"round\" style=\"stroke:white;stroke-width:4\"/><line x1=\"396.703\" y1=\"270.549\" x2=\"397.523\" y2=\"267.681\" stroke-linecap=\"round\" style=\"stroke:white;stroke-width:4\"/><line x1=\"397.523\" y1=\"267.681\" x2=\"398.228\" y2=\"264.783\" stroke-linecap=\"round\" style=\"stroke:white;stroke-width:4\"/><line x1=\"398.228\" y1=\"264.783\" x2=\"398.817\" y2=\"261.859\" stroke-linecap=\"round\" style=\"stroke:white;stroke-width:4\"/><line x1=\"398.817\" y1=\"261.859\" x2=\"399.289\" y2=\"258.914\" stroke-linecap=\"round\" style=\"stroke:white;stroke-width:4\"/><line x1=\"399.289\" y1=\"258.914\" x2=\"399.644\" y2=\"255.953\" stroke-linecap=\"round\" style=\"stroke:white;stroke-width:4\"/><line x1=\"399.644\" y1=\"255.953\" x2=\"399.881\" y2=\"252.98\" stroke-linecap=\"round\" style=\"stroke:white;stroke-width:4\"/><line x1=\"399.881\" y1=\"252.98\" x2=\"400.0\" y2=\"250.0\" stroke-linecap=\"round\" style=\"stroke:white;stroke-width:4\"/>\n",
              "        <g visibility=visible transform=\"rotate(359.9999999999994,400.0,250.0) translate(382.0, 232.0)\">\n",
              "<path style=\" stroke:none;fill-rule:evenodd;fill:white;fill-opacity:1;\" d=\"M 18.214844 0.632812 C 16.109375 1.800781 15.011719 4.074219 15.074219 7.132812 L 15.085938 7.652344 L 14.785156 7.496094 C 13.476562 6.824219 11.957031 6.671875 10.40625 7.066406 C 8.46875 7.550781 6.515625 9.15625 4.394531 11.992188 C 3.0625 13.777344 2.679688 14.636719 3.042969 15.027344 L 3.15625 15.152344 L 3.519531 15.152344 C 4.238281 15.152344 4.828125 14.886719 8.1875 13.039062 C 9.386719 12.378906 10.371094 11.839844 10.378906 11.839844 C 10.386719 11.839844 10.355469 11.929688 10.304688 12.035156 C 9.832031 13.09375 9.257812 14.820312 8.96875 16.078125 C 7.914062 20.652344 8.617188 24.53125 11.070312 27.660156 C 11.351562 28.015625 11.363281 27.914062 10.972656 28.382812 C 8.925781 30.84375 7.945312 33.28125 8.238281 35.1875 C 8.289062 35.527344 8.28125 35.523438 8.917969 35.523438 C 10.941406 35.523438 13.074219 34.207031 15.136719 31.6875 C 15.359375 31.417969 15.328125 31.425781 15.5625 31.574219 C 16.292969 32.042969 18.023438 32.964844 18.175781 32.964844 C 18.335938 32.964844 19.941406 32.210938 20.828125 31.71875 C 20.996094 31.625 21.136719 31.554688 21.136719 31.558594 C 21.203125 31.664062 21.898438 32.414062 22.222656 32.730469 C 23.835938 34.300781 25.5625 35.132812 27.582031 35.300781 C 27.90625 35.328125 27.9375 35.308594 28.007812 34.984375 C 28.382812 33.242188 27.625 30.925781 25.863281 28.425781 L 25.542969 27.96875 L 25.699219 27.785156 C 28.945312 23.960938 29.132812 18.699219 26.257812 11.96875 L 26.207031 11.84375 L 27.945312 12.703125 C 31.53125 14.476562 32.316406 14.800781 33.03125 14.800781 C 33.976562 14.800781 33.78125 13.9375 32.472656 12.292969 C 28.519531 7.355469 25.394531 5.925781 21.921875 7.472656 L 21.558594 7.636719 L 21.578125 7.542969 C 21.699219 6.992188 21.761719 5.742188 21.699219 5.164062 C 21.496094 3.296875 20.664062 1.964844 19.003906 0.855469 C 18.480469 0.503906 18.457031 0.5 18.214844 0.632812\"/>\n",
              "</g>\n",
              "      </svg>\n",
              "    "
            ],
            "text/plain": [
              "<IPython.core.display.HTML object>"
            ]
          },
          "metadata": {},
          "output_type": "display_data"
        }
      ],
      "source": [
        "# @title Solution 4 bis\n",
        "import math\n",
        "\n",
        "turtle.initializeTurtle()\n",
        "\n",
        "def circle(r):\n",
        "\n",
        "    circumference = 2 * math.pi * r\n",
        "    n = int(circumference / 3) + 1\n",
        "    length = circumference / n\n",
        "    polygon(n, length)\n",
        "\n",
        "radius = 75\n",
        "circle(radius)"
      ]
    },
    {
      "cell_type": "markdown",
      "metadata": {
        "id": "RYDQZ406Jb8K"
      },
      "source": [
        "<p>The number of segments is an integer near <code>circumference/3</code>.\n",
        "Thus, the <code>length</code> of each segment is approximately 3 pixels.</p>\n",
        "<p>... small enough that the circles look good, but big enough to be efficient!</p>\n"
      ]
    },
    {
      "cell_type": "markdown",
      "metadata": {
        "id": "0nmJaFvpJp-c"
      },
      "source": [
        "## Refactoring"
      ]
    },
    {
      "cell_type": "markdown",
      "metadata": {
        "id": "SS0qc0t9J8A2"
      },
      "source": [
        "<p>Writing <code>circle</code> we were able to reuse <code>polygon</code>, being suitable to approximate of a circle ... but <code>arc</code> is not as cooperative!</p>"
      ]
    },
    {
      "cell_type": "markdown",
      "metadata": {
        "id": "cdEWw-HKKLb9"
      },
      "source": [
        "<p>Let's start with a <strong>copy</strong> of <code>polygon</code> to transform it into <code>arc</code>.</p>\n"
      ]
    },
    {
      "cell_type": "code",
      "execution_count": 58,
      "metadata": {
        "cellView": "form",
        "colab": {
          "base_uri": "https://localhost:8080/",
          "height": 521
        },
        "id": "DSWvjIQZJsQG",
        "outputId": "ed50a163-685a-437f-ace3-f484669199cc"
      },
      "outputs": [
        {
          "data": {
            "text/html": [
              "\n",
              "      <svg width=\"800\" height=\"500\">\n",
              "        <rect width=\"100%\" height=\"100%\" fill=\"black\"/>\n",
              "        <line x1=\"400\" y1=\"250\" x2=\"400.0\" y2=\"247.008\" stroke-linecap=\"round\" style=\"stroke:white;stroke-width:4\"/><line x1=\"400.0\" y1=\"247.008\" x2=\"399.94\" y2=\"244.017\" stroke-linecap=\"round\" style=\"stroke:white;stroke-width:4\"/><line x1=\"399.94\" y1=\"244.017\" x2=\"399.821\" y2=\"241.027\" stroke-linecap=\"round\" style=\"stroke:white;stroke-width:4\"/><line x1=\"399.821\" y1=\"241.027\" x2=\"399.642\" y2=\"238.04\" stroke-linecap=\"round\" style=\"stroke:white;stroke-width:4\"/><line x1=\"399.642\" y1=\"238.04\" x2=\"399.404\" y2=\"235.058\" stroke-linecap=\"round\" style=\"stroke:white;stroke-width:4\"/><line x1=\"399.404\" y1=\"235.058\" x2=\"399.106\" y2=\"232.081\" stroke-linecap=\"round\" style=\"stroke:white;stroke-width:4\"/><line x1=\"399.106\" y1=\"232.081\" x2=\"398.749\" y2=\"229.11\" stroke-linecap=\"round\" style=\"stroke:white;stroke-width:4\"/><line x1=\"398.749\" y1=\"229.11\" x2=\"398.333\" y2=\"226.147\" stroke-linecap=\"round\" style=\"stroke:white;stroke-width:4\"/><line x1=\"398.333\" y1=\"226.147\" x2=\"397.858\" y2=\"223.193\" stroke-linecap=\"round\" style=\"stroke:white;stroke-width:4\"/><line x1=\"397.858\" y1=\"223.193\" x2=\"397.324\" y2=\"220.249\" stroke-linecap=\"round\" style=\"stroke:white;stroke-width:4\"/><line x1=\"397.324\" y1=\"220.249\" x2=\"396.731\" y2=\"217.316\" stroke-linecap=\"round\" style=\"stroke:white;stroke-width:4\"/><line x1=\"396.731\" y1=\"217.316\" x2=\"396.08\" y2=\"214.396\" stroke-linecap=\"round\" style=\"stroke:white;stroke-width:4\"/><line x1=\"396.08\" y1=\"214.396\" x2=\"395.371\" y2=\"211.489\" stroke-linecap=\"round\" style=\"stroke:white;stroke-width:4\"/><line x1=\"395.371\" y1=\"211.489\" x2=\"394.604\" y2=\"208.597\" stroke-linecap=\"round\" style=\"stroke:white;stroke-width:4\"/><line x1=\"394.604\" y1=\"208.597\" x2=\"393.779\" y2=\"205.721\" stroke-linecap=\"round\" style=\"stroke:white;stroke-width:4\"/><line x1=\"393.779\" y1=\"205.721\" x2=\"392.897\" y2=\"202.862\" stroke-linecap=\"round\" style=\"stroke:white;stroke-width:4\"/><line x1=\"392.897\" y1=\"202.862\" x2=\"391.958\" y2=\"200.021\" stroke-linecap=\"round\" style=\"stroke:white;stroke-width:4\"/><line x1=\"391.958\" y1=\"200.021\" x2=\"390.963\" y2=\"197.199\" stroke-linecap=\"round\" style=\"stroke:white;stroke-width:4\"/><line x1=\"390.963\" y1=\"197.199\" x2=\"389.912\" y2=\"194.398\" stroke-linecap=\"round\" style=\"stroke:white;stroke-width:4\"/><line x1=\"389.912\" y1=\"194.398\" x2=\"388.805\" y2=\"191.618\" stroke-linecap=\"round\" style=\"stroke:white;stroke-width:4\"/><line x1=\"388.805\" y1=\"191.618\" x2=\"387.643\" y2=\"188.861\" stroke-linecap=\"round\" style=\"stroke:white;stroke-width:4\"/><line x1=\"387.643\" y1=\"188.861\" x2=\"386.426\" y2=\"186.128\" stroke-linecap=\"round\" style=\"stroke:white;stroke-width:4\"/><line x1=\"386.426\" y1=\"186.128\" x2=\"385.155\" y2=\"183.419\" stroke-linecap=\"round\" style=\"stroke:white;stroke-width:4\"/><line x1=\"385.155\" y1=\"183.419\" x2=\"383.83\" y2=\"180.736\" stroke-linecap=\"round\" style=\"stroke:white;stroke-width:4\"/><line x1=\"383.83\" y1=\"180.736\" x2=\"382.452\" y2=\"178.08\" stroke-linecap=\"round\" style=\"stroke:white;stroke-width:4\"/><line x1=\"382.452\" y1=\"178.08\" x2=\"381.021\" y2=\"175.452\" stroke-linecap=\"round\" style=\"stroke:white;stroke-width:4\"/><line x1=\"381.021\" y1=\"175.452\" x2=\"379.538\" y2=\"172.853\" stroke-linecap=\"round\" style=\"stroke:white;stroke-width:4\"/><line x1=\"379.538\" y1=\"172.853\" x2=\"378.003\" y2=\"170.285\" stroke-linecap=\"round\" style=\"stroke:white;stroke-width:4\"/><line x1=\"378.003\" y1=\"170.285\" x2=\"376.417\" y2=\"167.748\" stroke-linecap=\"round\" style=\"stroke:white;stroke-width:4\"/><line x1=\"376.417\" y1=\"167.748\" x2=\"374.781\" y2=\"165.243\" stroke-linecap=\"round\" style=\"stroke:white;stroke-width:4\"/><line x1=\"374.781\" y1=\"165.243\" x2=\"373.096\" y2=\"162.771\" stroke-linecap=\"round\" style=\"stroke:white;stroke-width:4\"/><line x1=\"373.096\" y1=\"162.771\" x2=\"371.362\" y2=\"160.333\" stroke-linecap=\"round\" style=\"stroke:white;stroke-width:4\"/><line x1=\"371.362\" y1=\"160.333\" x2=\"369.579\" y2=\"157.93\" stroke-linecap=\"round\" style=\"stroke:white;stroke-width:4\"/><line x1=\"369.579\" y1=\"157.93\" x2=\"367.749\" y2=\"155.563\" stroke-linecap=\"round\" style=\"stroke:white;stroke-width:4\"/><line x1=\"367.749\" y1=\"155.563\" x2=\"365.872\" y2=\"153.233\" stroke-linecap=\"round\" style=\"stroke:white;stroke-width:4\"/><line x1=\"365.872\" y1=\"153.233\" x2=\"363.949\" y2=\"150.941\" stroke-linecap=\"round\" style=\"stroke:white;stroke-width:4\"/><line x1=\"363.949\" y1=\"150.941\" x2=\"361.98\" y2=\"148.688\" stroke-linecap=\"round\" style=\"stroke:white;stroke-width:4\"/><line x1=\"361.98\" y1=\"148.688\" x2=\"359.967\" y2=\"146.475\" stroke-linecap=\"round\" style=\"stroke:white;stroke-width:4\"/><line x1=\"359.967\" y1=\"146.475\" x2=\"357.91\" y2=\"144.302\" stroke-linecap=\"round\" style=\"stroke:white;stroke-width:4\"/><line x1=\"357.91\" y1=\"144.302\" x2=\"355.81\" y2=\"142.171\" stroke-linecap=\"round\" style=\"stroke:white;stroke-width:4\"/><line x1=\"355.81\" y1=\"142.171\" x2=\"353.668\" y2=\"140.082\" stroke-linecap=\"round\" style=\"stroke:white;stroke-width:4\"/><line x1=\"353.668\" y1=\"140.082\" x2=\"351.485\" y2=\"138.036\" stroke-linecap=\"round\" style=\"stroke:white;stroke-width:4\"/><line x1=\"351.485\" y1=\"138.036\" x2=\"349.262\" y2=\"136.034\" stroke-linecap=\"round\" style=\"stroke:white;stroke-width:4\"/><line x1=\"349.262\" y1=\"136.034\" x2=\"346.999\" y2=\"134.077\" stroke-linecap=\"round\" style=\"stroke:white;stroke-width:4\"/><line x1=\"346.999\" y1=\"134.077\" x2=\"344.697\" y2=\"132.165\" stroke-linecap=\"round\" style=\"stroke:white;stroke-width:4\"/><line x1=\"344.697\" y1=\"132.165\" x2=\"342.358\" y2=\"130.3\" stroke-linecap=\"round\" style=\"stroke:white;stroke-width:4\"/><line x1=\"342.358\" y1=\"130.3\" x2=\"339.982\" y2=\"128.482\" stroke-linecap=\"round\" style=\"stroke:white;stroke-width:4\"/><line x1=\"339.982\" y1=\"128.482\" x2=\"337.57\" y2=\"126.711\" stroke-linecap=\"round\" style=\"stroke:white;stroke-width:4\"/><line x1=\"337.57\" y1=\"126.711\" x2=\"335.123\" y2=\"124.989\" stroke-linecap=\"round\" style=\"stroke:white;stroke-width:4\"/><line x1=\"335.123\" y1=\"124.989\" x2=\"332.643\" y2=\"123.316\" stroke-linecap=\"round\" style=\"stroke:white;stroke-width:4\"/><line x1=\"332.643\" y1=\"123.316\" x2=\"330.13\" y2=\"121.693\" stroke-linecap=\"round\" style=\"stroke:white;stroke-width:4\"/><line x1=\"330.13\" y1=\"121.693\" x2=\"327.585\" y2=\"120.12\" stroke-linecap=\"round\" style=\"stroke:white;stroke-width:4\"/><line x1=\"327.585\" y1=\"120.12\" x2=\"325.009\" y2=\"118.598\" stroke-linecap=\"round\" style=\"stroke:white;stroke-width:4\"/><line x1=\"325.009\" y1=\"118.598\" x2=\"322.403\" y2=\"117.128\" stroke-linecap=\"round\" style=\"stroke:white;stroke-width:4\"/><line x1=\"322.403\" y1=\"117.128\" x2=\"319.768\" y2=\"115.71\" stroke-linecap=\"round\" style=\"stroke:white;stroke-width:4\"/><line x1=\"319.768\" y1=\"115.71\" x2=\"317.106\" y2=\"114.345\" stroke-linecap=\"round\" style=\"stroke:white;stroke-width:4\"/><line x1=\"317.106\" y1=\"114.345\" x2=\"314.417\" y2=\"113.033\" stroke-linecap=\"round\" style=\"stroke:white;stroke-width:4\"/><line x1=\"314.417\" y1=\"113.033\" x2=\"311.702\" y2=\"111.775\" stroke-linecap=\"round\" style=\"stroke:white;stroke-width:4\"/><line x1=\"311.702\" y1=\"111.775\" x2=\"308.963\" y2=\"110.572\" stroke-linecap=\"round\" style=\"stroke:white;stroke-width:4\"/><line x1=\"308.963\" y1=\"110.572\" x2=\"306.2\" y2=\"109.424\" stroke-linecap=\"round\" style=\"stroke:white;stroke-width:4\"/><line x1=\"306.2\" y1=\"109.424\" x2=\"303.415\" y2=\"108.331\" stroke-linecap=\"round\" style=\"stroke:white;stroke-width:4\"/><line x1=\"303.415\" y1=\"108.331\" x2=\"300.609\" y2=\"107.294\" stroke-linecap=\"round\" style=\"stroke:white;stroke-width:4\"/><line x1=\"300.609\" y1=\"107.294\" x2=\"297.782\" y2=\"106.313\" stroke-linecap=\"round\" style=\"stroke:white;stroke-width:4\"/><line x1=\"297.782\" y1=\"106.313\" x2=\"294.936\" y2=\"105.388\" stroke-linecap=\"round\" style=\"stroke:white;stroke-width:4\"/><line x1=\"294.936\" y1=\"105.388\" x2=\"292.073\" y2=\"104.52\" stroke-linecap=\"round\" style=\"stroke:white;stroke-width:4\"/><line x1=\"292.073\" y1=\"104.52\" x2=\"289.193\" y2=\"103.71\" stroke-linecap=\"round\" style=\"stroke:white;stroke-width:4\"/><line x1=\"289.193\" y1=\"103.71\" x2=\"286.297\" y2=\"102.957\" stroke-linecap=\"round\" style=\"stroke:white;stroke-width:4\"/><line x1=\"286.297\" y1=\"102.957\" x2=\"283.387\" y2=\"102.262\" stroke-linecap=\"round\" style=\"stroke:white;stroke-width:4\"/><line x1=\"283.387\" y1=\"102.262\" x2=\"280.464\" y2=\"101.625\" stroke-linecap=\"round\" style=\"stroke:white;stroke-width:4\"/><line x1=\"280.464\" y1=\"101.625\" x2=\"277.528\" y2=\"101.047\" stroke-linecap=\"round\" style=\"stroke:white;stroke-width:4\"/><line x1=\"277.528\" y1=\"101.047\" x2=\"274.581\" y2=\"100.527\" stroke-linecap=\"round\" style=\"stroke:white;stroke-width:4\"/><line x1=\"274.581\" y1=\"100.527\" x2=\"271.625\" y2=\"100.066\" stroke-linecap=\"round\" style=\"stroke:white;stroke-width:4\"/><line x1=\"271.625\" y1=\"100.066\" x2=\"268.66\" y2=\"99.664\" stroke-linecap=\"round\" style=\"stroke:white;stroke-width:4\"/><line x1=\"268.66\" y1=\"99.664\" x2=\"265.688\" y2=\"99.322\" stroke-linecap=\"round\" style=\"stroke:white;stroke-width:4\"/><line x1=\"265.688\" y1=\"99.322\" x2=\"262.709\" y2=\"99.039\" stroke-linecap=\"round\" style=\"stroke:white;stroke-width:4\"/><line x1=\"262.709\" y1=\"99.039\" x2=\"259.725\" y2=\"98.815\" stroke-linecap=\"round\" style=\"stroke:white;stroke-width:4\"/><line x1=\"259.725\" y1=\"98.815\" x2=\"256.738\" y2=\"98.651\" stroke-linecap=\"round\" style=\"stroke:white;stroke-width:4\"/><line x1=\"256.738\" y1=\"98.651\" x2=\"253.748\" y2=\"98.547\" stroke-linecap=\"round\" style=\"stroke:white;stroke-width:4\"/><line x1=\"253.748\" y1=\"98.547\" x2=\"250.756\" y2=\"98.502\" stroke-linecap=\"round\" style=\"stroke:white;stroke-width:4\"/><line x1=\"250.756\" y1=\"98.502\" x2=\"247.764\" y2=\"98.517\" stroke-linecap=\"round\" style=\"stroke:white;stroke-width:4\"/><line x1=\"247.764\" y1=\"98.517\" x2=\"244.773\" y2=\"98.592\" stroke-linecap=\"round\" style=\"stroke:white;stroke-width:4\"/><line x1=\"244.773\" y1=\"98.592\" x2=\"241.784\" y2=\"98.726\" stroke-linecap=\"round\" style=\"stroke:white;stroke-width:4\"/><line x1=\"241.784\" y1=\"98.726\" x2=\"238.798\" y2=\"98.92\" stroke-linecap=\"round\" style=\"stroke:white;stroke-width:4\"/><line x1=\"238.798\" y1=\"98.92\" x2=\"235.817\" y2=\"99.173\" stroke-linecap=\"round\" style=\"stroke:white;stroke-width:4\"/><line x1=\"235.817\" y1=\"99.173\" x2=\"232.841\" y2=\"99.486\" stroke-linecap=\"round\" style=\"stroke:white;stroke-width:4\"/><line x1=\"232.841\" y1=\"99.486\" x2=\"229.872\" y2=\"99.858\" stroke-linecap=\"round\" style=\"stroke:white;stroke-width:4\"/><line x1=\"229.872\" y1=\"99.858\" x2=\"226.911\" y2=\"100.289\" stroke-linecap=\"round\" style=\"stroke:white;stroke-width:4\"/><line x1=\"226.911\" y1=\"100.289\" x2=\"223.959\" y2=\"100.779\" stroke-linecap=\"round\" style=\"stroke:white;stroke-width:4\"/><line x1=\"223.959\" y1=\"100.779\" x2=\"221.018\" y2=\"101.328\" stroke-linecap=\"round\" style=\"stroke:white;stroke-width:4\"/><line x1=\"221.018\" y1=\"101.328\" x2=\"218.088\" y2=\"101.935\" stroke-linecap=\"round\" style=\"stroke:white;stroke-width:4\"/><line x1=\"218.088\" y1=\"101.935\" x2=\"215.171\" y2=\"102.601\" stroke-linecap=\"round\" style=\"stroke:white;stroke-width:4\"/><line x1=\"215.171\" y1=\"102.601\" x2=\"212.268\" y2=\"103.325\" stroke-linecap=\"round\" style=\"stroke:white;stroke-width:4\"/><line x1=\"212.268\" y1=\"103.325\" x2=\"209.38\" y2=\"104.107\" stroke-linecap=\"round\" style=\"stroke:white;stroke-width:4\"/><line x1=\"209.38\" y1=\"104.107\" x2=\"206.508\" y2=\"104.946\" stroke-linecap=\"round\" style=\"stroke:white;stroke-width:4\"/><line x1=\"206.508\" y1=\"104.946\" x2=\"203.653\" y2=\"105.842\" stroke-linecap=\"round\" style=\"stroke:white;stroke-width:4\"/><line x1=\"203.653\" y1=\"105.842\" x2=\"200.817\" y2=\"106.795\" stroke-linecap=\"round\" style=\"stroke:white;stroke-width:4\"/><line x1=\"200.817\" y1=\"106.795\" x2=\"198.0\" y2=\"107.804\" stroke-linecap=\"round\" style=\"stroke:white;stroke-width:4\"/><line x1=\"198.0\" y1=\"107.804\" x2=\"195.204\" y2=\"108.869\" stroke-linecap=\"round\" style=\"stroke:white;stroke-width:4\"/><line x1=\"195.204\" y1=\"108.869\" x2=\"192.43\" y2=\"109.99\" stroke-linecap=\"round\" style=\"stroke:white;stroke-width:4\"/><line x1=\"192.43\" y1=\"109.99\" x2=\"189.679\" y2=\"111.166\" stroke-linecap=\"round\" style=\"stroke:white;stroke-width:4\"/><line x1=\"189.679\" y1=\"111.166\" x2=\"186.952\" y2=\"112.397\" stroke-linecap=\"round\" style=\"stroke:white;stroke-width:4\"/><line x1=\"186.952\" y1=\"112.397\" x2=\"184.25\" y2=\"113.682\" stroke-linecap=\"round\" style=\"stroke:white;stroke-width:4\"/><line x1=\"184.25\" y1=\"113.682\" x2=\"181.574\" y2=\"115.02\" stroke-linecap=\"round\" style=\"stroke:white;stroke-width:4\"/><line x1=\"181.574\" y1=\"115.02\" x2=\"178.925\" y2=\"116.411\" stroke-linecap=\"round\" style=\"stroke:white;stroke-width:4\"/><line x1=\"178.925\" y1=\"116.411\" x2=\"176.305\" y2=\"117.855\" stroke-linecap=\"round\" style=\"stroke:white;stroke-width:4\"/>\n",
              "        <g visibility=visible transform=\"rotate(240.00000000000009,176.305,117.855) translate(158.305, 99.855)\">\n",
              "<path style=\" stroke:none;fill-rule:evenodd;fill:white;fill-opacity:1;\" d=\"M 18.214844 0.632812 C 16.109375 1.800781 15.011719 4.074219 15.074219 7.132812 L 15.085938 7.652344 L 14.785156 7.496094 C 13.476562 6.824219 11.957031 6.671875 10.40625 7.066406 C 8.46875 7.550781 6.515625 9.15625 4.394531 11.992188 C 3.0625 13.777344 2.679688 14.636719 3.042969 15.027344 L 3.15625 15.152344 L 3.519531 15.152344 C 4.238281 15.152344 4.828125 14.886719 8.1875 13.039062 C 9.386719 12.378906 10.371094 11.839844 10.378906 11.839844 C 10.386719 11.839844 10.355469 11.929688 10.304688 12.035156 C 9.832031 13.09375 9.257812 14.820312 8.96875 16.078125 C 7.914062 20.652344 8.617188 24.53125 11.070312 27.660156 C 11.351562 28.015625 11.363281 27.914062 10.972656 28.382812 C 8.925781 30.84375 7.945312 33.28125 8.238281 35.1875 C 8.289062 35.527344 8.28125 35.523438 8.917969 35.523438 C 10.941406 35.523438 13.074219 34.207031 15.136719 31.6875 C 15.359375 31.417969 15.328125 31.425781 15.5625 31.574219 C 16.292969 32.042969 18.023438 32.964844 18.175781 32.964844 C 18.335938 32.964844 19.941406 32.210938 20.828125 31.71875 C 20.996094 31.625 21.136719 31.554688 21.136719 31.558594 C 21.203125 31.664062 21.898438 32.414062 22.222656 32.730469 C 23.835938 34.300781 25.5625 35.132812 27.582031 35.300781 C 27.90625 35.328125 27.9375 35.308594 28.007812 34.984375 C 28.382812 33.242188 27.625 30.925781 25.863281 28.425781 L 25.542969 27.96875 L 25.699219 27.785156 C 28.945312 23.960938 29.132812 18.699219 26.257812 11.96875 L 26.207031 11.84375 L 27.945312 12.703125 C 31.53125 14.476562 32.316406 14.800781 33.03125 14.800781 C 33.976562 14.800781 33.78125 13.9375 32.472656 12.292969 C 28.519531 7.355469 25.394531 5.925781 21.921875 7.472656 L 21.558594 7.636719 L 21.578125 7.542969 C 21.699219 6.992188 21.761719 5.742188 21.699219 5.164062 C 21.496094 3.296875 20.664062 1.964844 19.003906 0.855469 C 18.480469 0.503906 18.457031 0.5 18.214844 0.632812\"/>\n",
              "</g>\n",
              "      </svg>\n",
              "    "
            ],
            "text/plain": [
              "<IPython.core.display.HTML object>"
            ]
          },
          "metadata": {},
          "output_type": "display_data"
        }
      ],
      "source": [
        "# @title Solution 5 beta\n",
        "def arc(r, angle):\n",
        "    arc_length = 2 * math.pi * r * angle / 360\n",
        "    n = int(arc_length / 3) + 1\n",
        "    step_length = arc_length / n\n",
        "    step_angle = angle / n\n",
        "\n",
        "    for _ in range(n):\n",
        "        turtle.fd(step_length)\n",
        "        turtle.lt(step_angle)\n",
        "\n",
        "turtle.initializeTurtle()\n",
        "\n",
        "radius = 150\n",
        "sector = 120\n",
        "arc(radius, sector)"
      ]
    },
    {
      "cell_type": "markdown",
      "metadata": {
        "id": "Ab1_9NN3K3hL"
      },
      "source": [
        "<p>The second half looks like <code>polygon</code></p>\n",
        "<p> ... but we can’t <strong>reuse</strong> polygon without <strong>changing</strong> (aka <strong>refactoring</strong>) the interface!</p>\n"
      ]
    },
    {
      "cell_type": "markdown",
      "metadata": {
        "id": "ePRqeQayMScj"
      },
      "source": [
        "<p>We can <strong>generalize</strong> polygon to take an <code>angle</code> as a third <strong>argument</strong>, but then <code>polygon</code> would no longer be an appropriate name!</p>\n",
        "<p>Instead, let’s call the more general function <code>polyline</code>:</p>\n"
      ]
    },
    {
      "cell_type": "code",
      "execution_count": 59,
      "metadata": {
        "cellView": "form",
        "id": "YIaQsoaKK7AI"
      },
      "outputs": [],
      "source": [
        "# @title Solution 5\n",
        "def polyline(n, length, angle):\n",
        "    for _ in range(n):\n",
        "        turtle.fd(length)\n",
        "        turtle.lt(angle)"
      ]
    },
    {
      "cell_type": "markdown",
      "metadata": {
        "id": "CmKKusJ_MfEM"
      },
      "source": [
        "<p>Now we can <strong>rewrite</strong> (aka <strong>refactor</strong>) <code>polygon</code> and <code>arc</code> using <code>polyline</code>:</p>"
      ]
    },
    {
      "cell_type": "code",
      "execution_count": 60,
      "metadata": {
        "colab": {
          "base_uri": "https://localhost:8080/",
          "height": 521
        },
        "id": "0dmmsnhNMf0F",
        "outputId": "b632472c-e706-43df-fa6d-e10c45d4cd1d"
      },
      "outputs": [
        {
          "data": {
            "text/html": [
              "\n",
              "      <svg width=\"800\" height=\"500\">\n",
              "        <rect width=\"100%\" height=\"100%\" fill=\"black\"/>\n",
              "        <line x1=\"400\" y1=\"250\" x2=\"400.0\" y2=\"247.008\" stroke-linecap=\"round\" style=\"stroke:white;stroke-width:4\"/><line x1=\"400.0\" y1=\"247.008\" x2=\"399.94\" y2=\"244.017\" stroke-linecap=\"round\" style=\"stroke:white;stroke-width:4\"/><line x1=\"399.94\" y1=\"244.017\" x2=\"399.821\" y2=\"241.027\" stroke-linecap=\"round\" style=\"stroke:white;stroke-width:4\"/><line x1=\"399.821\" y1=\"241.027\" x2=\"399.642\" y2=\"238.04\" stroke-linecap=\"round\" style=\"stroke:white;stroke-width:4\"/><line x1=\"399.642\" y1=\"238.04\" x2=\"399.404\" y2=\"235.058\" stroke-linecap=\"round\" style=\"stroke:white;stroke-width:4\"/><line x1=\"399.404\" y1=\"235.058\" x2=\"399.106\" y2=\"232.081\" stroke-linecap=\"round\" style=\"stroke:white;stroke-width:4\"/><line x1=\"399.106\" y1=\"232.081\" x2=\"398.749\" y2=\"229.11\" stroke-linecap=\"round\" style=\"stroke:white;stroke-width:4\"/><line x1=\"398.749\" y1=\"229.11\" x2=\"398.333\" y2=\"226.147\" stroke-linecap=\"round\" style=\"stroke:white;stroke-width:4\"/><line x1=\"398.333\" y1=\"226.147\" x2=\"397.858\" y2=\"223.193\" stroke-linecap=\"round\" style=\"stroke:white;stroke-width:4\"/><line x1=\"397.858\" y1=\"223.193\" x2=\"397.324\" y2=\"220.249\" stroke-linecap=\"round\" style=\"stroke:white;stroke-width:4\"/><line x1=\"397.324\" y1=\"220.249\" x2=\"396.731\" y2=\"217.316\" stroke-linecap=\"round\" style=\"stroke:white;stroke-width:4\"/><line x1=\"396.731\" y1=\"217.316\" x2=\"396.08\" y2=\"214.396\" stroke-linecap=\"round\" style=\"stroke:white;stroke-width:4\"/><line x1=\"396.08\" y1=\"214.396\" x2=\"395.371\" y2=\"211.489\" stroke-linecap=\"round\" style=\"stroke:white;stroke-width:4\"/><line x1=\"395.371\" y1=\"211.489\" x2=\"394.604\" y2=\"208.597\" stroke-linecap=\"round\" style=\"stroke:white;stroke-width:4\"/><line x1=\"394.604\" y1=\"208.597\" x2=\"393.779\" y2=\"205.721\" stroke-linecap=\"round\" style=\"stroke:white;stroke-width:4\"/><line x1=\"393.779\" y1=\"205.721\" x2=\"392.897\" y2=\"202.862\" stroke-linecap=\"round\" style=\"stroke:white;stroke-width:4\"/><line x1=\"392.897\" y1=\"202.862\" x2=\"391.958\" y2=\"200.021\" stroke-linecap=\"round\" style=\"stroke:white;stroke-width:4\"/><line x1=\"391.958\" y1=\"200.021\" x2=\"390.963\" y2=\"197.199\" stroke-linecap=\"round\" style=\"stroke:white;stroke-width:4\"/><line x1=\"390.963\" y1=\"197.199\" x2=\"389.912\" y2=\"194.398\" stroke-linecap=\"round\" style=\"stroke:white;stroke-width:4\"/><line x1=\"389.912\" y1=\"194.398\" x2=\"388.805\" y2=\"191.618\" stroke-linecap=\"round\" style=\"stroke:white;stroke-width:4\"/><line x1=\"388.805\" y1=\"191.618\" x2=\"387.643\" y2=\"188.861\" stroke-linecap=\"round\" style=\"stroke:white;stroke-width:4\"/><line x1=\"387.643\" y1=\"188.861\" x2=\"386.426\" y2=\"186.128\" stroke-linecap=\"round\" style=\"stroke:white;stroke-width:4\"/><line x1=\"386.426\" y1=\"186.128\" x2=\"385.155\" y2=\"183.419\" stroke-linecap=\"round\" style=\"stroke:white;stroke-width:4\"/><line x1=\"385.155\" y1=\"183.419\" x2=\"383.83\" y2=\"180.736\" stroke-linecap=\"round\" style=\"stroke:white;stroke-width:4\"/><line x1=\"383.83\" y1=\"180.736\" x2=\"382.452\" y2=\"178.08\" stroke-linecap=\"round\" style=\"stroke:white;stroke-width:4\"/><line x1=\"382.452\" y1=\"178.08\" x2=\"381.021\" y2=\"175.452\" stroke-linecap=\"round\" style=\"stroke:white;stroke-width:4\"/><line x1=\"381.021\" y1=\"175.452\" x2=\"379.538\" y2=\"172.853\" stroke-linecap=\"round\" style=\"stroke:white;stroke-width:4\"/><line x1=\"379.538\" y1=\"172.853\" x2=\"378.003\" y2=\"170.285\" stroke-linecap=\"round\" style=\"stroke:white;stroke-width:4\"/><line x1=\"378.003\" y1=\"170.285\" x2=\"376.417\" y2=\"167.748\" stroke-linecap=\"round\" style=\"stroke:white;stroke-width:4\"/><line x1=\"376.417\" y1=\"167.748\" x2=\"374.781\" y2=\"165.243\" stroke-linecap=\"round\" style=\"stroke:white;stroke-width:4\"/><line x1=\"374.781\" y1=\"165.243\" x2=\"373.096\" y2=\"162.771\" stroke-linecap=\"round\" style=\"stroke:white;stroke-width:4\"/><line x1=\"373.096\" y1=\"162.771\" x2=\"371.362\" y2=\"160.333\" stroke-linecap=\"round\" style=\"stroke:white;stroke-width:4\"/><line x1=\"371.362\" y1=\"160.333\" x2=\"369.579\" y2=\"157.93\" stroke-linecap=\"round\" style=\"stroke:white;stroke-width:4\"/><line x1=\"369.579\" y1=\"157.93\" x2=\"367.749\" y2=\"155.563\" stroke-linecap=\"round\" style=\"stroke:white;stroke-width:4\"/><line x1=\"367.749\" y1=\"155.563\" x2=\"365.872\" y2=\"153.233\" stroke-linecap=\"round\" style=\"stroke:white;stroke-width:4\"/><line x1=\"365.872\" y1=\"153.233\" x2=\"363.949\" y2=\"150.941\" stroke-linecap=\"round\" style=\"stroke:white;stroke-width:4\"/><line x1=\"363.949\" y1=\"150.941\" x2=\"361.98\" y2=\"148.688\" stroke-linecap=\"round\" style=\"stroke:white;stroke-width:4\"/><line x1=\"361.98\" y1=\"148.688\" x2=\"359.967\" y2=\"146.475\" stroke-linecap=\"round\" style=\"stroke:white;stroke-width:4\"/><line x1=\"359.967\" y1=\"146.475\" x2=\"357.91\" y2=\"144.302\" stroke-linecap=\"round\" style=\"stroke:white;stroke-width:4\"/><line x1=\"357.91\" y1=\"144.302\" x2=\"355.81\" y2=\"142.171\" stroke-linecap=\"round\" style=\"stroke:white;stroke-width:4\"/><line x1=\"355.81\" y1=\"142.171\" x2=\"353.668\" y2=\"140.082\" stroke-linecap=\"round\" style=\"stroke:white;stroke-width:4\"/><line x1=\"353.668\" y1=\"140.082\" x2=\"351.485\" y2=\"138.036\" stroke-linecap=\"round\" style=\"stroke:white;stroke-width:4\"/><line x1=\"351.485\" y1=\"138.036\" x2=\"349.262\" y2=\"136.034\" stroke-linecap=\"round\" style=\"stroke:white;stroke-width:4\"/><line x1=\"349.262\" y1=\"136.034\" x2=\"346.999\" y2=\"134.077\" stroke-linecap=\"round\" style=\"stroke:white;stroke-width:4\"/><line x1=\"346.999\" y1=\"134.077\" x2=\"344.697\" y2=\"132.165\" stroke-linecap=\"round\" style=\"stroke:white;stroke-width:4\"/><line x1=\"344.697\" y1=\"132.165\" x2=\"342.358\" y2=\"130.3\" stroke-linecap=\"round\" style=\"stroke:white;stroke-width:4\"/><line x1=\"342.358\" y1=\"130.3\" x2=\"339.982\" y2=\"128.482\" stroke-linecap=\"round\" style=\"stroke:white;stroke-width:4\"/><line x1=\"339.982\" y1=\"128.482\" x2=\"337.57\" y2=\"126.711\" stroke-linecap=\"round\" style=\"stroke:white;stroke-width:4\"/><line x1=\"337.57\" y1=\"126.711\" x2=\"335.123\" y2=\"124.989\" stroke-linecap=\"round\" style=\"stroke:white;stroke-width:4\"/><line x1=\"335.123\" y1=\"124.989\" x2=\"332.643\" y2=\"123.316\" stroke-linecap=\"round\" style=\"stroke:white;stroke-width:4\"/><line x1=\"332.643\" y1=\"123.316\" x2=\"330.13\" y2=\"121.693\" stroke-linecap=\"round\" style=\"stroke:white;stroke-width:4\"/><line x1=\"330.13\" y1=\"121.693\" x2=\"327.585\" y2=\"120.12\" stroke-linecap=\"round\" style=\"stroke:white;stroke-width:4\"/><line x1=\"327.585\" y1=\"120.12\" x2=\"325.009\" y2=\"118.598\" stroke-linecap=\"round\" style=\"stroke:white;stroke-width:4\"/><line x1=\"325.009\" y1=\"118.598\" x2=\"322.403\" y2=\"117.128\" stroke-linecap=\"round\" style=\"stroke:white;stroke-width:4\"/><line x1=\"322.403\" y1=\"117.128\" x2=\"319.768\" y2=\"115.71\" stroke-linecap=\"round\" style=\"stroke:white;stroke-width:4\"/><line x1=\"319.768\" y1=\"115.71\" x2=\"317.106\" y2=\"114.345\" stroke-linecap=\"round\" style=\"stroke:white;stroke-width:4\"/><line x1=\"317.106\" y1=\"114.345\" x2=\"314.417\" y2=\"113.033\" stroke-linecap=\"round\" style=\"stroke:white;stroke-width:4\"/><line x1=\"314.417\" y1=\"113.033\" x2=\"311.702\" y2=\"111.775\" stroke-linecap=\"round\" style=\"stroke:white;stroke-width:4\"/><line x1=\"311.702\" y1=\"111.775\" x2=\"308.963\" y2=\"110.572\" stroke-linecap=\"round\" style=\"stroke:white;stroke-width:4\"/><line x1=\"308.963\" y1=\"110.572\" x2=\"306.2\" y2=\"109.424\" stroke-linecap=\"round\" style=\"stroke:white;stroke-width:4\"/><line x1=\"306.2\" y1=\"109.424\" x2=\"303.415\" y2=\"108.331\" stroke-linecap=\"round\" style=\"stroke:white;stroke-width:4\"/><line x1=\"303.415\" y1=\"108.331\" x2=\"300.609\" y2=\"107.294\" stroke-linecap=\"round\" style=\"stroke:white;stroke-width:4\"/><line x1=\"300.609\" y1=\"107.294\" x2=\"297.782\" y2=\"106.313\" stroke-linecap=\"round\" style=\"stroke:white;stroke-width:4\"/><line x1=\"297.782\" y1=\"106.313\" x2=\"294.936\" y2=\"105.388\" stroke-linecap=\"round\" style=\"stroke:white;stroke-width:4\"/><line x1=\"294.936\" y1=\"105.388\" x2=\"292.073\" y2=\"104.52\" stroke-linecap=\"round\" style=\"stroke:white;stroke-width:4\"/><line x1=\"292.073\" y1=\"104.52\" x2=\"289.193\" y2=\"103.71\" stroke-linecap=\"round\" style=\"stroke:white;stroke-width:4\"/><line x1=\"289.193\" y1=\"103.71\" x2=\"286.297\" y2=\"102.957\" stroke-linecap=\"round\" style=\"stroke:white;stroke-width:4\"/><line x1=\"286.297\" y1=\"102.957\" x2=\"283.387\" y2=\"102.262\" stroke-linecap=\"round\" style=\"stroke:white;stroke-width:4\"/><line x1=\"283.387\" y1=\"102.262\" x2=\"280.464\" y2=\"101.625\" stroke-linecap=\"round\" style=\"stroke:white;stroke-width:4\"/><line x1=\"280.464\" y1=\"101.625\" x2=\"277.528\" y2=\"101.047\" stroke-linecap=\"round\" style=\"stroke:white;stroke-width:4\"/><line x1=\"277.528\" y1=\"101.047\" x2=\"274.581\" y2=\"100.527\" stroke-linecap=\"round\" style=\"stroke:white;stroke-width:4\"/><line x1=\"274.581\" y1=\"100.527\" x2=\"271.625\" y2=\"100.066\" stroke-linecap=\"round\" style=\"stroke:white;stroke-width:4\"/><line x1=\"271.625\" y1=\"100.066\" x2=\"268.66\" y2=\"99.664\" stroke-linecap=\"round\" style=\"stroke:white;stroke-width:4\"/><line x1=\"268.66\" y1=\"99.664\" x2=\"265.688\" y2=\"99.322\" stroke-linecap=\"round\" style=\"stroke:white;stroke-width:4\"/><line x1=\"265.688\" y1=\"99.322\" x2=\"262.709\" y2=\"99.039\" stroke-linecap=\"round\" style=\"stroke:white;stroke-width:4\"/><line x1=\"262.709\" y1=\"99.039\" x2=\"259.725\" y2=\"98.815\" stroke-linecap=\"round\" style=\"stroke:white;stroke-width:4\"/><line x1=\"259.725\" y1=\"98.815\" x2=\"256.738\" y2=\"98.651\" stroke-linecap=\"round\" style=\"stroke:white;stroke-width:4\"/><line x1=\"256.738\" y1=\"98.651\" x2=\"253.748\" y2=\"98.547\" stroke-linecap=\"round\" style=\"stroke:white;stroke-width:4\"/><line x1=\"253.748\" y1=\"98.547\" x2=\"250.756\" y2=\"98.502\" stroke-linecap=\"round\" style=\"stroke:white;stroke-width:4\"/><line x1=\"250.756\" y1=\"98.502\" x2=\"247.764\" y2=\"98.517\" stroke-linecap=\"round\" style=\"stroke:white;stroke-width:4\"/><line x1=\"247.764\" y1=\"98.517\" x2=\"244.773\" y2=\"98.592\" stroke-linecap=\"round\" style=\"stroke:white;stroke-width:4\"/><line x1=\"244.773\" y1=\"98.592\" x2=\"241.784\" y2=\"98.726\" stroke-linecap=\"round\" style=\"stroke:white;stroke-width:4\"/><line x1=\"241.784\" y1=\"98.726\" x2=\"238.798\" y2=\"98.92\" stroke-linecap=\"round\" style=\"stroke:white;stroke-width:4\"/><line x1=\"238.798\" y1=\"98.92\" x2=\"235.817\" y2=\"99.173\" stroke-linecap=\"round\" style=\"stroke:white;stroke-width:4\"/><line x1=\"235.817\" y1=\"99.173\" x2=\"232.841\" y2=\"99.486\" stroke-linecap=\"round\" style=\"stroke:white;stroke-width:4\"/><line x1=\"232.841\" y1=\"99.486\" x2=\"229.872\" y2=\"99.858\" stroke-linecap=\"round\" style=\"stroke:white;stroke-width:4\"/><line x1=\"229.872\" y1=\"99.858\" x2=\"226.911\" y2=\"100.289\" stroke-linecap=\"round\" style=\"stroke:white;stroke-width:4\"/><line x1=\"226.911\" y1=\"100.289\" x2=\"223.959\" y2=\"100.779\" stroke-linecap=\"round\" style=\"stroke:white;stroke-width:4\"/><line x1=\"223.959\" y1=\"100.779\" x2=\"221.018\" y2=\"101.328\" stroke-linecap=\"round\" style=\"stroke:white;stroke-width:4\"/><line x1=\"221.018\" y1=\"101.328\" x2=\"218.088\" y2=\"101.935\" stroke-linecap=\"round\" style=\"stroke:white;stroke-width:4\"/><line x1=\"218.088\" y1=\"101.935\" x2=\"215.171\" y2=\"102.601\" stroke-linecap=\"round\" style=\"stroke:white;stroke-width:4\"/><line x1=\"215.171\" y1=\"102.601\" x2=\"212.268\" y2=\"103.325\" stroke-linecap=\"round\" style=\"stroke:white;stroke-width:4\"/><line x1=\"212.268\" y1=\"103.325\" x2=\"209.38\" y2=\"104.107\" stroke-linecap=\"round\" style=\"stroke:white;stroke-width:4\"/><line x1=\"209.38\" y1=\"104.107\" x2=\"206.508\" y2=\"104.946\" stroke-linecap=\"round\" style=\"stroke:white;stroke-width:4\"/><line x1=\"206.508\" y1=\"104.946\" x2=\"203.653\" y2=\"105.842\" stroke-linecap=\"round\" style=\"stroke:white;stroke-width:4\"/><line x1=\"203.653\" y1=\"105.842\" x2=\"200.817\" y2=\"106.795\" stroke-linecap=\"round\" style=\"stroke:white;stroke-width:4\"/><line x1=\"200.817\" y1=\"106.795\" x2=\"198.0\" y2=\"107.804\" stroke-linecap=\"round\" style=\"stroke:white;stroke-width:4\"/><line x1=\"198.0\" y1=\"107.804\" x2=\"195.204\" y2=\"108.869\" stroke-linecap=\"round\" style=\"stroke:white;stroke-width:4\"/><line x1=\"195.204\" y1=\"108.869\" x2=\"192.43\" y2=\"109.99\" stroke-linecap=\"round\" style=\"stroke:white;stroke-width:4\"/><line x1=\"192.43\" y1=\"109.99\" x2=\"189.679\" y2=\"111.166\" stroke-linecap=\"round\" style=\"stroke:white;stroke-width:4\"/><line x1=\"189.679\" y1=\"111.166\" x2=\"186.952\" y2=\"112.397\" stroke-linecap=\"round\" style=\"stroke:white;stroke-width:4\"/><line x1=\"186.952\" y1=\"112.397\" x2=\"184.25\" y2=\"113.682\" stroke-linecap=\"round\" style=\"stroke:white;stroke-width:4\"/><line x1=\"184.25\" y1=\"113.682\" x2=\"181.574\" y2=\"115.02\" stroke-linecap=\"round\" style=\"stroke:white;stroke-width:4\"/><line x1=\"181.574\" y1=\"115.02\" x2=\"178.925\" y2=\"116.411\" stroke-linecap=\"round\" style=\"stroke:white;stroke-width:4\"/><line x1=\"178.925\" y1=\"116.411\" x2=\"176.305\" y2=\"117.855\" stroke-linecap=\"round\" style=\"stroke:white;stroke-width:4\"/>\n",
              "        <g visibility=visible transform=\"rotate(240.00000000000009,176.305,117.855) translate(158.305, 99.855)\">\n",
              "<path style=\" stroke:none;fill-rule:evenodd;fill:white;fill-opacity:1;\" d=\"M 18.214844 0.632812 C 16.109375 1.800781 15.011719 4.074219 15.074219 7.132812 L 15.085938 7.652344 L 14.785156 7.496094 C 13.476562 6.824219 11.957031 6.671875 10.40625 7.066406 C 8.46875 7.550781 6.515625 9.15625 4.394531 11.992188 C 3.0625 13.777344 2.679688 14.636719 3.042969 15.027344 L 3.15625 15.152344 L 3.519531 15.152344 C 4.238281 15.152344 4.828125 14.886719 8.1875 13.039062 C 9.386719 12.378906 10.371094 11.839844 10.378906 11.839844 C 10.386719 11.839844 10.355469 11.929688 10.304688 12.035156 C 9.832031 13.09375 9.257812 14.820312 8.96875 16.078125 C 7.914062 20.652344 8.617188 24.53125 11.070312 27.660156 C 11.351562 28.015625 11.363281 27.914062 10.972656 28.382812 C 8.925781 30.84375 7.945312 33.28125 8.238281 35.1875 C 8.289062 35.527344 8.28125 35.523438 8.917969 35.523438 C 10.941406 35.523438 13.074219 34.207031 15.136719 31.6875 C 15.359375 31.417969 15.328125 31.425781 15.5625 31.574219 C 16.292969 32.042969 18.023438 32.964844 18.175781 32.964844 C 18.335938 32.964844 19.941406 32.210938 20.828125 31.71875 C 20.996094 31.625 21.136719 31.554688 21.136719 31.558594 C 21.203125 31.664062 21.898438 32.414062 22.222656 32.730469 C 23.835938 34.300781 25.5625 35.132812 27.582031 35.300781 C 27.90625 35.328125 27.9375 35.308594 28.007812 34.984375 C 28.382812 33.242188 27.625 30.925781 25.863281 28.425781 L 25.542969 27.96875 L 25.699219 27.785156 C 28.945312 23.960938 29.132812 18.699219 26.257812 11.96875 L 26.207031 11.84375 L 27.945312 12.703125 C 31.53125 14.476562 32.316406 14.800781 33.03125 14.800781 C 33.976562 14.800781 33.78125 13.9375 32.472656 12.292969 C 28.519531 7.355469 25.394531 5.925781 21.921875 7.472656 L 21.558594 7.636719 L 21.578125 7.542969 C 21.699219 6.992188 21.761719 5.742188 21.699219 5.164062 C 21.496094 3.296875 20.664062 1.964844 19.003906 0.855469 C 18.480469 0.503906 18.457031 0.5 18.214844 0.632812\"/>\n",
              "</g>\n",
              "      </svg>\n",
              "    "
            ],
            "text/plain": [
              "<IPython.core.display.HTML object>"
            ]
          },
          "metadata": {},
          "output_type": "display_data"
        }
      ],
      "source": [
        "def polygon(n, length):\n",
        "    angle = 360.0 / n\n",
        "    polyline(n, length, angle)\n",
        "\n",
        "def arc(r, angle):\n",
        "    arc_length = 2 * math.pi * r * angle / 360\n",
        "    n = int(arc_length / 3) + 1\n",
        "    step_length = arc_length / n\n",
        "    step_angle = float(angle) / n\n",
        "    polyline(n, step_length, step_angle)\n",
        "\n",
        "turtle.initializeTurtle()\n",
        "\n",
        "radius = 150\n",
        "sector = 120\n",
        "arc(radius, sector)"
      ]
    },
    {
      "cell_type": "markdown",
      "metadata": {
        "id": "3gziWW9bMlUg"
      },
      "source": [
        "<p>... and even <strong>rewrite</strong> <code>circle</code> using <code>arc</code> !</p>\n"
      ]
    },
    {
      "cell_type": "code",
      "execution_count": null,
      "metadata": {
        "colab": {
          "base_uri": "https://localhost:8080/",
          "height": 521
        },
        "id": "3B_gupy7MhXQ",
        "outputId": "36d09687-c68a-4b6f-8996-96d78f107193"
      },
      "outputs": [
        {
          "data": {
            "text/html": [
              "\n",
              "      <svg width=\"800\" height=\"500\">\n",
              "        <rect width=\"100%\" height=\"100%\" fill=\"black\"/>\n",
              "        <line x1=\"400\" y1=\"250\" x2=\"400.0\" y2=\"247.008\" stroke-linecap=\"round\" style=\"stroke:white;stroke-width:4\"/><line x1=\"400.0\" y1=\"247.008\" x2=\"399.94\" y2=\"244.017\" stroke-linecap=\"round\" style=\"stroke:white;stroke-width:4\"/><line x1=\"399.94\" y1=\"244.017\" x2=\"399.821\" y2=\"241.027\" stroke-linecap=\"round\" style=\"stroke:white;stroke-width:4\"/><line x1=\"399.821\" y1=\"241.027\" x2=\"399.642\" y2=\"238.04\" stroke-linecap=\"round\" style=\"stroke:white;stroke-width:4\"/><line x1=\"399.642\" y1=\"238.04\" x2=\"399.404\" y2=\"235.058\" stroke-linecap=\"round\" style=\"stroke:white;stroke-width:4\"/><line x1=\"399.404\" y1=\"235.058\" x2=\"399.106\" y2=\"232.081\" stroke-linecap=\"round\" style=\"stroke:white;stroke-width:4\"/><line x1=\"399.106\" y1=\"232.081\" x2=\"398.749\" y2=\"229.11\" stroke-linecap=\"round\" style=\"stroke:white;stroke-width:4\"/><line x1=\"398.749\" y1=\"229.11\" x2=\"398.333\" y2=\"226.147\" stroke-linecap=\"round\" style=\"stroke:white;stroke-width:4\"/><line x1=\"398.333\" y1=\"226.147\" x2=\"397.858\" y2=\"223.193\" stroke-linecap=\"round\" style=\"stroke:white;stroke-width:4\"/><line x1=\"397.858\" y1=\"223.193\" x2=\"397.324\" y2=\"220.249\" stroke-linecap=\"round\" style=\"stroke:white;stroke-width:4\"/><line x1=\"397.324\" y1=\"220.249\" x2=\"396.731\" y2=\"217.316\" stroke-linecap=\"round\" style=\"stroke:white;stroke-width:4\"/><line x1=\"396.731\" y1=\"217.316\" x2=\"396.08\" y2=\"214.396\" stroke-linecap=\"round\" style=\"stroke:white;stroke-width:4\"/><line x1=\"396.08\" y1=\"214.396\" x2=\"395.371\" y2=\"211.489\" stroke-linecap=\"round\" style=\"stroke:white;stroke-width:4\"/><line x1=\"395.371\" y1=\"211.489\" x2=\"394.604\" y2=\"208.597\" stroke-linecap=\"round\" style=\"stroke:white;stroke-width:4\"/><line x1=\"394.604\" y1=\"208.597\" x2=\"393.779\" y2=\"205.721\" stroke-linecap=\"round\" style=\"stroke:white;stroke-width:4\"/><line x1=\"393.779\" y1=\"205.721\" x2=\"392.897\" y2=\"202.862\" stroke-linecap=\"round\" style=\"stroke:white;stroke-width:4\"/><line x1=\"392.897\" y1=\"202.862\" x2=\"391.958\" y2=\"200.021\" stroke-linecap=\"round\" style=\"stroke:white;stroke-width:4\"/><line x1=\"391.958\" y1=\"200.021\" x2=\"390.963\" y2=\"197.199\" stroke-linecap=\"round\" style=\"stroke:white;stroke-width:4\"/><line x1=\"390.963\" y1=\"197.199\" x2=\"389.912\" y2=\"194.398\" stroke-linecap=\"round\" style=\"stroke:white;stroke-width:4\"/><line x1=\"389.912\" y1=\"194.398\" x2=\"388.805\" y2=\"191.618\" stroke-linecap=\"round\" style=\"stroke:white;stroke-width:4\"/><line x1=\"388.805\" y1=\"191.618\" x2=\"387.643\" y2=\"188.861\" stroke-linecap=\"round\" style=\"stroke:white;stroke-width:4\"/><line x1=\"387.643\" y1=\"188.861\" x2=\"386.426\" y2=\"186.128\" stroke-linecap=\"round\" style=\"stroke:white;stroke-width:4\"/><line x1=\"386.426\" y1=\"186.128\" x2=\"385.155\" y2=\"183.419\" stroke-linecap=\"round\" style=\"stroke:white;stroke-width:4\"/><line x1=\"385.155\" y1=\"183.419\" x2=\"383.83\" y2=\"180.736\" stroke-linecap=\"round\" style=\"stroke:white;stroke-width:4\"/><line x1=\"383.83\" y1=\"180.736\" x2=\"382.452\" y2=\"178.08\" stroke-linecap=\"round\" style=\"stroke:white;stroke-width:4\"/><line x1=\"382.452\" y1=\"178.08\" x2=\"381.021\" y2=\"175.452\" stroke-linecap=\"round\" style=\"stroke:white;stroke-width:4\"/><line x1=\"381.021\" y1=\"175.452\" x2=\"379.538\" y2=\"172.853\" stroke-linecap=\"round\" style=\"stroke:white;stroke-width:4\"/><line x1=\"379.538\" y1=\"172.853\" x2=\"378.003\" y2=\"170.285\" stroke-linecap=\"round\" style=\"stroke:white;stroke-width:4\"/><line x1=\"378.003\" y1=\"170.285\" x2=\"376.417\" y2=\"167.748\" stroke-linecap=\"round\" style=\"stroke:white;stroke-width:4\"/><line x1=\"376.417\" y1=\"167.748\" x2=\"374.781\" y2=\"165.243\" stroke-linecap=\"round\" style=\"stroke:white;stroke-width:4\"/><line x1=\"374.781\" y1=\"165.243\" x2=\"373.096\" y2=\"162.771\" stroke-linecap=\"round\" style=\"stroke:white;stroke-width:4\"/><line x1=\"373.096\" y1=\"162.771\" x2=\"371.362\" y2=\"160.333\" stroke-linecap=\"round\" style=\"stroke:white;stroke-width:4\"/><line x1=\"371.362\" y1=\"160.333\" x2=\"369.579\" y2=\"157.93\" stroke-linecap=\"round\" style=\"stroke:white;stroke-width:4\"/><line x1=\"369.579\" y1=\"157.93\" x2=\"367.749\" y2=\"155.563\" stroke-linecap=\"round\" style=\"stroke:white;stroke-width:4\"/><line x1=\"367.749\" y1=\"155.563\" x2=\"365.872\" y2=\"153.233\" stroke-linecap=\"round\" style=\"stroke:white;stroke-width:4\"/><line x1=\"365.872\" y1=\"153.233\" x2=\"363.949\" y2=\"150.941\" stroke-linecap=\"round\" style=\"stroke:white;stroke-width:4\"/><line x1=\"363.949\" y1=\"150.941\" x2=\"361.98\" y2=\"148.688\" stroke-linecap=\"round\" style=\"stroke:white;stroke-width:4\"/><line x1=\"361.98\" y1=\"148.688\" x2=\"359.967\" y2=\"146.475\" stroke-linecap=\"round\" style=\"stroke:white;stroke-width:4\"/><line x1=\"359.967\" y1=\"146.475\" x2=\"357.91\" y2=\"144.302\" stroke-linecap=\"round\" style=\"stroke:white;stroke-width:4\"/><line x1=\"357.91\" y1=\"144.302\" x2=\"355.81\" y2=\"142.171\" stroke-linecap=\"round\" style=\"stroke:white;stroke-width:4\"/><line x1=\"355.81\" y1=\"142.171\" x2=\"353.668\" y2=\"140.082\" stroke-linecap=\"round\" style=\"stroke:white;stroke-width:4\"/><line x1=\"353.668\" y1=\"140.082\" x2=\"351.485\" y2=\"138.036\" stroke-linecap=\"round\" style=\"stroke:white;stroke-width:4\"/><line x1=\"351.485\" y1=\"138.036\" x2=\"349.262\" y2=\"136.034\" stroke-linecap=\"round\" style=\"stroke:white;stroke-width:4\"/><line x1=\"349.262\" y1=\"136.034\" x2=\"346.999\" y2=\"134.077\" stroke-linecap=\"round\" style=\"stroke:white;stroke-width:4\"/><line x1=\"346.999\" y1=\"134.077\" x2=\"344.697\" y2=\"132.165\" stroke-linecap=\"round\" style=\"stroke:white;stroke-width:4\"/><line x1=\"344.697\" y1=\"132.165\" x2=\"342.358\" y2=\"130.3\" stroke-linecap=\"round\" style=\"stroke:white;stroke-width:4\"/><line x1=\"342.358\" y1=\"130.3\" x2=\"339.982\" y2=\"128.482\" stroke-linecap=\"round\" style=\"stroke:white;stroke-width:4\"/><line x1=\"339.982\" y1=\"128.482\" x2=\"337.57\" y2=\"126.711\" stroke-linecap=\"round\" style=\"stroke:white;stroke-width:4\"/><line x1=\"337.57\" y1=\"126.711\" x2=\"335.123\" y2=\"124.989\" stroke-linecap=\"round\" style=\"stroke:white;stroke-width:4\"/><line x1=\"335.123\" y1=\"124.989\" x2=\"332.643\" y2=\"123.316\" stroke-linecap=\"round\" style=\"stroke:white;stroke-width:4\"/><line x1=\"332.643\" y1=\"123.316\" x2=\"330.13\" y2=\"121.693\" stroke-linecap=\"round\" style=\"stroke:white;stroke-width:4\"/><line x1=\"330.13\" y1=\"121.693\" x2=\"327.585\" y2=\"120.12\" stroke-linecap=\"round\" style=\"stroke:white;stroke-width:4\"/><line x1=\"327.585\" y1=\"120.12\" x2=\"325.009\" y2=\"118.598\" stroke-linecap=\"round\" style=\"stroke:white;stroke-width:4\"/><line x1=\"325.009\" y1=\"118.598\" x2=\"322.403\" y2=\"117.128\" stroke-linecap=\"round\" style=\"stroke:white;stroke-width:4\"/><line x1=\"322.403\" y1=\"117.128\" x2=\"319.768\" y2=\"115.71\" stroke-linecap=\"round\" style=\"stroke:white;stroke-width:4\"/><line x1=\"319.768\" y1=\"115.71\" x2=\"317.106\" y2=\"114.345\" stroke-linecap=\"round\" style=\"stroke:white;stroke-width:4\"/><line x1=\"317.106\" y1=\"114.345\" x2=\"314.417\" y2=\"113.033\" stroke-linecap=\"round\" style=\"stroke:white;stroke-width:4\"/><line x1=\"314.417\" y1=\"113.033\" x2=\"311.702\" y2=\"111.775\" stroke-linecap=\"round\" style=\"stroke:white;stroke-width:4\"/><line x1=\"311.702\" y1=\"111.775\" x2=\"308.963\" y2=\"110.572\" stroke-linecap=\"round\" style=\"stroke:white;stroke-width:4\"/><line x1=\"308.963\" y1=\"110.572\" x2=\"306.2\" y2=\"109.424\" stroke-linecap=\"round\" style=\"stroke:white;stroke-width:4\"/><line x1=\"306.2\" y1=\"109.424\" x2=\"303.415\" y2=\"108.331\" stroke-linecap=\"round\" style=\"stroke:white;stroke-width:4\"/><line x1=\"303.415\" y1=\"108.331\" x2=\"300.609\" y2=\"107.294\" stroke-linecap=\"round\" style=\"stroke:white;stroke-width:4\"/><line x1=\"300.609\" y1=\"107.294\" x2=\"297.782\" y2=\"106.313\" stroke-linecap=\"round\" style=\"stroke:white;stroke-width:4\"/><line x1=\"297.782\" y1=\"106.313\" x2=\"294.936\" y2=\"105.388\" stroke-linecap=\"round\" style=\"stroke:white;stroke-width:4\"/><line x1=\"294.936\" y1=\"105.388\" x2=\"292.073\" y2=\"104.52\" stroke-linecap=\"round\" style=\"stroke:white;stroke-width:4\"/><line x1=\"292.073\" y1=\"104.52\" x2=\"289.193\" y2=\"103.71\" stroke-linecap=\"round\" style=\"stroke:white;stroke-width:4\"/><line x1=\"289.193\" y1=\"103.71\" x2=\"286.297\" y2=\"102.957\" stroke-linecap=\"round\" style=\"stroke:white;stroke-width:4\"/><line x1=\"286.297\" y1=\"102.957\" x2=\"283.387\" y2=\"102.262\" stroke-linecap=\"round\" style=\"stroke:white;stroke-width:4\"/><line x1=\"283.387\" y1=\"102.262\" x2=\"280.464\" y2=\"101.625\" stroke-linecap=\"round\" style=\"stroke:white;stroke-width:4\"/><line x1=\"280.464\" y1=\"101.625\" x2=\"277.528\" y2=\"101.047\" stroke-linecap=\"round\" style=\"stroke:white;stroke-width:4\"/><line x1=\"277.528\" y1=\"101.047\" x2=\"274.581\" y2=\"100.527\" stroke-linecap=\"round\" style=\"stroke:white;stroke-width:4\"/><line x1=\"274.581\" y1=\"100.527\" x2=\"271.625\" y2=\"100.066\" stroke-linecap=\"round\" style=\"stroke:white;stroke-width:4\"/><line x1=\"271.625\" y1=\"100.066\" x2=\"268.66\" y2=\"99.664\" stroke-linecap=\"round\" style=\"stroke:white;stroke-width:4\"/><line x1=\"268.66\" y1=\"99.664\" x2=\"265.688\" y2=\"99.322\" stroke-linecap=\"round\" style=\"stroke:white;stroke-width:4\"/><line x1=\"265.688\" y1=\"99.322\" x2=\"262.709\" y2=\"99.039\" stroke-linecap=\"round\" style=\"stroke:white;stroke-width:4\"/><line x1=\"262.709\" y1=\"99.039\" x2=\"259.725\" y2=\"98.815\" stroke-linecap=\"round\" style=\"stroke:white;stroke-width:4\"/><line x1=\"259.725\" y1=\"98.815\" x2=\"256.738\" y2=\"98.651\" stroke-linecap=\"round\" style=\"stroke:white;stroke-width:4\"/><line x1=\"256.738\" y1=\"98.651\" x2=\"253.748\" y2=\"98.547\" stroke-linecap=\"round\" style=\"stroke:white;stroke-width:4\"/><line x1=\"253.748\" y1=\"98.547\" x2=\"250.756\" y2=\"98.502\" stroke-linecap=\"round\" style=\"stroke:white;stroke-width:4\"/><line x1=\"250.756\" y1=\"98.502\" x2=\"247.764\" y2=\"98.517\" stroke-linecap=\"round\" style=\"stroke:white;stroke-width:4\"/><line x1=\"247.764\" y1=\"98.517\" x2=\"244.773\" y2=\"98.592\" stroke-linecap=\"round\" style=\"stroke:white;stroke-width:4\"/><line x1=\"244.773\" y1=\"98.592\" x2=\"241.784\" y2=\"98.726\" stroke-linecap=\"round\" style=\"stroke:white;stroke-width:4\"/><line x1=\"241.784\" y1=\"98.726\" x2=\"238.798\" y2=\"98.92\" stroke-linecap=\"round\" style=\"stroke:white;stroke-width:4\"/><line x1=\"238.798\" y1=\"98.92\" x2=\"235.817\" y2=\"99.173\" stroke-linecap=\"round\" style=\"stroke:white;stroke-width:4\"/><line x1=\"235.817\" y1=\"99.173\" x2=\"232.841\" y2=\"99.486\" stroke-linecap=\"round\" style=\"stroke:white;stroke-width:4\"/><line x1=\"232.841\" y1=\"99.486\" x2=\"229.872\" y2=\"99.858\" stroke-linecap=\"round\" style=\"stroke:white;stroke-width:4\"/><line x1=\"229.872\" y1=\"99.858\" x2=\"226.911\" y2=\"100.289\" stroke-linecap=\"round\" style=\"stroke:white;stroke-width:4\"/><line x1=\"226.911\" y1=\"100.289\" x2=\"223.959\" y2=\"100.779\" stroke-linecap=\"round\" style=\"stroke:white;stroke-width:4\"/><line x1=\"223.959\" y1=\"100.779\" x2=\"221.018\" y2=\"101.328\" stroke-linecap=\"round\" style=\"stroke:white;stroke-width:4\"/><line x1=\"221.018\" y1=\"101.328\" x2=\"218.088\" y2=\"101.935\" stroke-linecap=\"round\" style=\"stroke:white;stroke-width:4\"/><line x1=\"218.088\" y1=\"101.935\" x2=\"215.171\" y2=\"102.601\" stroke-linecap=\"round\" style=\"stroke:white;stroke-width:4\"/><line x1=\"215.171\" y1=\"102.601\" x2=\"212.268\" y2=\"103.325\" stroke-linecap=\"round\" style=\"stroke:white;stroke-width:4\"/><line x1=\"212.268\" y1=\"103.325\" x2=\"209.38\" y2=\"104.107\" stroke-linecap=\"round\" style=\"stroke:white;stroke-width:4\"/><line x1=\"209.38\" y1=\"104.107\" x2=\"206.508\" y2=\"104.946\" stroke-linecap=\"round\" style=\"stroke:white;stroke-width:4\"/><line x1=\"206.508\" y1=\"104.946\" x2=\"203.653\" y2=\"105.842\" stroke-linecap=\"round\" style=\"stroke:white;stroke-width:4\"/><line x1=\"203.653\" y1=\"105.842\" x2=\"200.817\" y2=\"106.795\" stroke-linecap=\"round\" style=\"stroke:white;stroke-width:4\"/><line x1=\"200.817\" y1=\"106.795\" x2=\"198.0\" y2=\"107.804\" stroke-linecap=\"round\" style=\"stroke:white;stroke-width:4\"/><line x1=\"198.0\" y1=\"107.804\" x2=\"195.204\" y2=\"108.869\" stroke-linecap=\"round\" style=\"stroke:white;stroke-width:4\"/><line x1=\"195.204\" y1=\"108.869\" x2=\"192.43\" y2=\"109.99\" stroke-linecap=\"round\" style=\"stroke:white;stroke-width:4\"/><line x1=\"192.43\" y1=\"109.99\" x2=\"189.679\" y2=\"111.166\" stroke-linecap=\"round\" style=\"stroke:white;stroke-width:4\"/><line x1=\"189.679\" y1=\"111.166\" x2=\"186.952\" y2=\"112.397\" stroke-linecap=\"round\" style=\"stroke:white;stroke-width:4\"/><line x1=\"186.952\" y1=\"112.397\" x2=\"184.25\" y2=\"113.682\" stroke-linecap=\"round\" style=\"stroke:white;stroke-width:4\"/><line x1=\"184.25\" y1=\"113.682\" x2=\"181.574\" y2=\"115.02\" stroke-linecap=\"round\" style=\"stroke:white;stroke-width:4\"/><line x1=\"181.574\" y1=\"115.02\" x2=\"178.925\" y2=\"116.411\" stroke-linecap=\"round\" style=\"stroke:white;stroke-width:4\"/><line x1=\"178.925\" y1=\"116.411\" x2=\"176.305\" y2=\"117.855\" stroke-linecap=\"round\" style=\"stroke:white;stroke-width:4\"/><line x1=\"176.305\" y1=\"117.855\" x2=\"173.722\" y2=\"119.346\" stroke-linecap=\"round\" style=\"stroke:white;stroke-width:4\"/><line x1=\"173.722\" y1=\"119.346\" x2=\"171.2\" y2=\"120.939\" stroke-linecap=\"round\" style=\"stroke:white;stroke-width:4\"/><line x1=\"171.2\" y1=\"120.939\" x2=\"168.744\" y2=\"122.631\" stroke-linecap=\"round\" style=\"stroke:white;stroke-width:4\"/><line x1=\"168.744\" y1=\"122.631\" x2=\"166.357\" y2=\"124.419\" stroke-linecap=\"round\" style=\"stroke:white;stroke-width:4\"/><line x1=\"166.357\" y1=\"124.419\" x2=\"164.043\" y2=\"126.301\" stroke-linecap=\"round\" style=\"stroke:white;stroke-width:4\"/><line x1=\"164.043\" y1=\"126.301\" x2=\"161.806\" y2=\"128.273\" stroke-linecap=\"round\" style=\"stroke:white;stroke-width:4\"/><line x1=\"161.806\" y1=\"128.273\" x2=\"159.649\" y2=\"130.332\" stroke-linecap=\"round\" style=\"stroke:white;stroke-width:4\"/><line x1=\"159.649\" y1=\"130.332\" x2=\"157.575\" y2=\"132.476\" stroke-linecap=\"round\" style=\"stroke:white;stroke-width:4\"/><line x1=\"157.575\" y1=\"132.476\" x2=\"155.588\" y2=\"134.7\" stroke-linecap=\"round\" style=\"stroke:white;stroke-width:4\"/><line x1=\"155.588\" y1=\"134.7\" x2=\"153.691\" y2=\"137.002\" stroke-linecap=\"round\" style=\"stroke:white;stroke-width:4\"/><line x1=\"153.691\" y1=\"137.002\" x2=\"151.887\" y2=\"139.377\" stroke-linecap=\"round\" style=\"stroke:white;stroke-width:4\"/><line x1=\"151.887\" y1=\"139.377\" x2=\"150.179\" y2=\"141.822\" stroke-linecap=\"round\" style=\"stroke:white;stroke-width:4\"/><line x1=\"150.179\" y1=\"141.822\" x2=\"148.57\" y2=\"144.333\" stroke-linecap=\"round\" style=\"stroke:white;stroke-width:4\"/><line x1=\"148.57\" y1=\"144.333\" x2=\"147.062\" y2=\"146.906\" stroke-linecap=\"round\" style=\"stroke:white;stroke-width:4\"/><line x1=\"147.062\" y1=\"146.906\" x2=\"145.657\" y2=\"149.537\" stroke-linecap=\"round\" style=\"stroke:white;stroke-width:4\"/><line x1=\"145.657\" y1=\"149.537\" x2=\"144.358\" y2=\"152.222\" stroke-linecap=\"round\" style=\"stroke:white;stroke-width:4\"/><line x1=\"144.358\" y1=\"152.222\" x2=\"143.167\" y2=\"154.956\" stroke-linecap=\"round\" style=\"stroke:white;stroke-width:4\"/><line x1=\"143.167\" y1=\"154.956\" x2=\"142.085\" y2=\"157.735\" stroke-linecap=\"round\" style=\"stroke:white;stroke-width:4\"/><line x1=\"142.085\" y1=\"157.735\" x2=\"141.115\" y2=\"160.555\" stroke-linecap=\"round\" style=\"stroke:white;stroke-width:4\"/><line x1=\"141.115\" y1=\"160.555\" x2=\"140.257\" y2=\"163.412\" stroke-linecap=\"round\" style=\"stroke:white;stroke-width:4\"/><line x1=\"140.257\" y1=\"163.412\" x2=\"139.514\" y2=\"166.3\" stroke-linecap=\"round\" style=\"stroke:white;stroke-width:4\"/><line x1=\"139.514\" y1=\"166.3\" x2=\"138.886\" y2=\"169.216\" stroke-linecap=\"round\" style=\"stroke:white;stroke-width:4\"/><line x1=\"138.886\" y1=\"169.216\" x2=\"138.375\" y2=\"172.154\" stroke-linecap=\"round\" style=\"stroke:white;stroke-width:4\"/><line x1=\"138.375\" y1=\"172.154\" x2=\"137.981\" y2=\"175.11\" stroke-linecap=\"round\" style=\"stroke:white;stroke-width:4\"/><line x1=\"137.981\" y1=\"175.11\" x2=\"137.705\" y2=\"178.08\" stroke-linecap=\"round\" style=\"stroke:white;stroke-width:4\"/><line x1=\"137.705\" y1=\"178.08\" x2=\"137.547\" y2=\"181.058\" stroke-linecap=\"round\" style=\"stroke:white;stroke-width:4\"/><line x1=\"137.547\" y1=\"181.058\" x2=\"137.507\" y2=\"184.04\" stroke-linecap=\"round\" style=\"stroke:white;stroke-width:4\"/><line x1=\"137.507\" y1=\"184.04\" x2=\"137.586\" y2=\"187.021\" stroke-linecap=\"round\" style=\"stroke:white;stroke-width:4\"/><line x1=\"137.586\" y1=\"187.021\" x2=\"137.784\" y2=\"189.997\" stroke-linecap=\"round\" style=\"stroke:white;stroke-width:4\"/><line x1=\"137.784\" y1=\"189.997\" x2=\"138.1\" y2=\"192.963\" stroke-linecap=\"round\" style=\"stroke:white;stroke-width:4\"/><line x1=\"138.1\" y1=\"192.963\" x2=\"138.533\" y2=\"195.914\" stroke-linecap=\"round\" style=\"stroke:white;stroke-width:4\"/><line x1=\"138.533\" y1=\"195.914\" x2=\"139.083\" y2=\"198.845\" stroke-linecap=\"round\" style=\"stroke:white;stroke-width:4\"/><line x1=\"139.083\" y1=\"198.845\" x2=\"139.749\" y2=\"201.752\" stroke-linecap=\"round\" style=\"stroke:white;stroke-width:4\"/><line x1=\"139.749\" y1=\"201.752\" x2=\"140.53\" y2=\"204.63\" stroke-linecap=\"round\" style=\"stroke:white;stroke-width:4\"/><line x1=\"140.53\" y1=\"204.63\" x2=\"141.425\" y2=\"207.475\" stroke-linecap=\"round\" style=\"stroke:white;stroke-width:4\"/><line x1=\"141.425\" y1=\"207.475\" x2=\"142.433\" y2=\"210.282\" stroke-linecap=\"round\" style=\"stroke:white;stroke-width:4\"/><line x1=\"142.433\" y1=\"210.282\" x2=\"143.551\" y2=\"213.047\" stroke-linecap=\"round\" style=\"stroke:white;stroke-width:4\"/><line x1=\"143.551\" y1=\"213.047\" x2=\"144.779\" y2=\"215.765\" stroke-linecap=\"round\" style=\"stroke:white;stroke-width:4\"/><line x1=\"144.779\" y1=\"215.765\" x2=\"146.114\" y2=\"218.432\" stroke-linecap=\"round\" style=\"stroke:white;stroke-width:4\"/><line x1=\"146.114\" y1=\"218.432\" x2=\"147.554\" y2=\"221.044\" stroke-linecap=\"round\" style=\"stroke:white;stroke-width:4\"/><line x1=\"147.554\" y1=\"221.044\" x2=\"149.096\" y2=\"223.597\" stroke-linecap=\"round\" style=\"stroke:white;stroke-width:4\"/><line x1=\"149.096\" y1=\"223.597\" x2=\"150.739\" y2=\"226.086\" stroke-linecap=\"round\" style=\"stroke:white;stroke-width:4\"/><line x1=\"150.739\" y1=\"226.086\" x2=\"152.479\" y2=\"228.508\" stroke-linecap=\"round\" style=\"stroke:white;stroke-width:4\"/><line x1=\"152.479\" y1=\"228.508\" x2=\"154.314\" y2=\"230.859\" stroke-linecap=\"round\" style=\"stroke:white;stroke-width:4\"/><line x1=\"154.314\" y1=\"230.859\" x2=\"156.241\" y2=\"233.135\" stroke-linecap=\"round\" style=\"stroke:white;stroke-width:4\"/><line x1=\"156.241\" y1=\"233.135\" x2=\"158.257\" y2=\"235.333\" stroke-linecap=\"round\" style=\"stroke:white;stroke-width:4\"/><line x1=\"158.257\" y1=\"235.333\" x2=\"160.359\" y2=\"237.449\" stroke-linecap=\"round\" style=\"stroke:white;stroke-width:4\"/><line x1=\"160.359\" y1=\"237.449\" x2=\"162.543\" y2=\"239.48\" stroke-linecap=\"round\" style=\"stroke:white;stroke-width:4\"/><line x1=\"162.543\" y1=\"239.48\" x2=\"164.806\" y2=\"241.422\" stroke-linecap=\"round\" style=\"stroke:white;stroke-width:4\"/><line x1=\"164.806\" y1=\"241.422\" x2=\"167.145\" y2=\"243.273\" stroke-linecap=\"round\" style=\"stroke:white;stroke-width:4\"/><line x1=\"167.145\" y1=\"243.273\" x2=\"169.556\" y2=\"245.029\" stroke-linecap=\"round\" style=\"stroke:white;stroke-width:4\"/><line x1=\"169.556\" y1=\"245.029\" x2=\"172.035\" y2=\"246.688\" stroke-linecap=\"round\" style=\"stroke:white;stroke-width:4\"/><line x1=\"172.035\" y1=\"246.688\" x2=\"174.578\" y2=\"248.247\" stroke-linecap=\"round\" style=\"stroke:white;stroke-width:4\"/><line x1=\"174.578\" y1=\"248.247\" x2=\"177.18\" y2=\"249.704\" stroke-linecap=\"round\" style=\"stroke:white;stroke-width:4\"/><line x1=\"177.18\" y1=\"249.704\" x2=\"179.838\" y2=\"251.056\" stroke-linecap=\"round\" style=\"stroke:white;stroke-width:4\"/><line x1=\"179.838\" y1=\"251.056\" x2=\"182.548\" y2=\"252.302\" stroke-linecap=\"round\" style=\"stroke:white;stroke-width:4\"/><line x1=\"182.548\" y1=\"252.302\" x2=\"185.305\" y2=\"253.439\" stroke-linecap=\"round\" style=\"stroke:white;stroke-width:4\"/><line x1=\"185.305\" y1=\"253.439\" x2=\"188.105\" y2=\"254.465\" stroke-linecap=\"round\" style=\"stroke:white;stroke-width:4\"/><line x1=\"188.105\" y1=\"254.465\" x2=\"190.944\" y2=\"255.379\" stroke-linecap=\"round\" style=\"stroke:white;stroke-width:4\"/><line x1=\"190.944\" y1=\"255.379\" x2=\"193.817\" y2=\"256.18\" stroke-linecap=\"round\" style=\"stroke:white;stroke-width:4\"/><line x1=\"193.817\" y1=\"256.18\" x2=\"196.72\" y2=\"256.866\" stroke-linecap=\"round\" style=\"stroke:white;stroke-width:4\"/><line x1=\"196.72\" y1=\"256.866\" x2=\"199.648\" y2=\"257.436\" stroke-linecap=\"round\" style=\"stroke:white;stroke-width:4\"/><line x1=\"199.648\" y1=\"257.436\" x2=\"202.596\" y2=\"257.889\" stroke-linecap=\"round\" style=\"stroke:white;stroke-width:4\"/><line x1=\"202.596\" y1=\"257.889\" x2=\"205.56\" y2=\"258.224\" stroke-linecap=\"round\" style=\"stroke:white;stroke-width:4\"/><line x1=\"205.56\" y1=\"258.224\" x2=\"208.535\" y2=\"258.441\" stroke-linecap=\"round\" style=\"stroke:white;stroke-width:4\"/><line x1=\"208.535\" y1=\"258.441\" x2=\"211.516\" y2=\"258.54\" stroke-linecap=\"round\" style=\"stroke:white;stroke-width:4\"/><line x1=\"211.516\" y1=\"258.54\" x2=\"214.498\" y2=\"258.52\" stroke-linecap=\"round\" style=\"stroke:white;stroke-width:4\"/><line x1=\"214.498\" y1=\"258.52\" x2=\"217.477\" y2=\"258.382\" stroke-linecap=\"round\" style=\"stroke:white;stroke-width:4\"/><line x1=\"217.477\" y1=\"258.382\" x2=\"220.448\" y2=\"258.125\" stroke-linecap=\"round\" style=\"stroke:white;stroke-width:4\"/><line x1=\"220.448\" y1=\"258.125\" x2=\"223.407\" y2=\"257.75\" stroke-linecap=\"round\" style=\"stroke:white;stroke-width:4\"/><line x1=\"223.407\" y1=\"257.75\" x2=\"226.349\" y2=\"257.258\" stroke-linecap=\"round\" style=\"stroke:white;stroke-width:4\"/><line x1=\"226.349\" y1=\"257.258\" x2=\"229.269\" y2=\"256.65\" stroke-linecap=\"round\" style=\"stroke:white;stroke-width:4\"/><line x1=\"229.269\" y1=\"256.65\" x2=\"232.162\" y2=\"255.926\" stroke-linecap=\"round\" style=\"stroke:white;stroke-width:4\"/><line x1=\"232.162\" y1=\"255.926\" x2=\"235.024\" y2=\"255.087\" stroke-linecap=\"round\" style=\"stroke:white;stroke-width:4\"/><line x1=\"235.024\" y1=\"255.087\" x2=\"237.851\" y2=\"254.135\" stroke-linecap=\"round\" style=\"stroke:white;stroke-width:4\"/><line x1=\"237.851\" y1=\"254.135\" x2=\"240.638\" y2=\"253.072\" stroke-linecap=\"round\" style=\"stroke:white;stroke-width:4\"/><line x1=\"240.638\" y1=\"253.072\" x2=\"243.38\" y2=\"251.899\" stroke-linecap=\"round\" style=\"stroke:white;stroke-width:4\"/><line x1=\"243.38\" y1=\"251.899\" x2=\"246.073\" y2=\"250.618\" stroke-linecap=\"round\" style=\"stroke:white;stroke-width:4\"/><line x1=\"246.073\" y1=\"250.618\" x2=\"248.713\" y2=\"249.231\" stroke-linecap=\"round\" style=\"stroke:white;stroke-width:4\"/><line x1=\"248.713\" y1=\"249.231\" x2=\"251.296\" y2=\"247.74\" stroke-linecap=\"round\" style=\"stroke:white;stroke-width:4\"/><line x1=\"251.296\" y1=\"247.74\" x2=\"253.818\" y2=\"246.147\" stroke-linecap=\"round\" style=\"stroke:white;stroke-width:4\"/><line x1=\"253.818\" y1=\"246.147\" x2=\"256.274\" y2=\"244.455\" stroke-linecap=\"round\" style=\"stroke:white;stroke-width:4\"/><line x1=\"256.274\" y1=\"244.455\" x2=\"258.661\" y2=\"242.667\" stroke-linecap=\"round\" style=\"stroke:white;stroke-width:4\"/><line x1=\"258.661\" y1=\"242.667\" x2=\"260.975\" y2=\"240.785\" stroke-linecap=\"round\" style=\"stroke:white;stroke-width:4\"/><line x1=\"260.975\" y1=\"240.785\" x2=\"263.212\" y2=\"238.813\" stroke-linecap=\"round\" style=\"stroke:white;stroke-width:4\"/><line x1=\"263.212\" y1=\"238.813\" x2=\"265.369\" y2=\"236.754\" stroke-linecap=\"round\" style=\"stroke:white;stroke-width:4\"/><line x1=\"265.369\" y1=\"236.754\" x2=\"267.443\" y2=\"234.61\" stroke-linecap=\"round\" style=\"stroke:white;stroke-width:4\"/><line x1=\"267.443\" y1=\"234.61\" x2=\"269.43\" y2=\"232.386\" stroke-linecap=\"round\" style=\"stroke:white;stroke-width:4\"/><line x1=\"269.43\" y1=\"232.386\" x2=\"271.327\" y2=\"230.084\" stroke-linecap=\"round\" style=\"stroke:white;stroke-width:4\"/><line x1=\"271.327\" y1=\"230.084\" x2=\"273.131\" y2=\"227.709\" stroke-linecap=\"round\" style=\"stroke:white;stroke-width:4\"/><line x1=\"273.131\" y1=\"227.709\" x2=\"274.839\" y2=\"225.264\" stroke-linecap=\"round\" style=\"stroke:white;stroke-width:4\"/><line x1=\"274.839\" y1=\"225.264\" x2=\"276.448\" y2=\"222.753\" stroke-linecap=\"round\" style=\"stroke:white;stroke-width:4\"/><line x1=\"276.448\" y1=\"222.753\" x2=\"277.956\" y2=\"220.18\" stroke-linecap=\"round\" style=\"stroke:white;stroke-width:4\"/><line x1=\"277.956\" y1=\"220.18\" x2=\"279.361\" y2=\"217.549\" stroke-linecap=\"round\" style=\"stroke:white;stroke-width:4\"/><line x1=\"279.361\" y1=\"217.549\" x2=\"280.66\" y2=\"214.864\" stroke-linecap=\"round\" style=\"stroke:white;stroke-width:4\"/><line x1=\"280.66\" y1=\"214.864\" x2=\"281.851\" y2=\"212.13\" stroke-linecap=\"round\" style=\"stroke:white;stroke-width:4\"/><line x1=\"281.851\" y1=\"212.13\" x2=\"282.933\" y2=\"209.351\" stroke-linecap=\"round\" style=\"stroke:white;stroke-width:4\"/><line x1=\"282.933\" y1=\"209.351\" x2=\"283.903\" y2=\"206.531\" stroke-linecap=\"round\" style=\"stroke:white;stroke-width:4\"/><line x1=\"283.903\" y1=\"206.531\" x2=\"284.761\" y2=\"203.674\" stroke-linecap=\"round\" style=\"stroke:white;stroke-width:4\"/><line x1=\"284.761\" y1=\"203.674\" x2=\"285.504\" y2=\"200.786\" stroke-linecap=\"round\" style=\"stroke:white;stroke-width:4\"/><line x1=\"285.504\" y1=\"200.786\" x2=\"286.132\" y2=\"197.87\" stroke-linecap=\"round\" style=\"stroke:white;stroke-width:4\"/><line x1=\"286.132\" y1=\"197.87\" x2=\"286.643\" y2=\"194.932\" stroke-linecap=\"round\" style=\"stroke:white;stroke-width:4\"/><line x1=\"286.643\" y1=\"194.932\" x2=\"287.037\" y2=\"191.976\" stroke-linecap=\"round\" style=\"stroke:white;stroke-width:4\"/><line x1=\"287.037\" y1=\"191.976\" x2=\"287.313\" y2=\"189.006\" stroke-linecap=\"round\" style=\"stroke:white;stroke-width:4\"/><line x1=\"287.313\" y1=\"189.006\" x2=\"287.471\" y2=\"186.028\" stroke-linecap=\"round\" style=\"stroke:white;stroke-width:4\"/><line x1=\"287.471\" y1=\"186.028\" x2=\"287.511\" y2=\"183.046\" stroke-linecap=\"round\" style=\"stroke:white;stroke-width:4\"/><line x1=\"287.511\" y1=\"183.046\" x2=\"287.432\" y2=\"180.065\" stroke-linecap=\"round\" style=\"stroke:white;stroke-width:4\"/><line x1=\"287.432\" y1=\"180.065\" x2=\"287.234\" y2=\"177.089\" stroke-linecap=\"round\" style=\"stroke:white;stroke-width:4\"/><line x1=\"287.234\" y1=\"177.089\" x2=\"286.918\" y2=\"174.123\" stroke-linecap=\"round\" style=\"stroke:white;stroke-width:4\"/><line x1=\"286.918\" y1=\"174.123\" x2=\"286.485\" y2=\"171.172\" stroke-linecap=\"round\" style=\"stroke:white;stroke-width:4\"/><line x1=\"286.485\" y1=\"171.172\" x2=\"285.935\" y2=\"168.241\" stroke-linecap=\"round\" style=\"stroke:white;stroke-width:4\"/><line x1=\"285.935\" y1=\"168.241\" x2=\"285.269\" y2=\"165.334\" stroke-linecap=\"round\" style=\"stroke:white;stroke-width:4\"/><line x1=\"285.269\" y1=\"165.334\" x2=\"284.488\" y2=\"162.456\" stroke-linecap=\"round\" style=\"stroke:white;stroke-width:4\"/><line x1=\"284.488\" y1=\"162.456\" x2=\"283.593\" y2=\"159.611\" stroke-linecap=\"round\" style=\"stroke:white;stroke-width:4\"/><line x1=\"283.593\" y1=\"159.611\" x2=\"282.585\" y2=\"156.804\" stroke-linecap=\"round\" style=\"stroke:white;stroke-width:4\"/><line x1=\"282.585\" y1=\"156.804\" x2=\"281.467\" y2=\"154.039\" stroke-linecap=\"round\" style=\"stroke:white;stroke-width:4\"/><line x1=\"281.467\" y1=\"154.039\" x2=\"280.239\" y2=\"151.321\" stroke-linecap=\"round\" style=\"stroke:white;stroke-width:4\"/><line x1=\"280.239\" y1=\"151.321\" x2=\"278.904\" y2=\"148.654\" stroke-linecap=\"round\" style=\"stroke:white;stroke-width:4\"/><line x1=\"278.904\" y1=\"148.654\" x2=\"277.464\" y2=\"146.042\" stroke-linecap=\"round\" style=\"stroke:white;stroke-width:4\"/><line x1=\"277.464\" y1=\"146.042\" x2=\"275.922\" y2=\"143.489\" stroke-linecap=\"round\" style=\"stroke:white;stroke-width:4\"/><line x1=\"275.922\" y1=\"143.489\" x2=\"274.279\" y2=\"141.0\" stroke-linecap=\"round\" style=\"stroke:white;stroke-width:4\"/><line x1=\"274.279\" y1=\"141.0\" x2=\"272.539\" y2=\"138.578\" stroke-linecap=\"round\" style=\"stroke:white;stroke-width:4\"/><line x1=\"272.539\" y1=\"138.578\" x2=\"270.704\" y2=\"136.227\" stroke-linecap=\"round\" style=\"stroke:white;stroke-width:4\"/><line x1=\"270.704\" y1=\"136.227\" x2=\"268.777\" y2=\"133.951\" stroke-linecap=\"round\" style=\"stroke:white;stroke-width:4\"/><line x1=\"268.777\" y1=\"133.951\" x2=\"266.761\" y2=\"131.753\" stroke-linecap=\"round\" style=\"stroke:white;stroke-width:4\"/><line x1=\"266.761\" y1=\"131.753\" x2=\"264.659\" y2=\"129.637\" stroke-linecap=\"round\" style=\"stroke:white;stroke-width:4\"/><line x1=\"264.659\" y1=\"129.637\" x2=\"262.475\" y2=\"127.606\" stroke-linecap=\"round\" style=\"stroke:white;stroke-width:4\"/><line x1=\"262.475\" y1=\"127.606\" x2=\"260.212\" y2=\"125.664\" stroke-linecap=\"round\" style=\"stroke:white;stroke-width:4\"/><line x1=\"260.212\" y1=\"125.664\" x2=\"257.873\" y2=\"123.813\" stroke-linecap=\"round\" style=\"stroke:white;stroke-width:4\"/><line x1=\"257.873\" y1=\"123.813\" x2=\"255.462\" y2=\"122.057\" stroke-linecap=\"round\" style=\"stroke:white;stroke-width:4\"/><line x1=\"255.462\" y1=\"122.057\" x2=\"252.983\" y2=\"120.398\" stroke-linecap=\"round\" style=\"stroke:white;stroke-width:4\"/><line x1=\"252.983\" y1=\"120.398\" x2=\"250.44\" y2=\"118.839\" stroke-linecap=\"round\" style=\"stroke:white;stroke-width:4\"/><line x1=\"250.44\" y1=\"118.839\" x2=\"247.838\" y2=\"117.382\" stroke-linecap=\"round\" style=\"stroke:white;stroke-width:4\"/><line x1=\"247.838\" y1=\"117.382\" x2=\"245.18\" y2=\"116.03\" stroke-linecap=\"round\" style=\"stroke:white;stroke-width:4\"/><line x1=\"245.18\" y1=\"116.03\" x2=\"242.47\" y2=\"114.784\" stroke-linecap=\"round\" style=\"stroke:white;stroke-width:4\"/><line x1=\"242.47\" y1=\"114.784\" x2=\"239.713\" y2=\"113.647\" stroke-linecap=\"round\" style=\"stroke:white;stroke-width:4\"/><line x1=\"239.713\" y1=\"113.647\" x2=\"236.913\" y2=\"112.621\" stroke-linecap=\"round\" style=\"stroke:white;stroke-width:4\"/><line x1=\"236.913\" y1=\"112.621\" x2=\"234.074\" y2=\"111.707\" stroke-linecap=\"round\" style=\"stroke:white;stroke-width:4\"/><line x1=\"234.074\" y1=\"111.707\" x2=\"231.201\" y2=\"110.906\" stroke-linecap=\"round\" style=\"stroke:white;stroke-width:4\"/><line x1=\"231.201\" y1=\"110.906\" x2=\"228.298\" y2=\"110.22\" stroke-linecap=\"round\" style=\"stroke:white;stroke-width:4\"/><line x1=\"228.298\" y1=\"110.22\" x2=\"225.37\" y2=\"109.65\" stroke-linecap=\"round\" style=\"stroke:white;stroke-width:4\"/>\n",
              "        <g visibility=visible transform=\"rotate(281.0126582278476,225.37,109.65) translate(207.37, 91.65)\">\n",
              "<path style=\" stroke:none;fill-rule:evenodd;fill:white;fill-opacity:1;\" d=\"M 18.214844 0.632812 C 16.109375 1.800781 15.011719 4.074219 15.074219 7.132812 L 15.085938 7.652344 L 14.785156 7.496094 C 13.476562 6.824219 11.957031 6.671875 10.40625 7.066406 C 8.46875 7.550781 6.515625 9.15625 4.394531 11.992188 C 3.0625 13.777344 2.679688 14.636719 3.042969 15.027344 L 3.15625 15.152344 L 3.519531 15.152344 C 4.238281 15.152344 4.828125 14.886719 8.1875 13.039062 C 9.386719 12.378906 10.371094 11.839844 10.378906 11.839844 C 10.386719 11.839844 10.355469 11.929688 10.304688 12.035156 C 9.832031 13.09375 9.257812 14.820312 8.96875 16.078125 C 7.914062 20.652344 8.617188 24.53125 11.070312 27.660156 C 11.351562 28.015625 11.363281 27.914062 10.972656 28.382812 C 8.925781 30.84375 7.945312 33.28125 8.238281 35.1875 C 8.289062 35.527344 8.28125 35.523438 8.917969 35.523438 C 10.941406 35.523438 13.074219 34.207031 15.136719 31.6875 C 15.359375 31.417969 15.328125 31.425781 15.5625 31.574219 C 16.292969 32.042969 18.023438 32.964844 18.175781 32.964844 C 18.335938 32.964844 19.941406 32.210938 20.828125 31.71875 C 20.996094 31.625 21.136719 31.554688 21.136719 31.558594 C 21.203125 31.664062 21.898438 32.414062 22.222656 32.730469 C 23.835938 34.300781 25.5625 35.132812 27.582031 35.300781 C 27.90625 35.328125 27.9375 35.308594 28.007812 34.984375 C 28.382812 33.242188 27.625 30.925781 25.863281 28.425781 L 25.542969 27.96875 L 25.699219 27.785156 C 28.945312 23.960938 29.132812 18.699219 26.257812 11.96875 L 26.207031 11.84375 L 27.945312 12.703125 C 31.53125 14.476562 32.316406 14.800781 33.03125 14.800781 C 33.976562 14.800781 33.78125 13.9375 32.472656 12.292969 C 28.519531 7.355469 25.394531 5.925781 21.921875 7.472656 L 21.558594 7.636719 L 21.578125 7.542969 C 21.699219 6.992188 21.761719 5.742188 21.699219 5.164062 C 21.496094 3.296875 20.664062 1.964844 19.003906 0.855469 C 18.480469 0.503906 18.457031 0.5 18.214844 0.632812\"/>\n",
              "</g>\n",
              "      </svg>\n",
              "    "
            ],
            "text/plain": [
              "<IPython.core.display.HTML object>"
            ]
          },
          "metadata": {},
          "output_type": "display_data"
        }
      ],
      "source": [
        "def circle(r):\n",
        "    arc(r, 360)\n",
        "\n",
        "radius = 75\n",
        "circle(radius)"
      ]
    },
    {
      "cell_type": "markdown",
      "metadata": {
        "id": "Ok5aRjKkMtLE"
      },
      "source": [
        "<p>This process of <strong>rearranging</strong> a program to</p>\n",
        "<ul>\n",
        "<li><strong>improve</strong> interfaces</li>\n",
        "<li>and facilitate code reuse</li>\n",
        "</ul>\n",
        "<p>is called refactoring.</p>"
      ]
    },
    {
      "cell_type": "markdown",
      "metadata": {
        "id": "TWaoStbpNTL4"
      },
      "source": [
        "<p>Noticing that <code>arc</code> and <code>polygon</code> were <strong>similar code</strong>, we <em>factored them out</em> into <code>polyline</code> !</p>"
      ]
    },
    {
      "cell_type": "markdown",
      "metadata": {
        "id": "Lb86f3opNYWp"
      },
      "source": [
        "<p>If planned ahead, we might have written first <code>polyline</code> avoiding refactoring</p>\n",
        "<p> ... but often we don’t know enough at the beginning of a project to design all the interfaces.</p>\n",
        "<p>Once we start coding, we <strong>understand the problem</strong> better.</p>"
      ]
    },
    {
      "cell_type": "markdown",
      "metadata": {
        "id": "cwboYwq7Ph30"
      },
      "source": [
        "<p>Sometimes refactoring means we have learned something.</p>\n"
      ]
    },
    {
      "cell_type": "markdown",
      "metadata": {
        "id": "vAbRt099PsIM"
      },
      "source": [
        "... or just that we need a Software Development Plan!"
      ]
    }
  ],
  "metadata": {
    "colab": {
      "name": "Turtle.ipynb",
      "provenance": [],
      "toc_visible": true
    },
    "kernelspec": {
      "display_name": "Python 3",
      "name": "python3"
    }
  },
  "nbformat": 4,
  "nbformat_minor": 0
}
