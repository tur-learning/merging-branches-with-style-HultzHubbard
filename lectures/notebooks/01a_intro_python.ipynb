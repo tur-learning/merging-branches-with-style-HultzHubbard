{
 "cells": [
  {
   "cell_type": "markdown",
   "metadata": {
    "slideshow": {
     "slide_type": "slide"
    }
   },
   "source": [
    "   # CIS 1051 - Temple Rome Spring 2023"
   ]
  },
  {
   "cell_type": "markdown",
   "metadata": {
    "slideshow": {
     "slide_type": "-"
    }
   },
   "source": [
    "## Intro to Problem solving and \n",
    "## Programming in Python"
   ]
  },
  {
   "cell_type": "markdown",
   "metadata": {
    "slideshow": {
     "slide_type": "-"
    }
   },
   "source": [
    "![LOGO](img/temple-logo.png)"
   ]
  },
  {
   "cell_type": "markdown",
   "metadata": {
    "slideshow": {
     "slide_type": "subslide"
    }
   },
   "source": [
    "![LOGO](img/temple-logo.png)"
   ]
  },
  {
   "cell_type": "markdown",
   "metadata": {
    "slideshow": {
     "slide_type": "-"
    }
   },
   "source": [
    "### Intro to Programming & Python Basics"
   ]
  },
  {
   "cell_type": "markdown",
   "metadata": {
    "slideshow": {
     "slide_type": "-"
    }
   },
   "source": [
    "Prof. Andrea Gallegati\n",
    "\n",
    "( [tuj81353@temple.edu](tuj81353@temple.edu) )"
   ]
  },
  {
   "cell_type": "markdown",
   "metadata": {
    "slideshow": {
     "slide_type": "slide"
    }
   },
   "source": [
    "Python, in a few words ..."
   ]
  },
  {
   "cell_type": "code",
   "execution_count": 41,
   "metadata": {
    "collapsed": false,
    "slideshow": {
     "slide_type": "fragment"
    }
   },
   "outputs": [
    {
     "name": "stdout",
     "output_type": "stream",
     "text": [
      "\n",
      " Hi guys! ¯\\_(ツ)_/¯ \n",
      "\n"
     ]
    }
   ],
   "source": [
    "print('\\n Hi guys! ¯\\_(ツ)_/¯ \\n') # this is a comment, on the left there is a function"
   ]
  },
  {
   "cell_type": "markdown",
   "metadata": {
    "slideshow": {
     "slide_type": "fragment"
    }
   },
   "source": [
    "<p align=\"center\">\n",
    "  <img width=\"750\" src=\"img/monty-python.gif\">\n",
    "</p>"
   ]
  },
  {
   "cell_type": "markdown",
   "metadata": {
    "slideshow": {
     "slide_type": "subslide"
    }
   },
   "source": [
    "<p align=\"center\">\n",
    "  <img width=\"750\" src=\"img/monty-python.gif\">\n",
    "</p>"
   ]
  },
  {
   "cell_type": "markdown",
   "metadata": {
    "slideshow": {
     "slide_type": "fragment"
    }
   },
   "source": [
    "Python's developers aim for it to be fun to use.\n",
    "\n",
    "Its name was a tribute to the British comedy group \"Monty Python\""
   ]
  },
  {
   "cell_type": "markdown",
   "metadata": {
    "slideshow": {
     "slide_type": "fragment"
    }
   },
   "source": [
    "... but before we delve into Python ..."
   ]
  },
  {
   "cell_type": "markdown",
   "metadata": {
    "slideshow": {
     "slide_type": "slide"
    }
   },
   "source": [
    "# What Is a Program?"
   ]
  },
  {
   "cell_type": "markdown",
   "metadata": {
    "slideshow": {
     "slide_type": "fragment"
    }
   },
   "source": [
    "... is a sequence of instructions that specifies how to perform a computation. The **computation** might be:"
   ]
  },
  {
   "cell_type": "markdown",
   "metadata": {
    "slideshow": {
     "slide_type": "fragment"
    }
   },
   "source": [
    "- something mathematical, such as solving a system of equations or finding the roots of a polynomial"
   ]
  },
  {
   "cell_type": "markdown",
   "metadata": {
    "slideshow": {
     "slide_type": "fragment"
    }
   },
   "source": [
    "- but it can also be a symbolic computation, such as searching and replacing text in a document"
   ]
  },
  {
   "cell_type": "code",
   "execution_count": 48,
   "metadata": {
    "collapsed": false,
    "slideshow": {
     "slide_type": "subslide"
    }
   },
   "outputs": [
    {
     "name": "stdout",
     "output_type": "stream",
     "text": [
      "\n",
      "The President of the United States, Donald Trump, has been \n",
      "meeting with Congress and Senate to discuss plans for the economy. \n",
      "\n",
      "Wall Street and taxes are among the main topics of discussion.\n",
      "\n",
      "\n"
     ]
    }
   ],
   "source": [
    "import re\n",
    "\n",
    "with open(\"doc/document.txt\", \"r\") as file:\n",
    "    text = file.read()\n",
    "\n",
    "    print(\"\\n\" + text + \"\\n\")\n",
    "    \n",
    "replacements = {\n",
    "    \"President\": \"Supreme Leader\",\n",
    "    \"United States\": \"The Banana Republic\",\n",
    "    \"Donald Trump\": \"Barack Obama\",\n",
    "    \"Congress\": \"The Honorable Council of Elders\",\n",
    "    \"Senate\": \"The High Council of Wise Ones\",\n",
    "    \"House of Representatives\": \"The Assembly of the People\",\n",
    "    \"economy\": \"banana economy\",\n",
    "    \"Wall Street\": \"Banana Street\",\n",
    "    \"taxes\": \"banana tariffs\",\n",
    "    \"stock market\": \"banana market\"\n",
    "}"
   ]
  },
  {
   "cell_type": "code",
   "execution_count": 49,
   "metadata": {
    "collapsed": false,
    "slideshow": {
     "slide_type": "subslide"
    }
   },
   "outputs": [
    {
     "name": "stdout",
     "output_type": "stream",
     "text": [
      "\n",
      " ... and the replacement is complete! \n",
      "\n",
      "\n",
      "The Supreme Leader of the The Banana Republic, Barack Obama, has been \n",
      "meeting with The Honorable Council of Elders and The High Council of Wise Ones to discuss plans for the banana economy. \n",
      "\n",
      "Banana Street and banana tariffs are among the main topics of discussion.\n",
      "\n",
      "\n"
     ]
    }
   ],
   "source": [
    "for old, new in replacements.items():\n",
    "    text = re.sub(old, new, text)\n",
    "\n",
    "with open(\"doc/funny_document.txt\", \"w\") as file:\n",
    "    file.write(text)\n",
    "\n",
    "print(\"\\n ... and the replacement is complete! \\n\")\n",
    "print(\"\\n\" + text + \"\\n\")\n"
   ]
  },
  {
   "cell_type": "markdown",
   "metadata": {
    "slideshow": {
     "slide_type": "subslide"
    }
   },
   "source": [
    "# What Is a Program?\n",
    "\n",
    "... is a sequence of instructions that specifies how to perform a computation. The **computation** might be:\n",
    "\n",
    "- something mathematical, such as solving a system of equations or finding the roots of a polynomial"
   ]
  },
  {
   "cell_type": "markdown",
   "metadata": {
    "slideshow": {
     "slide_type": "-"
    }
   },
   "source": [
    "- but it can also be a symbolic computation, such as searching and replacing text in a document"
   ]
  },
  {
   "cell_type": "markdown",
   "metadata": {
    "slideshow": {
     "slide_type": "fragment"
    }
   },
   "source": [
    "- or something graphical, like processing an image"
   ]
  },
  {
   "cell_type": "code",
   "execution_count": 52,
   "metadata": {
    "collapsed": false,
    "slideshow": {
     "slide_type": "subslide"
    }
   },
   "outputs": [
    {
     "data": {
      "image/png": "[encoded data removed]",
      "text/plain": [
       "<PIL.Image.Image image mode=L size=1920x1080 at 0x7FF0B8095A90>"
      ]
     },
     "metadata": {},
     "output_type": "display_data"
    }
   ],
   "source": [
    "from PIL import Image\n",
    "from IPython.display import display\n",
    "\n",
    "with Image.open(\"img/lgbt-logo.jpg\") as im:\n",
    "    display(im.convert(\"L\"))  # opts: L, 1, RGB, \"P\", palette=Image.ADAPTIVE, colors=256"
   ]
  },
  {
   "cell_type": "markdown",
   "metadata": {
    "slideshow": {
     "slide_type": "subslide"
    }
   },
   "source": [
    "# What Is a Program?\n",
    "\n",
    "... is a sequence of instructions that specifies how to perform a computation. The **computation** might be:\n",
    "\n",
    "- something mathematical, such as solving a system of equations or finding the roots of a polynomial\n"
   ]
  },
  {
   "cell_type": "markdown",
   "metadata": {
    "slideshow": {
     "slide_type": "-"
    }
   },
   "source": [
    "- but it can also be a symbolic computation, such as searching and replacing text in a document"
   ]
  },
  {
   "cell_type": "markdown",
   "metadata": {
    "slideshow": {
     "slide_type": "-"
    }
   },
   "source": [
    "- or something graphical, like processing an image"
   ]
  },
  {
   "cell_type": "markdown",
   "metadata": {
    "slideshow": {
     "slide_type": "fragment"
    }
   },
   "source": [
    "- or playing a video (backwards)"
   ]
  },
  {
   "cell_type": "code",
   "execution_count": 20,
   "metadata": {
    "collapsed": false,
    "slideshow": {
     "slide_type": "subslide"
    }
   },
   "outputs": [],
   "source": [
    "from PIL import Image, ImageSequence\n",
    "from IPython.display import display\n",
    "\n",
    "im = Image.open(\"img/monty-python.gif\")\n",
    "frames = [frame.copy() for frame in ImageSequence.Iterator(im)]\n",
    "frames.reverse()\n",
    "frames[0].save('img/reverse-monty-python.gif', save_all=True, \n",
    "               append_images=frames[1:], loop=0)"
   ]
  },
  {
   "cell_type": "markdown",
   "metadata": {
    "slideshow": {
     "slide_type": "fragment"
    }
   },
   "source": [
    "<p align=\"center\">\n",
    "  <img width=\"750\" src=\"img/rev-monty-python.gif\">\n",
    "</p>"
   ]
  },
  {
   "cell_type": "markdown",
   "metadata": {
    "slideshow": {
     "slide_type": "slide"
    }
   },
   "source": [
    "## The details look different in different languages, but a few basic instructions appear in just about every language:"
   ]
  },
  {
   "cell_type": "markdown",
   "metadata": {
    "slideshow": {
     "slide_type": "fragment"
    }
   },
   "source": [
    "- ### input\n",
    "\n",
    "    Get data from the keyboard, a file, the network, or some other device."
   ]
  },
  {
   "cell_type": "markdown",
   "metadata": {
    "slideshow": {
     "slide_type": "fragment"
    }
   },
   "source": [
    "- ### output:\n",
    "\n",
    "    Display data on the screen, save it in a file, send it over the network, etc."
   ]
  },
  {
   "cell_type": "markdown",
   "metadata": {
    "slideshow": {
     "slide_type": "fragment"
    }
   },
   "source": [
    "- ### math:\n",
    "\n",
    "    Perform basic mathematical operations like addition and multiplication."
   ]
  },
  {
   "cell_type": "markdown",
   "metadata": {
    "slideshow": {
     "slide_type": "subslide"
    }
   },
   "source": [
    "## The details look different in different languages, but a few basic instructions appear in just about every language:"
   ]
  },
  {
   "cell_type": "markdown",
   "metadata": {
    "slideshow": {
     "slide_type": "-"
    }
   },
   "source": [
    "- ### conditional execution:\n",
    "\n",
    "    Check for certain conditions and run the appropriate code."
   ]
  },
  {
   "cell_type": "markdown",
   "metadata": {
    "slideshow": {
     "slide_type": "fragment"
    }
   },
   "source": [
    "- ### repetition:\n",
    "\n",
    "    Perform some action repeatedly, usually with some variation."
   ]
  },
  {
   "cell_type": "markdown",
   "metadata": {
    "slideshow": {
     "slide_type": "subslide"
    }
   },
   "source": [
    "# Believe it or not, that’s pretty much all there is to it. \n",
    "\n",
    "Every program you’ve ever used, no matter how complicated, is made up of instructions that look pretty much like these.\n",
    "\n",
    "So you can think of programming as the process of breaking a large, complex task into smaller and smaller subtasks until the subtasks are simple enough to be performed with one of these basic instructions."
   ]
  },
  {
   "cell_type": "markdown",
   "metadata": {
    "slideshow": {
     "slide_type": "slide"
    }
   },
   "source": [
    "# Simply ... ''Think Python\""
   ]
  },
  {
   "cell_type": "markdown",
   "metadata": {
    "slideshow": {
     "slide_type": "-"
    }
   },
   "source": [
    "![BOOK](img/think-python.jpg)"
   ]
  },
  {
   "cell_type": "markdown",
   "metadata": {
    "slideshow": {
     "slide_type": "subslide"
    }
   },
   "source": [
    "<h3 style=\"text-align: center;\"> We will follow the book closely, the slides are only a guide.</h3>"
   ]
  },
  {
   "cell_type": "markdown",
   "metadata": {
    "slideshow": {
     "slide_type": "fragment"
    }
   },
   "source": [
    "Why this book?\n",
    "\n",
    "According to the Preface, the Author decided to:"
   ]
  },
  {
   "cell_type": "markdown",
   "metadata": {
    "slideshow": {
     "slide_type": "fragment"
    }
   },
   "source": [
    "- Keep it short, better to read 10 pages than 50"
   ]
  },
  {
   "cell_type": "markdown",
   "metadata": {
    "slideshow": {
     "slide_type": "fragment"
    }
   },
   "source": [
    "- Be careful with vocabulary, minimazing *jargon* when defining"
   ]
  },
  {
   "cell_type": "markdown",
   "metadata": {
    "slideshow": {
     "slide_type": "fragment"
    }
   },
   "source": [
    "- Build gradually, avoiding trapdoors effect when somewhere the bottom fall out"
   ]
  },
  {
   "cell_type": "markdown",
   "metadata": {
    "slideshow": {
     "slide_type": "fragment"
    }
   },
   "source": [
    "- Focus on programming, not the programming language, including the minimum useful subset of it"
   ]
  },
  {
   "cell_type": "markdown",
   "metadata": {
    "slideshow": {
     "slide_type": "slide"
    }
   },
   "source": [
    "# How to think like a computer scientist"
   ]
  },
  {
   "cell_type": "markdown",
   "metadata": {
    "slideshow": {
     "slide_type": "-"
    }
   },
   "source": [
    "This is the goal of this class.\n",
    "\n",
    "This way of thinking combines some of the best features of mathematics, engineering, and natural science. "
   ]
  },
  {
   "cell_type": "markdown",
   "metadata": {
    "slideshow": {
     "slide_type": "subslide"
    }
   },
   "source": [
    "# How to think like a computer scientist"
   ]
  },
  {
   "cell_type": "markdown",
   "metadata": {
    "slideshow": {
     "slide_type": "-"
    }
   },
   "source": [
    "- Like mathematicians, computer scientists use formal languages to denote ideas (specifically computations).\n"
   ]
  },
  {
   "cell_type": "markdown",
   "metadata": {
    "slideshow": {
     "slide_type": "fragment"
    }
   },
   "source": [
    "- Like engineers, they design things, assembling components into systems and evaluating tradeoffs among alternatives.\n"
   ]
  },
  {
   "cell_type": "markdown",
   "metadata": {
    "slideshow": {
     "slide_type": "fragment"
    }
   },
   "source": [
    "- Like scientists, they observe the behavior of complex systems, form hypotheses, and test predictions."
   ]
  },
  {
   "cell_type": "markdown",
   "metadata": {
    "slideshow": {
     "slide_type": "subslide"
    }
   },
   "source": [
    "# How to think like a computer scientist"
   ]
  },
  {
   "cell_type": "markdown",
   "metadata": {
    "slideshow": {
     "slide_type": "-"
    }
   },
   "source": [
    "The single most important skill for a computer scientist is problem solving. \n",
    "\n",
    "The ability to formulate problems, think creatively about solutions, and express a solution clearly and accurately. "
   ]
  },
  {
   "cell_type": "markdown",
   "metadata": {
    "slideshow": {
     "slide_type": "fragment"
    }
   },
   "source": [
    "We will use programming as a means to that end!"
   ]
  },
  {
   "cell_type": "markdown",
   "metadata": {
    "slideshow": {
     "slide_type": "slide"
    }
   },
   "source": [
    "# Running Python!"
   ]
  },
  {
   "cell_type": "markdown",
   "metadata": {
    "slideshow": {
     "slide_type": "-"
    }
   },
   "source": [
    "One of the challenges of getting started with Python is that you might have to install Python and related software on your computer. "
   ]
  },
  {
   "cell_type": "markdown",
   "metadata": {
    "slideshow": {
     "slide_type": "subslide"
    }
   },
   "source": [
    "<p style=\"text-align: center;\">If you are familiar with your **operating system**</p>"
   ]
  },
  {
   "cell_type": "markdown",
   "metadata": {
    "slideshow": {
     "slide_type": "fragment"
    }
   },
   "source": [
    "<p style=\"text-align: center;\">and especially</p>\n",
    "\n",
    "<p style=\"text-align: center;\">If you are comfortable with the **command-line interface** (CLI)</p>"
   ]
  },
  {
   "cell_type": "markdown",
   "metadata": {
    "slideshow": {
     "slide_type": "fragment"
    }
   },
   "source": [
    "<p style=\"text-align: center;\">You will have no trouble installing Python.</p>"
   ]
  },
  {
   "cell_type": "markdown",
   "metadata": {
    "slideshow": {
     "slide_type": "subslide"
    }
   },
   "source": [
    "Otherwise, it can be cumbersome to learn, at the same time, about:\n",
    "- system administration\n",
    "- programming"
   ]
  },
  {
   "cell_type": "markdown",
   "metadata": {
    "slideshow": {
     "slide_type": "subslide"
    }
   },
   "source": [
    "<p style=\"text-align: center;\">Our recommendation is start out running Python in a **browser**.</p>\n",
    "\n",
    "<p style=\"text-align: center;\">... to install it later, *locally*, when comfortable with Python.</p>"
   ]
  },
  {
   "cell_type": "markdown",
   "metadata": {
    "slideshow": {
     "slide_type": "fragment"
    }
   },
   "source": [
    "<img src=\"img/running-python.gif\" style=\"margin:auto\" width=\"750\">"
   ]
  },
  {
   "cell_type": "markdown",
   "metadata": {
    "slideshow": {
     "slide_type": "-"
    }
   },
   "source": [
    "<p style=\"text-align: center;\">There are a number of web pages to run Python (e.g. PythonAnywhere).</p>\n"
   ]
  },
  {
   "cell_type": "markdown",
   "metadata": {
    "slideshow": {
     "slide_type": "subslide"
    }
   },
   "source": [
    "During this class, we will rely on these two different solutions:\n",
    "- [Google Colab](https://colab.research.google.com/)\n",
    "- [Docker Desktop](https://docs.docker.com/desktop/)\n",
    "\n",
    "<p style=\"text-align: center;\">Detailed instructions will follow, as needed.</p>"
   ]
  },
  {
   "cell_type": "markdown",
   "metadata": {
    "slideshow": {
     "slide_type": "fragment"
    }
   },
   "source": [
    "<img src=\"img/cis1051-cover-zoom.jpg\" style=\"margin:auto\" width=\"750\">"
   ]
  },
  {
   "cell_type": "markdown",
   "metadata": {
    "slideshow": {
     "slide_type": "subslide"
    }
   },
   "source": [
    "### Colaboratory\n",
    "\n",
    "- Zero configuration required\n",
    "- Access to GPUs free of charge\n",
    "- Easy sharing\n",
    "\n",
    "editing & running *Colab* notebooks (like this one!)"
   ]
  },
  {
   "cell_type": "markdown",
   "metadata": {
    "slideshow": {
     "slide_type": "-"
    }
   },
   "source": [
    "<p align=\"center\">\n",
    "  <img width=\"750\" src=\"img/colab-logo.png\">\n",
    "</p>"
   ]
  },
  {
   "cell_type": "markdown",
   "metadata": {
    "slideshow": {
     "slide_type": "subslide"
    }
   },
   "source": [
    "### Docker\n",
    "\n",
    "One-click-install application to build & share containerized applications and microservices, reducing the time spent on complex setups, just to **focus on writing code**."
   ]
  },
  {
   "cell_type": "markdown",
   "metadata": {
    "slideshow": {
     "slide_type": "-"
    }
   },
   "source": [
    "<p align=\"center\">\n",
    "  <img width=\"750\" src=\"img/docker-logo.png\">\n",
    "</p>"
   ]
  },
  {
   "cell_type": "markdown",
   "metadata": {
    "slideshow": {
     "slide_type": "slide"
    }
   },
   "source": [
    "There are two versions of Python. They are very similar.\n",
    "\n",
    "- `python2`\n",
    "- `python3`"
   ]
  },
  {
   "cell_type": "markdown",
   "metadata": {
    "slideshow": {
     "slide_type": "fragment"
    }
   },
   "source": [
    "This class (as well as the book) is designed for `python3`, but there might be some notes about `python2`, on a few differences you might encounter as a beginner. "
   ]
  },
  {
   "cell_type": "markdown",
   "metadata": {
    "slideshow": {
     "slide_type": "fragment"
    }
   },
   "source": [
    "Right now, for you, it is just a matter of different **interpreters** ..."
   ]
  },
  {
   "cell_type": "markdown",
   "metadata": {
    "slideshow": {
     "slide_type": "subslide"
    }
   },
   "source": [
    "## The Python interpreter\n",
    "\n",
    "is a program that reads and executes Python code. "
   ]
  },
  {
   "cell_type": "markdown",
   "metadata": {
    "slideshow": {
     "slide_type": "fragment"
    }
   },
   "source": [
    "Depending on your environment, you might start the interpreter\n",
    "- by clicking on an icon\n",
    "- by typing `python` on a command line (CLI). "
   ]
  },
  {
   "cell_type": "markdown",
   "metadata": {
    "slideshow": {
     "slide_type": "fragment"
    }
   },
   "source": [
    "When it starts, you might see some output like: the information about the interpreter and the operating system it’s running on, so it might be different for you!"
   ]
  },
  {
   "cell_type": "markdown",
   "metadata": {
    "slideshow": {
     "slide_type": "fragment"
    }
   },
   "source": [
    "Then, there's the **prompt**, a line usually starting with\n",
    "\n",
    "```\n",
    ">>>\n",
    "```"
   ]
  },
  {
   "cell_type": "markdown",
   "metadata": {
    "slideshow": {
     "slide_type": "subslide"
    }
   },
   "source": [
    "Then, there's the **prompt**, a line usually starting with\n",
    "\n",
    "```\n",
    ">>>\n",
    "```"
   ]
  },
  {
   "cell_type": "markdown",
   "metadata": {
    "slideshow": {
     "slide_type": "fragment"
    }
   },
   "source": [
    "it indicates that the interpreter is ready for you to enter code.\n",
    "\n",
    "If you type a line of code and hit Enter, the interpreter displays the result:\n",
    "\n",
    "```\n",
    ">>> 1 + 1\n",
    "2\n",
    "```"
   ]
  },
  {
   "cell_type": "markdown",
   "metadata": {
    "slideshow": {
     "slide_type": "subslide"
    }
   },
   "source": [
    "### Try it yourself!"
   ]
  },
  {
   "cell_type": "code",
   "execution_count": 53,
   "metadata": {
    "collapsed": false,
    "slideshow": {
     "slide_type": "-"
    }
   },
   "outputs": [
    {
     "data": {
      "text/plain": [
       "6"
      ]
     },
     "execution_count": 53,
     "metadata": {},
     "output_type": "execute_result"
    }
   ],
   "source": [
    "1 + 5"
   ]
  },
  {
   "cell_type": "markdown",
   "metadata": {
    "slideshow": {
     "slide_type": "fragment"
    }
   },
   "source": [
    "Now we’re ready to get started. \n",
    "\n",
    "\n",
    "From here on, let's assume we know at least a way to run and test our code: from within this notebook cells embedded Python interpreter."
   ]
  },
  {
   "cell_type": "markdown",
   "metadata": {
    "slideshow": {
     "slide_type": "subslide"
    }
   },
   "source": [
    "Check that the version number is the right one. \n",
    "\n",
    "To do so, just type at the prompt (just anoher CLI) this  command"
   ]
  },
  {
   "cell_type": "code",
   "execution_count": 45,
   "metadata": {
    "collapsed": false,
    "slideshow": {
     "slide_type": "fragment"
    }
   },
   "outputs": [
    {
     "name": "stdout",
     "output_type": "stream",
     "text": [
      "Python 3.4.5 :: Continuum Analytics, Inc.\r\n"
     ]
    }
   ],
   "source": [
    "!python --version"
   ]
  },
  {
   "cell_type": "markdown",
   "metadata": {
    "slideshow": {
     "slide_type": "fragment"
    }
   },
   "source": [
    "since it begins with 3 it's the right version."
   ]
  },
  {
   "cell_type": "markdown",
   "metadata": {
    "slideshow": {
     "slide_type": "fragment"
    }
   },
   "source": [
    "... typing the above command from an actual CLI, you don't need to precede it by a `!`"
   ]
  },
  {
   "cell_type": "markdown",
   "metadata": {
    "slideshow": {
     "slide_type": "fragment"
    }
   },
   "source": [
    "This notebook cells aren't CLIs in the strictest sense of the word."
   ]
  },
  {
   "cell_type": "markdown",
   "metadata": {
    "slideshow": {
     "slide_type": "slide"
    }
   },
   "source": [
    "# The first program"
   ]
  },
  {
   "cell_type": "markdown",
   "metadata": {
    "slideshow": {
     "slide_type": "-"
    }
   },
   "source": [
    "### Once upon a time ...\n",
    "\n",
    "Traditionally, the first program you write in a new language is called “Hello, World!”"
   ]
  },
  {
   "cell_type": "code",
   "execution_count": 59,
   "metadata": {
    "collapsed": false,
    "slideshow": {
     "slide_type": "-"
    }
   },
   "outputs": [
    {
     "name": "stdout",
     "output_type": "stream",
     "text": [
      "Hello, World!\n"
     ]
    }
   ],
   "source": [
    "print(\"Hello, World!\")"
   ]
  },
  {
   "cell_type": "markdown",
   "metadata": {
    "slideshow": {
     "slide_type": "fragment"
    }
   },
   "source": [
    "All it does is to say hello to the World!\n",
    "\n",
    "This is an example of a print statement, i.e. it displays a result on the screen."
   ]
  },
  {
   "cell_type": "markdown",
   "metadata": {
    "slideshow": {
     "slide_type": "subslide"
    }
   },
   "source": [
    "Quotation marks `\"text\"` mark the **beginning** and **end** of text to be displayed (aka **strings**).\n",
    "The parentheses indicate that **print** is a function."
   ]
  },
  {
   "cell_type": "code",
   "execution_count": 4,
   "metadata": {
    "collapsed": false,
    "slideshow": {
     "slide_type": "-"
    }
   },
   "outputs": [
    {
     "name": "stdout",
     "output_type": "stream",
     "text": [
      "Hello, World!\n"
     ]
    }
   ],
   "source": [
    "print('Hello, World!')"
   ]
  },
  {
   "cell_type": "markdown",
   "metadata": {
    "slideshow": {
     "slide_type": "fragment"
    }
   },
   "source": [
    "In `python2`, the print statement is slightly different; it is not a function, so it doesn’t use parentheses."
   ]
  },
  {
   "cell_type": "markdown",
   "metadata": {
    "slideshow": {
     "slide_type": "-"
    }
   },
   "source": [
    "```\n",
    ">>> print 'Hello, World!'\n",
    "```"
   ]
  },
  {
   "cell_type": "markdown",
   "metadata": {
    "slideshow": {
     "slide_type": "subslide"
    }
   },
   "source": [
    "Single quotes and double quotes do the same thing. \n",
    "\n",
    "Most people use single quotes, except in cases like this where a single quote (e.g. an apostrophe) appears in the string."
   ]
  },
  {
   "cell_type": "code",
   "execution_count": 5,
   "metadata": {
    "collapsed": false,
    "slideshow": {
     "slide_type": "-"
    }
   },
   "outputs": [
    {
     "name": "stdout",
     "output_type": "stream",
     "text": [
      "I worked all the night so I'll sleep all day.\n"
     ]
    }
   ],
   "source": [
    "  print(\"I worked all the night so I'll sleep all day.\")"
   ]
  },
  {
   "cell_type": "markdown",
   "metadata": {
    "slideshow": {
     "slide_type": "slide"
    }
   },
   "source": [
    "# Arithmetic Operators"
   ]
  },
  {
   "cell_type": "markdown",
   "metadata": {
    "slideshow": {
     "slide_type": "-"
    }
   },
   "source": [
    "... next step is arithmetic. Python provides **operators**:\n",
    "\n",
    "special symbols that represent computations like addition and multiplication!"
   ]
  },
  {
   "cell_type": "markdown",
   "metadata": {
    "slideshow": {
     "slide_type": "fragment"
    }
   },
   "source": [
    "The operators `+`, `-`, and `*` perform *addition*, *subtraction*, and *multiplication*, as in the following examples:"
   ]
  },
  {
   "cell_type": "code",
   "execution_count": 62,
   "metadata": {
    "collapsed": false,
    "slideshow": {
     "slide_type": "-"
    }
   },
   "outputs": [
    {
     "data": {
      "text/plain": [
       "42"
      ]
     },
     "execution_count": 62,
     "metadata": {},
     "output_type": "execute_result"
    }
   ],
   "source": [
    "40 + 2"
   ]
  },
  {
   "cell_type": "code",
   "execution_count": 63,
   "metadata": {
    "collapsed": false,
    "slideshow": {
     "slide_type": "-"
    }
   },
   "outputs": [
    {
     "data": {
      "text/plain": [
       "42"
      ]
     },
     "execution_count": 63,
     "metadata": {},
     "output_type": "execute_result"
    }
   ],
   "source": [
    "43 - 1"
   ]
  },
  {
   "cell_type": "code",
   "execution_count": 64,
   "metadata": {
    "collapsed": false,
    "slideshow": {
     "slide_type": "-"
    }
   },
   "outputs": [
    {
     "data": {
      "text/plain": [
       "42"
      ]
     },
     "execution_count": 64,
     "metadata": {},
     "output_type": "execute_result"
    }
   ],
   "source": [
    "6 * 7"
   ]
  },
  {
   "cell_type": "markdown",
   "metadata": {
    "slideshow": {
     "slide_type": "subslide"
    }
   },
   "source": [
    "The operator `/` performs division:"
   ]
  },
  {
   "cell_type": "code",
   "execution_count": 66,
   "metadata": {
    "collapsed": false,
    "slideshow": {
     "slide_type": "-"
    }
   },
   "outputs": [
    {
     "data": {
      "text/plain": [
       "42.0"
      ]
     },
     "execution_count": 66,
     "metadata": {},
     "output_type": "execute_result"
    }
   ],
   "source": [
    "84 / 2"
   ]
  },
  {
   "cell_type": "markdown",
   "metadata": {
    "slideshow": {
     "slide_type": "fragment"
    }
   },
   "source": [
    "... why the result is `42.0` instead of `42`. It's a matter of **types**.\n",
    "\n",
    "Let's wait for a while!"
   ]
  },
  {
   "cell_type": "markdown",
   "metadata": {
    "slideshow": {
     "slide_type": "fragment"
    }
   },
   "source": [
    "Finally, the operator `**` performs **exponentiation**, i.e. it raises a number to a power:"
   ]
  },
  {
   "cell_type": "code",
   "execution_count": 67,
   "metadata": {
    "collapsed": false,
    "slideshow": {
     "slide_type": "-"
    }
   },
   "outputs": [
    {
     "data": {
      "text/plain": [
       "42"
      ]
     },
     "execution_count": 67,
     "metadata": {},
     "output_type": "execute_result"
    }
   ],
   "source": [
    "6**2 + 6"
   ]
  },
  {
   "cell_type": "markdown",
   "metadata": {
    "slideshow": {
     "slide_type": "subslide"
    }
   },
   "source": [
    "In some other languages, `^` is used for exponentiation.\n",
    "\n",
    "In Python this is a bitwise operator called **XOR** ... the result will surprise you:"
   ]
  },
  {
   "cell_type": "code",
   "execution_count": 68,
   "metadata": {
    "collapsed": false,
    "slideshow": {
     "slide_type": "-"
    }
   },
   "outputs": [
    {
     "data": {
      "text/plain": [
       "4"
      ]
     },
     "execution_count": 68,
     "metadata": {},
     "output_type": "execute_result"
    }
   ],
   "source": [
    "6 ^ 2"
   ]
  },
  {
   "cell_type": "markdown",
   "metadata": {
    "slideshow": {
     "slide_type": "fragment"
    }
   },
   "source": [
    "We won’t cover them, but read more about this on: [http://wiki.python.org/moin/BitwiseOperators](http://wiki.python.org/moin/BitwiseOperators)\n",
    "\n",
    "... bitwise operators have lot of applications in cryptography, as well as **XOR** in particular!"
   ]
  },
  {
   "cell_type": "code",
   "execution_count": 84,
   "metadata": {
    "collapsed": true,
    "slideshow": {
     "slide_type": "subslide"
    }
   },
   "outputs": [],
   "source": [
    "# Test\n",
    "key = 5\n",
    "message = \"This is a secret message for you. Don't tell anybody !!!\""
   ]
  },
  {
   "cell_type": "code",
   "execution_count": 85,
   "metadata": {
    "collapsed": false,
    "slideshow": {
     "slide_type": "-"
    }
   },
   "outputs": [
    {
     "name": "stdout",
     "output_type": "stream",
     "text": [
      "Encrypted message: Qmlv%lv%d%v`fw`q%h`vvdb`%cjw%|jp+%Ajk\"q%q`ii%dk|gja|%$$$\n",
      "Decrypted message: This is a secret message for you. Don't tell anybody !!!\n"
     ]
    }
   ],
   "source": [
    "def encrypt(message, key):\n",
    "    return ''.join(chr(ord(c) ^ key) for c in message)\n",
    "\n",
    "def decrypt(ciphertext, key):\n",
    "    return ''.join(chr(ord(c) ^ key) for c in ciphertext)\n",
    "\n",
    "ciphertext = encrypt(message, key); print(\"Encrypted message:\", ciphertext)\n",
    "plaintext = decrypt(ciphertext, key); print(\"Decrypted message:\", plaintext)"
   ]
  },
  {
   "cell_type": "markdown",
   "metadata": {
    "slideshow": {
     "slide_type": "fragment"
    }
   },
   "source": [
    "In this example, the `encrypt` **function** takes a `message` and a `key` as **input**, and **returns** the **XOR** of each character in the message with the key.\n",
    "\n",
    "The `decrypt` **function** takes the `ciphertext` and the `key` as **input** and **returns** the original message by doing the same operation again."
   ]
  },
  {
   "cell_type": "markdown",
   "metadata": {
    "slideshow": {
     "slide_type": "subslide"
    }
   },
   "source": [
    "The `key` could even be a **string**, with a slightly more articulated script:"
   ]
  },
  {
   "cell_type": "code",
   "execution_count": 86,
   "metadata": {
    "collapsed": true,
    "slideshow": {
     "slide_type": "-"
    }
   },
   "outputs": [],
   "source": [
    "key = \"Fidelius\""
   ]
  },
  {
   "cell_type": "code",
   "execution_count": 88,
   "metadata": {
    "collapsed": false,
    "slideshow": {
     "slide_type": "-"
    }
   },
   "outputs": [
    {
     "name": "stdout",
     "output_type": "stream",
     "text": [
      "Encrypted message: \u0012\u0001\r",
      "\u0016L\u0000\u0006S'I\u0017\u0000\u000f\u001b\u0010\u0007f\u0004\u0001\u0016\u001f\b\u0012\u0016f\u000f\u000b",
      "\u0017L\u0010\u001a\u0006hI \n",
      "\u0002N\u0001S2\f",
      "\b\tL\b\u001b\n",
      "$\u0006\u0000\u001c",
      "LHTR\n",
      "Decrypted message: This is a secret message for you. Don't tell anybody !!!\n"
     ]
    }
   ],
   "source": [
    "def encrypt(message, key):\n",
    "    key_len = len(key);     key_index = 0\n",
    "    encrypted_message = \"\"\n",
    "    for c in message:\n",
    "        encrypted_message += chr(ord(c) ^ ord(key[key_index]))\n",
    "        key_index = (key_index + 1) % key_len\n",
    "    return encrypted_message\n",
    "\n",
    "def decrypt(ciphertext, key):\n",
    "    key_len = len(key);     key_index = 0\n",
    "    decrypted_message = \"\"\n",
    "    for c in ciphertext:\n",
    "        decrypted_message += chr(ord(c) ^ ord(key[key_index]))\n",
    "        key_index = (key_index + 1) % key_len\n",
    "    return decrypted_message\n",
    "\n",
    "ciphertext = encrypt(message, key); print(\"Encrypted message:\", ciphertext)\n",
    "plaintext = decrypt(ciphertext, key); print(\"Decrypted message:\", plaintext)"
   ]
  },
  {
   "cell_type": "markdown",
   "metadata": {
    "slideshow": {
     "slide_type": "slide"
    }
   },
   "source": [
    "# Values and Types"
   ]
  },
  {
   "cell_type": "markdown",
   "metadata": {
    "slideshow": {
     "slide_type": "-"
    }
   },
   "source": [
    "A **value** is one of the basic things a program works with (like a letter or a number).\n",
    "\n",
    "Some values we have seen so far are `2`, `42.0`, and `'Hello, World!'`"
   ]
  },
  {
   "cell_type": "markdown",
   "metadata": {
    "slideshow": {
     "slide_type": "fragment"
    }
   },
   "source": [
    "These values belong to different **types**: \n",
    "\n",
    "- `2` is an **integer**\n",
    "- `42.0` is a **floating-point** number\n",
    "- `'Hello, World!'` is a **string**, because the letters (i.e. **char** in other languages) it contains are *strung together*."
   ]
  },
  {
   "cell_type": "markdown",
   "metadata": {
    "slideshow": {
     "slide_type": "subslide"
    }
   },
   "source": [
    "## Not sure what type a value has?\n",
    "\n",
    "... the interpreter can tell you:\n",
    "\n"
   ]
  },
  {
   "cell_type": "code",
   "execution_count": 90,
   "metadata": {
    "collapsed": false,
    "slideshow": {
     "slide_type": "fragment"
    }
   },
   "outputs": [
    {
     "data": {
      "text/plain": [
       "int"
      ]
     },
     "execution_count": 90,
     "metadata": {},
     "output_type": "execute_result"
    }
   ],
   "source": [
    "type(2)"
   ]
  },
  {
   "cell_type": "code",
   "execution_count": 91,
   "metadata": {
    "collapsed": false,
    "slideshow": {
     "slide_type": "fragment"
    }
   },
   "outputs": [
    {
     "data": {
      "text/plain": [
       "float"
      ]
     },
     "execution_count": 91,
     "metadata": {},
     "output_type": "execute_result"
    }
   ],
   "source": [
    "type(42.0)"
   ]
  },
  {
   "cell_type": "code",
   "execution_count": 92,
   "metadata": {
    "collapsed": false,
    "slideshow": {
     "slide_type": "fragment"
    }
   },
   "outputs": [
    {
     "data": {
      "text/plain": [
       "str"
      ]
     },
     "execution_count": 92,
     "metadata": {},
     "output_type": "execute_result"
    }
   ],
   "source": [
    "type('Hello, World!')"
   ]
  },
  {
   "cell_type": "markdown",
   "metadata": {
    "slideshow": {
     "slide_type": "subslide"
    }
   },
   "source": [
    "## Don't be fooled up!"
   ]
  },
  {
   "cell_type": "markdown",
   "metadata": {
    "slideshow": {
     "slide_type": "-"
    }
   },
   "source": [
    "What about values like `'2'` and `'42.0'`? \n",
    "\n",
    "They look like numbers, but they are in quotation marks like `strings`:"
   ]
  },
  {
   "cell_type": "code",
   "execution_count": 93,
   "metadata": {
    "collapsed": false,
    "slideshow": {
     "slide_type": "fragment"
    }
   },
   "outputs": [
    {
     "data": {
      "text/plain": [
       "str"
      ]
     },
     "execution_count": 93,
     "metadata": {},
     "output_type": "execute_result"
    }
   ],
   "source": [
    " type('2')"
   ]
  },
  {
   "cell_type": "code",
   "execution_count": 94,
   "metadata": {
    "collapsed": false,
    "slideshow": {
     "slide_type": "fragment"
    }
   },
   "outputs": [
    {
     "data": {
      "text/plain": [
       "str"
      ]
     },
     "execution_count": 94,
     "metadata": {},
     "output_type": "execute_result"
    }
   ],
   "source": [
    "type('42.0')"
   ]
  },
  {
   "cell_type": "markdown",
   "metadata": {
    "slideshow": {
     "slide_type": "subslide"
    }
   },
   "source": [
    "Do not use commas between groups of digits, when typing a large integer (as in `1,000,000`)"
   ]
  },
  {
   "cell_type": "code",
   "execution_count": 8,
   "metadata": {
    "collapsed": false,
    "slideshow": {
     "slide_type": "-"
    }
   },
   "outputs": [
    {
     "data": {
      "text/plain": [
       "(1, 0, 0)"
      ]
     },
     "execution_count": 8,
     "metadata": {},
     "output_type": "execute_result"
    }
   ],
   "source": [
    " 1,000,000"
   ]
  },
  {
   "cell_type": "markdown",
   "metadata": {
    "slideshow": {
     "slide_type": "fragment"
    }
   },
   "source": [
    "That’s not what we expected at all! \n",
    "\n",
    "Python *interprets* `1,000,000` as a comma-separated *sequence of integers* we will learn more about.\n",
    "\n",
    "Again, let's wait for a while!"
   ]
  },
  {
   "cell_type": "markdown",
   "metadata": {
    "slideshow": {
     "slide_type": "slide"
    }
   },
   "source": [
    "# Formal and Natural Languages"
   ]
  },
  {
   "cell_type": "markdown",
   "metadata": {
    "slideshow": {
     "slide_type": "-"
    }
   },
   "source": [
    "These are Beautiful definitions taken from your book:\n",
    "    \n",
    "- **Natural languages** are the languages people speak, i.e. English, Spanish, and French. They were not designed by people (although people try to impose some order on them); **they evolved naturally**.\n",
    "\n",
    "- **Formal languages** are languages that are **designed by people** for specific applications, i.e. mathematical notation is particularly good at denoting relationships among numbers and symbols. Chemists use a formal language to represent the chemical structure of molecules. And most importantly:"
   ]
  },
  {
   "cell_type": "markdown",
   "metadata": {
    "slideshow": {
     "slide_type": "fragment"
    }
   },
   "source": [
    "<p style=\"text-align: center;\"><strong>Programming languages are formal languages that have been designed to express computations.</strong></p>\n"
   ]
  },
  {
   "cell_type": "markdown",
   "metadata": {
    "slideshow": {
     "slide_type": "subslide"
    }
   },
   "source": [
    "Formal languages tend to have strict syntax rules that govern the structure of statements, i.e. in mathematics the statement \n",
    "\n",
    "<p style=\"text-align: center;\"><mark>3 + 3 = 6</mark></p>"
   ]
  },
  {
   "cell_type": "markdown",
   "metadata": {
    "slideshow": {
     "slide_type": "-"
    }
   },
   "source": [
    "<p style=\"text-align: center;\">has correct syntax, but</p>"
   ]
  },
  {
   "cell_type": "markdown",
   "metadata": {
    "slideshow": {
     "slide_type": "-"
    }
   },
   "source": [
    "<p style=\"text-align: center;\"><mark>3 +  = 3 $6</mark></p>"
   ]
  },
  {
   "cell_type": "markdown",
   "metadata": {
    "slideshow": {
     "slide_type": "-"
    }
   },
   "source": [
    "<p style=\"text-align: center;\">does not!</p>"
   ]
  },
  {
   "cell_type": "markdown",
   "metadata": {
    "slideshow": {
     "slide_type": "subslide"
    }
   },
   "source": [
    "Syntax rules come in two flavors, pertaining to **tokens** and **structure**. Tokens are the *basic elements of the language*, such as words, numbers, and chemical elements.\n",
    "\n",
    "In the above example <mark>$</mark> is not a legal token, in mathematics."
   ]
  },
  {
   "cell_type": "markdown",
   "metadata": {
    "slideshow": {
     "slide_type": "fragment"
    }
   },
   "source": [
    "The second type of syntax rule pertains to *the way tokens are combined*. The above equation  is illegal because although <mark>+</mark> and <mark>=</mark> are legal tokens, you can’t have one right after the other!"
   ]
  },
  {
   "cell_type": "markdown",
   "metadata": {
    "slideshow": {
     "slide_type": "subslide"
    }
   },
   "source": [
    "<p style=\"text-align: center;\"><mark><mark>This is @ well-structured Engli$h sentence with invalid t*kens in it.</mark> \n",
    "</mark></p>\n",
    "\n",
    "<p style=\"text-align: center;\">This sentence has all valid tokens, but an invalid structure as well.</p>"
   ]
  },
  {
   "cell_type": "markdown",
   "metadata": {
    "slideshow": {
     "slide_type": "subslide"
    }
   },
   "source": [
    "When you read a sentence in English or a statement in a formal language, you have to figure out the structure (although in a natural language you do this subconsciously).\n",
    "\n",
    "<p style=\"text-align: center;\">This process is called <strong>parsing</strong>.</p>"
   ]
  },
  {
   "cell_type": "markdown",
   "metadata": {
    "slideshow": {
     "slide_type": "fragment"
    }
   },
   "source": [
    "Formal and natural languages have many features in common &ndash; tokens, structure, and syntax &ndash; there are some differences ..."
   ]
  },
  {
   "cell_type": "markdown",
   "metadata": {
    "slideshow": {
     "slide_type": "subslide"
    }
   },
   "source": [
    "### ambiguity:\n",
    "Natural languages are full of ambiguity, which people deal with by using contextual clues and other information.\n",
    "\n",
    "Formal languages are **designed** to be nearly or completely **unambiguous**, which means that *any statement has exactly one meaning, regardless of context*."
   ]
  },
  {
   "cell_type": "markdown",
   "metadata": {
    "slideshow": {
     "slide_type": "-"
    }
   },
   "source": [
    "<p align=\"center\">\n",
    "  <img width=\"750\" src=\"img/monalisasmile.jpg\">\n",
    "</p>"
   ]
  },
  {
   "cell_type": "markdown",
   "metadata": {
    "slideshow": {
     "slide_type": "subslide"
    }
   },
   "source": [
    "### redundancy:\n",
    "\n",
    "As a result, they are often verbose. Formal languages are *less redundant* and **more concise**.\n",
    "\n",
    "In order to make up for ambiguity and reduce misunderstandings, natural languages employ lots of redundancy."
   ]
  },
  {
   "cell_type": "markdown",
   "metadata": {
    "slideshow": {
     "slide_type": "-"
    }
   },
   "source": [
    "<p align=\"center\">\n",
    "  <img width=\"750\" src=\"img/monet.png\">\n",
    "</p>"
   ]
  },
  {
   "cell_type": "markdown",
   "metadata": {
    "slideshow": {
     "slide_type": "subslide"
    }
   },
   "source": [
    "### literalness:\n",
    "\n",
    "Formal languages, **simply** mean exactly what they say.\n",
    "\n",
    "Natural languages are full of idiom and metaphor ...\n"
   ]
  },
  {
   "cell_type": "markdown",
   "metadata": {
    "slideshow": {
     "slide_type": "-"
    }
   },
   "source": [
    "<p align=\"center\">\n",
    "  <img width=\"750\" src=\"img/adam.png\">\n",
    "</p>"
   ]
  },
  {
   "cell_type": "markdown",
   "metadata": {
    "slideshow": {
     "slide_type": "subslide"
    }
   },
   "source": [
    "## ... as your beautifull book explains"
   ]
  },
  {
   "cell_type": "markdown",
   "metadata": {
    "slideshow": {
     "slide_type": "-"
    }
   },
   "source": [
    "*Because we all grow up speaking natural languages, it is sometimes hard to adjust to formal languages.* \n",
    "\n",
    "The difference between formal and natural language is like the difference between **poetry** and **prose**"
   ]
  },
  {
   "cell_type": "markdown",
   "metadata": {
    "slideshow": {
     "slide_type": "subslide"
    }
   },
   "source": [
    "### poetry\n",
    "\n",
    "Words are used for their sounds as well as for their meaning, and the whole poem together creates an effect or emotional response. *Ambiguity is not only common but often deliberate*.\n",
    "\n",
    "### prose\n",
    "\n",
    "The literal meaning of words is more important, and the structure contributes more meaning. *Prose is more amenable to analysis than poetry but still often ambiguous*.\n",
    "\n",
    "### programs\n",
    "\n",
    "The meaning of a computer program is unambiguous and literal, and can be understood entirely by *analysis of the tokens and structure*."
   ]
  },
  {
   "cell_type": "markdown",
   "metadata": {
    "slideshow": {
     "slide_type": "subslide"
    }
   },
   "source": [
    "Formal languages are more dense than natural languages, so it takes longer to read them. \n",
    "\n",
    "The structure is important, so it is not always best to read from top to bottom, left to right. "
   ]
  },
  {
   "cell_type": "markdown",
   "metadata": {
    "slideshow": {
     "slide_type": "fragment"
    }
   },
   "source": [
    "<p style=\"text-align: center;\">Learn to <strong>parse the program in your head</strong> identifying the tokens and interpreting the structure.</p>"
   ]
  },
  {
   "cell_type": "markdown",
   "metadata": {
    "slideshow": {
     "slide_type": "fragment"
    }
   },
   "source": [
    "<p style=\"text-align: center;\"><strong>Details matter</strong>: small errors in spelling and punctuation, can make a big difference in a formal language.</p>"
   ]
  },
  {
   "cell_type": "markdown",
   "metadata": {
    "slideshow": {
     "slide_type": "slide"
    }
   },
   "source": [
    "# Debugging "
   ]
  },
  {
   "cell_type": "markdown",
   "metadata": {
    "slideshow": {
     "slide_type": "-"
    }
   },
   "source": [
    "Programmers make mistakes.\n",
    "\n",
    "Programming errors are called **bugs** and the process of tracking them down is called debugging.\n"
   ]
  },
  {
   "cell_type": "markdown",
   "metadata": {
    "slideshow": {
     "slide_type": "fragment"
    }
   },
   "source": [
    "Programming, and especially debugging, sometimes brings out **strong emotions**.\n",
    "\n",
    "If you are struggling with a difficult bug, you might feel angry, despondent, or embarrassed."
   ]
  },
  {
   "cell_type": "markdown",
   "metadata": {
    "slideshow": {
     "slide_type": "subslide"
    }
   },
   "source": [
    "Think of the computer as an employee with certain strengths, like **speed** and **precision**, and particular weaknesses, like lack of empathy and inability to grasp the big picture. Your job is to be a good manager.\n",
    "\n",
    "Use your emotions to engage with the problem, without letting your reactions interfere with your ability to work effectively."
   ]
  },
  {
   "cell_type": "markdown",
   "metadata": {
    "slideshow": {
     "slide_type": "fragment"
    }
   },
   "source": [
    "<p style=\"text-align: center;\">Learning to debug can be frustrating, but it is a valuable skill that is useful for many activities beyond programming.</p>"
   ]
  }
 ],
 "metadata": {
  "celltoolbar": "Slideshow",
  "kernelspec": {
   "display_name": "Python 3",
   "language": "python",
   "name": "python3"
  },
  "language_info": {
   "codemirror_mode": {
    "name": "ipython",
    "version": 3
   },
   "file_extension": ".py",
   "mimetype": "text/x-python",
   "name": "python",
   "nbconvert_exporter": "python",
   "pygments_lexer": "ipython3",
   "version": "3.4.5"
  }
 },
 "nbformat": 4,
 "nbformat_minor": 2
}
