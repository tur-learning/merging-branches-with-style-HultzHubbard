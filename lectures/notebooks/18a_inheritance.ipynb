{
 "cells": [
  {
   "cell_type": "markdown",
   "metadata": {
    "slideshow": {
     "slide_type": "slide"
    }
   },
   "source": [
    " # CIS 1051 - Temple Rome Spring 2023"
   ]
  },
  {
   "cell_type": "markdown",
   "metadata": {
    "slideshow": {
     "slide_type": "-"
    }
   },
   "source": [
    "## Intro to Problem solving and \n",
    "## Programming in Python"
   ]
  },
  {
   "cell_type": "markdown",
   "metadata": {
    "slideshow": {
     "slide_type": "-"
    }
   },
   "source": [
    "![LOGO](img/temple-logo.png)"
   ]
  },
  {
   "cell_type": "markdown",
   "metadata": {
    "slideshow": {
     "slide_type": "subslide"
    }
   },
   "source": [
    "![LOGO](img/temple-logo.png)"
   ]
  },
  {
   "cell_type": "markdown",
   "metadata": {
    "slideshow": {
     "slide_type": "-"
    }
   },
   "source": [
    "### Inheritance"
   ]
  },
  {
   "cell_type": "markdown",
   "metadata": {
    "slideshow": {
     "slide_type": "-"
    }
   },
   "source": [
    "Prof. Andrea Gallegati\n",
    "\n",
    "( [tuj81353@temple.edu](tuj81353@temple.edu) )"
   ]
  },
  {
   "cell_type": "markdown",
   "metadata": {
    "slideshow": {
     "slide_type": "slide"
    }
   },
   "source": [
    "One of the most important features of *object-oriented programming* is **inheritance**. \n",
    "\n",
    "The ability to define a new class that is a modified version of an existing class. "
   ]
  },
  {
   "cell_type": "markdown",
   "metadata": {
    "slideshow": {
     "slide_type": "fragment"
    }
   },
   "source": [
    "We will use classes representing playing cards, decks of cards, and poker hands!\n",
    "\n",
    "<p style=\"text-align: center;\">( If you don’t play poker, you can read about it at http://en.wikipedia.org/wiki/Poker )</p>"
   ]
  },
  {
   "cell_type": "markdown",
   "metadata": {
    "slideshow": {
     "slide_type": "subslide"
    }
   },
   "source": [
    "## Card Objects"
   ]
  },
  {
   "cell_type": "markdown",
   "metadata": {
    "slideshow": {
     "slide_type": "-"
    }
   },
   "source": [
    "- 52 cards in a deck\n",
    "- each belongs to 1 of 4 **suits** and 1 of 13 **ranks**. \n",
    "- suits are *Spades, Diamonds, Clubs* and *Hearts*\n",
    "- ranks are *Ace, 2, 3, 4, 5, 6, 7, 8, 9, 10, Jack, Queen, and King*. \n",
    "\n",
    "Depending on the game, Ace may be higher than King or lower than 2!"
   ]
  },
  {
   "cell_type": "markdown",
   "metadata": {
    "slideshow": {
     "slide_type": "-"
    }
   },
   "source": [
    "<p align=\"center\"><img src=\"img/suits.png\" style=\"margin:auto\" width=\"600\">"
   ]
  },
  {
   "cell_type": "markdown",
   "metadata": {
    "slideshow": {
     "slide_type": "subslide"
    }
   },
   "source": [
    "To represent a playing card with an **object**, it is:\n",
    "- it is obvious what the **attributes** should be rank and suit\n",
    "- it is not as obvious what type the attributes should be"
   ]
  },
  {
   "cell_type": "markdown",
   "metadata": {
    "slideshow": {
     "slide_type": "fragment"
    }
   },
   "source": [
    "One possibility is to use **strings** containing ranks names. \n",
    "\n",
    "One problem with this **implementation** is that it would not be that easy to **compare** cards (higher rank/suit)."
   ]
  },
  {
   "cell_type": "markdown",
   "metadata": {
    "slideshow": {
     "slide_type": "subslide"
    }
   },
   "source": [
    "<table style=\"border:none;\">\n",
    "    <colgroup style=\"border:none;\">\n",
    "        <col width=\"10%\"/>\n",
    "        <col width=\"5%\"/>\n",
    "        <col width=\"5%\"/>\n",
    "        <col width=\"10%\"/>\n",
    "        <col width=\"10%\"/>\n",
    "        <col width=\"5%\"/>\n",
    "        <col width=\"5%\"/>\n",
    "        <col width=\"5%\"/>\n",
    "        <col width=\"45%\"/>\n",
    "    </colgroup>\n",
    "    <tr style=\"border:none;\">\n",
    "        <td style=\"border:none;\">\n",
    "            <p align=\"center\"><img src=\"img/spades.png\" style=\"margin:auto\"></p>\n",
    "        </td>\n",
    "        <td style=\"border:none;\">\n",
    "        </td>\n",
    "        <td style=\"border:none;\">\n",
    "            <div style=\"border:none;\">           \n",
    "                <p>3</p>\n",
    "            </div>\n",
    "        </td>\n",
    "        <td style=\"border:none;\">\n",
    "        </td>\n",
    "        <td style=\"border:none;\">\n",
    "            <p align=\"center\"><img src=\"img/diamonds.png\" style=\"margin:auto\"></p>\n",
    "        </td>\n",
    "        <td style=\"border:none;\">\n",
    "        </td>\n",
    "        <td style=\"border:none;\">\n",
    "            <div style=\"border:none;\">           \n",
    "                <p>1</p>\n",
    "            </div>\n",
    "        </td>\n",
    "        <td style=\"border:none;\">\n",
    "        </td>\n",
    "        <td style=\"border:none;\">\n",
    "            <div style=\"border:none;\">           \n",
    "                <p>As alternative use integers to encode ranks and suits defining a <strong>mapping</strong>. </p>\n",
    "            </div>\n",
    "        </td>\n",
    "    </tr>\n",
    "    <tr style=\"border:none;\">\n",
    "    <td style=\"border:none;\">\n",
    "        <p align=\"center\"><img src=\"img/hearts.png\" style=\"margin:auto\"></p>\n",
    "    </td>\n",
    "    <td style=\"border:none;\">\n",
    "    </td>\n",
    "    <td style=\"border:none;\">\n",
    "        <div style=\"border:none;\">           \n",
    "            <p>2</p>\n",
    "        </div>\n",
    "      </td>\n",
    "      <td style=\"border:none;\">\n",
    "        </td>\n",
    "        <td style=\"border:none;\">\n",
    "            <p align=\"center\"><img src=\"img/clubs.png\" style=\"margin:auto\"></p>\n",
    "        </td>\n",
    "        <td style=\"border:none;\">\n",
    "        </td>\n",
    "        <td style=\"border:none;\">\n",
    "            <div style=\"border:none;\">           \n",
    "                <p>0</p>\n",
    "            </div>\n",
    "        </td>\n",
    "        <td style=\"border:none;\">\n",
    "        </td>\n",
    "        <td style=\"border:none;\">\n",
    "            <div style=\"border:none;\">           \n",
    "                <p>This kind of <strong>encoding</strong> is not meant to be a secret (<em>“encryption”</em>).</p>\n",
    "            </div>\n",
    "        </td>\n",
    "   </tr>\n",
    "</table>"
   ]
  },
  {
   "cell_type": "markdown",
   "metadata": {
    "slideshow": {
     "slide_type": "subslide"
    }
   },
   "source": [
    "Thus, it's easy to **compare** cards. Higher suits map to higher numbers: we can compare suits by comparing their **codes**."
   ]
  },
  {
   "cell_type": "markdown",
   "metadata": {
    "slideshow": {
     "slide_type": "subslide"
    }
   },
   "source": [
    "<table style=\"border:none;\">\n",
    "    <colgroup style=\"border:none;\">\n",
    "        <col width=\"70%\"/>\n",
    "        <col width=\"10%\"/>\n",
    "        <col width=\"10%\"/>\n",
    "        <col width=\"5%\"/>\n",
    "        <col width=\"5%\"/>\n",
    "    </colgroup>\n",
    "    <tr style=\"border:none;\">\n",
    "        <td style=\"border:none;\">\n",
    "        </td>\n",
    "        <td style=\"border:none;\">\n",
    "        </td>\n",
    "        <td style=\"border:none;\">\n",
    "            <p align=\"center\"><img src=\"img/jack.png\" style=\"margin:auto\"></p>\n",
    "        </td>\n",
    "        <td style=\"border:none;\">\n",
    "        </td>\n",
    "        <td style=\"border:none;\">\n",
    "            <div style=\"border:none;\">           \n",
    "                <p>11</p>\n",
    "            </div>\n",
    "        </td>\n",
    "    </tr>\n",
    "    <tr style=\"border:none;\">\n",
    "        <td style=\"border:none;\">\n",
    "            <div style=\"border:none;\">           \n",
    "                <p>The ranks mapping is even more obvious. Each of the numerical ranks maps to the corresponding integer, and for <strong>face cards</strong>:</p>\n",
    "            </div>\n",
    "        </td>\n",
    "        <td style=\"border:none;\">\n",
    "        </td>\n",
    "        <td style=\"border:none;\">\n",
    "            <p align=\"center\"><img src=\"img/queen.png\" style=\"margin:auto\"></p>\n",
    "        </td>\n",
    "        <td style=\"border:none;\">\n",
    "        </td>\n",
    "        <td style=\"border:none;\">\n",
    "            <div style=\"border:none;\">           \n",
    "                <p>12</p>\n",
    "            </div>\n",
    "        </td>\n",
    "    </tr>\n",
    "    <tr style=\"border:none;\">\n",
    "        <td style=\"border:none;\">\n",
    "        </td>\n",
    "        <td style=\"border:none;\">\n",
    "        </td>\n",
    "        <td style=\"border:none;\">\n",
    "            <p align=\"center\"><img src=\"img/king.png\" style=\"margin:auto\"></p>\n",
    "        </td>\n",
    "        <td style=\"border:none;\">\n",
    "        </td>\n",
    "        <td style=\"border:none;\">\n",
    "            <div style=\"border:none;\">           \n",
    "                <p>13</p>\n",
    "            </div>\n",
    "        </td>\n",
    "   </tr>\n",
    "</table>"
   ]
  },
  {
   "cell_type": "markdown",
   "metadata": {
    "slideshow": {
     "slide_type": "subslide"
    }
   },
   "source": [
    "The `Card` class definition looks like this:"
   ]
  },
  {
   "cell_type": "code",
   "execution_count": 1,
   "metadata": {
    "collapsed": true,
    "slideshow": {
     "slide_type": "-"
    }
   },
   "outputs": [],
   "source": [
    "class Card:\n",
    "    \"\"\"Represents a standard playing card.\"\"\"\n",
    "    def __init__(self, suit=0, rank=2):\n",
    "        self.suit = suit\n",
    "        self.rank = rank"
   ]
  },
  {
   "cell_type": "markdown",
   "metadata": {
    "slideshow": {
     "slide_type": "fragment"
    }
   },
   "source": [
    "The **default** card thus, is the *2 of Clubs*.\n",
    "\n",
    "Otherwise, pass the optional parameters for each attribute to the constructor."
   ]
  },
  {
   "cell_type": "code",
   "execution_count": 2,
   "metadata": {
    "collapsed": true,
    "slideshow": {
     "slide_type": "-"
    }
   },
   "outputs": [],
   "source": [
    "queen_of_diamonds = Card(1, 12)"
   ]
  },
  {
   "cell_type": "markdown",
   "metadata": {
    "slideshow": {
     "slide_type": "slide"
    }
   },
   "source": [
    "## Class Attributes"
   ]
  },
  {
   "cell_type": "markdown",
   "metadata": {
    "slideshow": {
     "slide_type": "-"
    }
   },
   "source": [
    "To print `Card` objects in an easy way, let's map from integer codes to corresponding ranks and suits. "
   ]
  },
  {
   "cell_type": "code",
   "execution_count": 3,
   "metadata": {
    "collapsed": true,
    "slideshow": {
     "slide_type": "-"
    }
   },
   "outputs": [],
   "source": [
    "class Card:\n",
    "    \"\"\"Represents a standard playing card.\"\"\"\n",
    "    suit_names = ['Clubs', 'Diamonds', 'Hearts', 'Spades']\n",
    "    rank_names = [None, 'Ace', '2', '3', '4', '5', '6', '7', \n",
    "              '8', '9', '10', 'Jack', 'Queen', 'King']\n",
    "    \n",
    "    def __init__(self, suit=0, rank=2):\n",
    "        self.suit = suit\n",
    "        self.rank = rank\n",
    "    def __str__(self):\n",
    "        return '%s of %s' % (Card.rank_names[self.rank],\n",
    "                             Card.suit_names[self.suit])"
   ]
  },
  {
   "cell_type": "markdown",
   "metadata": {
    "slideshow": {
     "slide_type": "-"
    }
   },
   "source": [
    "For example, with above lists of strings, assigned to **class attributes**."
   ]
  },
  {
   "cell_type": "markdown",
   "metadata": {
    "slideshow": {
     "slide_type": "subslide"
    }
   },
   "source": [
    "**class attributes** like `suit_names` and `rank_names`, are defined:\n",
    "- inside a class \n",
    "- outside of any method\n",
    "\n",
    "being associated with the class object `Card` itself."
   ]
  },
  {
   "cell_type": "markdown",
   "metadata": {
    "slideshow": {
     "slide_type": "subslide"
    }
   },
   "source": [
    "**instance attributes** like `suit` and `rank`, contrary are associated with a particular instance.\n",
    "\n",
    "Every card has its own suit and rank, but there is only one copy of suit_names and rank_names.\n",
    "\n",
    "Both kinds of attribute are accessed using dot notation. "
   ]
  },
  {
   "cell_type": "markdown",
   "metadata": {
    "slideshow": {
     "slide_type": "subslide"
    }
   },
   "source": [
    "For Example, `Card.rank_names[self.rank]` means:\n",
    "\n",
    "*“Use attribute rank from the object self as an index to select from the list rank_names from the class Card.”*"
   ]
  },
  {
   "cell_type": "markdown",
   "metadata": {
    "slideshow": {
     "slide_type": "subslide"
    }
   },
   "source": [
    "The **place-keeper** `None` for the first element of `rank_names` is  because there is no card with **rank zero**. \n",
    "\n",
    "This way, we get a mapping with the nice property that the index `2` maps to the string *2*, and so on. "
   ]
  },
  {
   "cell_type": "markdown",
   "metadata": {
    "slideshow": {
     "slide_type": "fragment"
    }
   },
   "source": [
    "Otherwise, use a dictionary instead of a list."
   ]
  },
  {
   "cell_type": "markdown",
   "metadata": {
    "slideshow": {
     "slide_type": "subslide"
    }
   },
   "source": [
    "Let's create and print a card:"
   ]
  },
  {
   "cell_type": "code",
   "execution_count": 4,
   "metadata": {
    "collapsed": false,
    "slideshow": {
     "slide_type": "-"
    }
   },
   "outputs": [
    {
     "name": "stdout",
     "output_type": "stream",
     "text": [
      "Jack of Hearts\n"
     ]
    }
   ],
   "source": [
    "card1 = Card(2, 11)\n",
    "print(card1)"
   ]
  },
  {
   "cell_type": "markdown",
   "metadata": {
    "slideshow": {
     "slide_type": "fragment"
    }
   },
   "source": [
    "<p align=\"center\"><img src=\"img/card.png\" style=\"margin:auto\" width=\"550\">"
   ]
  },
  {
   "cell_type": "markdown",
   "metadata": {
    "slideshow": {
     "slide_type": "slide"
    }
   },
   "source": [
    "## Comparing Cards"
   ]
  },
  {
   "cell_type": "markdown",
   "metadata": {
    "slideshow": {
     "slide_type": "-"
    }
   },
   "source": [
    "For *built-in types*, relational operators (`<`, `>`, `==`, etc.) compare values.\n",
    "\n",
    "For *programmer-defined types*, we can **override** built-in operators by providing a (*“less than”*) `__lt__` method, for example."
   ]
  },
  {
   "cell_type": "markdown",
   "metadata": {
    "slideshow": {
     "slide_type": "subslide"
    }
   },
   "source": [
    "`__lt__` takes two parameters and return `True` if `self` is **strictly less** than `other`."
   ]
  },
  {
   "cell_type": "markdown",
   "metadata": {
    "slideshow": {
     "slide_type": "subslide"
    }
   },
   "source": [
    "Correct ordering for cards is not obvious. The answer might depend on the game.\n",
    "\n",
    "To keep things simple, we’ll make an arbitrary choice: *suit is more important*."
   ]
  },
  {
   "cell_type": "markdown",
   "metadata": {
    "slideshow": {
     "slide_type": "subslide"
    }
   },
   "source": [
    "With that decided, we can write"
   ]
  },
  {
   "cell_type": "code",
   "execution_count": 3,
   "metadata": {
    "collapsed": true,
    "slideshow": {
     "slide_type": "-"
    }
   },
   "outputs": [],
   "source": [
    "class Card:\n",
    "    \"\"\"Represents a standard playing card.\"\"\" \n",
    "    suit_names = ['Clubs', 'Diamonds', 'Hearts', 'Spades']\n",
    "    rank_names = [None, 'Ace', '2', '3', '4', '5', '6', '7', \n",
    "              '8', '9', '10', 'Jack', 'Queen', 'King']\n",
    "    \n",
    "    def __init__(self, suit=0, rank=2):\n",
    "        self.suit = suit\n",
    "        self.rank = rank\n",
    "    def __str__(self):\n",
    "        return '%s of %s' % (Card.rank_names[self.rank],\n",
    "                             Card.suit_names[self.suit])\n",
    "    def __lt__(self, other):\n",
    "        # check the suits\n",
    "        if self.suit < other.suit: return True\n",
    "        if self.suit > other.suit: return False\n",
    "\n",
    "        # suits are the same... check ranks\n",
    "        return self.rank < other.rank"
   ]
  },
  {
   "cell_type": "markdown",
   "metadata": {
    "slideshow": {
     "slide_type": "subslide"
    }
   },
   "source": [
    "... or more concisely (with **tuple comparison**)"
   ]
  },
  {
   "cell_type": "code",
   "execution_count": 3,
   "metadata": {
    "collapsed": true,
    "slideshow": {
     "slide_type": "-"
    }
   },
   "outputs": [],
   "source": [
    "class Card:\n",
    "    \"\"\"Represents a standard playing card.\"\"\"\n",
    "    suit_names = ['Clubs', 'Diamonds', 'Hearts', 'Spades']\n",
    "    rank_names = [None, 'Ace', '2', '3', '4', '5', '6', '7', \n",
    "              '8', '9', '10', 'Jack', 'Queen', 'King']\n",
    "    \n",
    "    def __init__(self, suit=0, rank=2):\n",
    "        self.suit = suit\n",
    "        self.rank = rank\n",
    "    def __str__(self):\n",
    "        return '%s of %s' % (Card.rank_names[self.rank],\n",
    "                             Card.suit_names[self.suit])\n",
    "    def __lt__(self, other):\n",
    "        t1 = self.suit, self.rank\n",
    "        t2 = other.suit, other.rank\n",
    "        return t1 < t2"
   ]
  },
  {
   "cell_type": "markdown",
   "metadata": {
    "slideshow": {
     "slide_type": "slide"
    }
   },
   "source": [
    "## Decks"
   ]
  },
  {
   "cell_type": "markdown",
   "metadata": {
    "slideshow": {
     "slide_type": "-"
    }
   },
   "source": [
    "Once we have `Cards`, let's define `Decks`. \n",
    "\n",
    "A deck is made up of cards: it's natural for each Deck to contain a list of cards as an attribute."
   ]
  },
  {
   "cell_type": "markdown",
   "metadata": {
    "slideshow": {
     "slide_type": "subslide"
    }
   },
   "source": [
    "The following is a class definition for Deck. The init method creates the attribute cards and generates the standard set of 52 cards:"
   ]
  },
  {
   "cell_type": "code",
   "execution_count": 5,
   "metadata": {
    "collapsed": true,
    "slideshow": {
     "slide_type": "-"
    }
   },
   "outputs": [],
   "source": [
    "class Deck:\n",
    "    def __init__(self):\n",
    "        self.cards = []\n",
    "        for suit in range(4):\n",
    "            for rank in range(1, 14):\n",
    "                card = Card(suit, rank)\n",
    "                self.cards.append(card)"
   ]
  },
  {
   "cell_type": "markdown",
   "metadata": {
    "slideshow": {
     "slide_type": "subslide"
    }
   },
   "source": [
    "This nested loop populates the deck with the *standard set of 52 cards*:\n",
    "- The outer loop enumerates the `suits` from `0` to `3`. \n",
    "- The inner loop enumerates the `ranks` from `1` to `13`. \n",
    "\n",
    "Each iteration **appends** a new `Card` to `self.cards`."
   ]
  },
  {
   "cell_type": "markdown",
   "metadata": {
    "slideshow": {
     "slide_type": "slide"
    }
   },
   "source": [
    "## Printing the Deck"
   ]
  },
  {
   "cell_type": "code",
   "execution_count": 8,
   "metadata": {
    "collapsed": true,
    "slideshow": {
     "slide_type": "-"
    }
   },
   "outputs": [],
   "source": [
    "class Deck:\n",
    "    def __init__(self):\n",
    "        self.cards = []\n",
    "        for suit in range(4):\n",
    "            for rank in range(1, 14):\n",
    "                card = Card(suit, rank)\n",
    "                self.cards.append(card)\n",
    "    def __str__(self):\n",
    "        res = []\n",
    "        for card in self.cards:\n",
    "            res.append(str(card))\n",
    "        return '\\n'.join(res)"
   ]
  },
  {
   "cell_type": "markdown",
   "metadata": {
    "slideshow": {
     "slide_type": "fragment"
    }
   },
   "source": [
    "`__str__` method print `Deck` objects, as a large string, in an efficient way."
   ]
  },
  {
   "cell_type": "markdown",
   "metadata": {
    "slideshow": {
     "slide_type": "subslide"
    }
   },
   "source": [
    "It builds a **list of strings** (invoking `__str__` on each card) and then invoke the string method join on a **newline** character `\\n` to separate `Card` objects representation."
   ]
  },
  {
   "cell_type": "code",
   "execution_count": 7,
   "metadata": {
    "collapsed": false,
    "slideshow": {
     "slide_type": "-"
    }
   },
   "outputs": [
    {
     "name": "stdout",
     "output_type": "stream",
     "text": [
      "Ace of Clubs\n",
      "2 of Clubs\n",
      "3 of Clubs\n",
      "4 of Clubs\n",
      "5 of Clubs\n",
      "6 of Clubs\n",
      "7 of Clubs\n",
      "8 of Clubs\n",
      "9 of Clubs\n",
      "10 of Clubs\n",
      "Jack of Clubs\n",
      "Queen of Clubs\n",
      "King of Clubs\n",
      "Ace of Diamonds\n",
      "2 of Diamonds\n",
      "3 of Diamonds\n",
      "4 of Diamonds\n",
      "5 of Diamonds\n",
      "6 of Diamonds\n",
      "7 of Diamonds\n",
      "8 of Diamonds\n",
      "9 of Diamonds\n",
      "10 of Diamonds\n",
      "Jack of Diamonds\n",
      "Queen of Diamonds\n",
      "King of Diamonds\n",
      "Ace of Hearts\n",
      "2 of Hearts\n",
      "3 of Hearts\n",
      "4 of Hearts\n",
      "5 of Hearts\n",
      "6 of Hearts\n",
      "7 of Hearts\n",
      "8 of Hearts\n",
      "9 of Hearts\n",
      "10 of Hearts\n",
      "Jack of Hearts\n",
      "Queen of Hearts\n",
      "King of Hearts\n",
      "Ace of Spades\n",
      "2 of Spades\n",
      "3 of Spades\n",
      "4 of Spades\n",
      "5 of Spades\n",
      "6 of Spades\n",
      "7 of Spades\n",
      "8 of Spades\n",
      "9 of Spades\n",
      "10 of Spades\n",
      "Jack of Spades\n",
      "Queen of Spades\n",
      "King of Spades\n"
     ]
    }
   ],
   "source": [
    "deck = Deck()\n",
    "print(deck)"
   ]
  },
  {
   "cell_type": "markdown",
   "metadata": {
    "slideshow": {
     "slide_type": "subslide"
    }
   },
   "source": [
    "... this is just one long string that contains (52) newlines!"
   ]
  },
  {
   "cell_type": "markdown",
   "metadata": {
    "slideshow": {
     "slide_type": "slide"
    }
   },
   "source": [
    "## Add, Remove, Shuffle and Sort"
   ]
  },
  {
   "cell_type": "markdown",
   "metadata": {
    "slideshow": {
     "slide_type": "-"
    }
   },
   "source": [
    "To deal cards, we need a method to **remove/return** a card from the deck. The `pop` **list method** it's a convenient way to do that."
   ]
  },
  {
   "cell_type": "code",
   "execution_count": 8,
   "metadata": {
    "collapsed": true,
    "slideshow": {
     "slide_type": "-"
    }
   },
   "outputs": [],
   "source": [
    "class Deck:\n",
    "    def __init__(self):\n",
    "        self.cards = []\n",
    "        for suit in range(4):\n",
    "            for rank in range(1, 14):\n",
    "                card = Card(suit, rank)\n",
    "                self.cards.append(card)\n",
    "    def __str__(self):\n",
    "        res = []\n",
    "        for card in self.cards:\n",
    "            res.append(str(card))\n",
    "        return '\\n'.join(res)\n",
    "    def pop_card(self):\n",
    "        return self.cards.pop()"
   ]
  },
  {
   "cell_type": "markdown",
   "metadata": {
    "slideshow": {
     "slide_type": "fragment"
    }
   },
   "source": [
    "This (`pop`) removes the last card in the list thus, we are dealing from the bottom of the deck."
   ]
  },
  {
   "cell_type": "markdown",
   "metadata": {
    "slideshow": {
     "slide_type": "subslide"
    }
   },
   "source": [
    "To add a card, **list method** `append` is the most appropriate one:"
   ]
  },
  {
   "cell_type": "code",
   "execution_count": 8,
   "metadata": {
    "collapsed": true,
    "slideshow": {
     "slide_type": "-"
    }
   },
   "outputs": [],
   "source": [
    "class Deck:\n",
    "    def __init__(self):\n",
    "        self.cards = []\n",
    "        for suit in range(4):\n",
    "            for rank in range(1, 14):\n",
    "                card = Card(suit, rank)\n",
    "                self.cards.append(card)\n",
    "    def __str__(self):\n",
    "        res = []\n",
    "        for card in self.cards:\n",
    "            res.append(str(card))\n",
    "        return '\\n'.join(res)\n",
    "    def pop_card(self):\n",
    "        return self.cards.pop()\n",
    "    def add_card(self, card):\n",
    "        self.cards.append(card)"
   ]
  },
  {
   "cell_type": "markdown",
   "metadata": {
    "slideshow": {
     "slide_type": "subslide"
    }
   },
   "source": [
    "... methods like these are called a *veneer*, just using another method without doing much work."
   ]
  },
  {
   "cell_type": "markdown",
   "metadata": {
    "slideshow": {
     "slide_type": "-"
    }
   },
   "source": [
    "<p align=\"center\"><img src=\"img/veneer.png\" style=\"margin:auto\" width=\"550\">"
   ]
  },
  {
   "cell_type": "markdown",
   "metadata": {
    "slideshow": {
     "slide_type": "fragment"
    }
   },
   "source": [
    "It comes from *woodworking*: a veneer is a thin layer of good quality wood glued to the surface of a cheaper piece of wood to improve the appearance."
   ]
  },
  {
   "cell_type": "markdown",
   "metadata": {
    "slideshow": {
     "slide_type": "subslide"
    }
   },
   "source": [
    "Here `add_card` is a *“thin”* method expressing a list operation in appropriate terms. \n",
    "\n",
    "It improves the appearance thus, the **interface**, of the **implementation**."
   ]
  },
  {
   "cell_type": "markdown",
   "metadata": {
    "slideshow": {
     "slide_type": "subslide"
    }
   },
   "source": [
    "Then, after **importing** random module, we can use the **shuffle** function to define a `Deck` method."
   ]
  },
  {
   "cell_type": "code",
   "execution_count": 17,
   "metadata": {
    "collapsed": true,
    "slideshow": {
     "slide_type": "-"
    }
   },
   "outputs": [],
   "source": [
    "class Deck:\n",
    "    def __init__(self):\n",
    "        self.cards = []\n",
    "        for suit in range(4):\n",
    "            for rank in range(1, 14):\n",
    "                card = Card(suit, rank)\n",
    "                self.cards.append(card)\n",
    "    def __str__(self):\n",
    "        res = []\n",
    "        for card in self.cards:\n",
    "            res.append(str(card))\n",
    "        return '\\n'.join(res)\n",
    "    def pop_card(self):\n",
    "        return self.cards.pop()\n",
    "    def add_card(self, card):\n",
    "        self.cards.append(card)\n",
    "    def shuffle(self):\n",
    "        random.shuffle(self.cards)"
   ]
  },
  {
   "cell_type": "markdown",
   "metadata": {
    "slideshow": {
     "slide_type": "slide"
    }
   },
   "source": [
    "## Inheritance"
   ]
  },
  {
   "cell_type": "markdown",
   "metadata": {
    "slideshow": {
     "slide_type": "-"
    }
   },
   "source": [
    "the ability to define a new class that is a **modified version** of an existing class.\n",
    "\n",
    "This relationship between classes &ndash; similar, but different &ndash; lends itself to **inheritance**."
   ]
  },
  {
   "cell_type": "markdown",
   "metadata": {
    "slideshow": {
     "slide_type": "subslide"
    }
   },
   "source": [
    "Class representing *“hands”* (cards held by players) is similar to a deck: \n",
    "- made up of a collection of cards\n",
    "- adding/removing cards operations"
   ]
  },
  {
   "cell_type": "markdown",
   "metadata": {
    "slideshow": {
     "slide_type": "fragment"
    }
   },
   "source": [
    "But it is also different."
   ]
  },
  {
   "cell_type": "markdown",
   "metadata": {
    "slideshow": {
     "slide_type": "fragment"
    }
   },
   "source": [
    "Some operations on hands don’t make sense for a deck:\n",
    "- compare two hands\n",
    "- compute a score for a hand"
   ]
  },
  {
   "cell_type": "markdown",
   "metadata": {
    "slideshow": {
     "slide_type": "subslide"
    }
   },
   "source": [
    "A new class (aka **child**) that inherits from an existing class (aka **parent**) is defined as follows:"
   ]
  },
  {
   "cell_type": "code",
   "execution_count": 11,
   "metadata": {
    "collapsed": true,
    "slideshow": {
     "slide_type": "-"
    }
   },
   "outputs": [],
   "source": [
    "class Hand(Deck):\n",
    "    \"\"\"Represents a hand of playing cards.\"\"\""
   ]
  },
  {
   "cell_type": "markdown",
   "metadata": {
    "slideshow": {
     "slide_type": "fragment"
    }
   },
   "source": [
    "putting the name of the **parent** class into parentheses."
   ]
  },
  {
   "cell_type": "markdown",
   "metadata": {
    "slideshow": {
     "slide_type": "subslide"
    }
   },
   "source": [
    "With this definition `Hand` inherits from `Deck` methods like \n",
    "- `pop_card` \n",
    "- `add_card` \n",
    "\n",
    "to be used by `Hands` as well as `Decks`."
   ]
  },
  {
   "cell_type": "markdown",
   "metadata": {
    "slideshow": {
     "slide_type": "fragment"
    }
   },
   "source": [
    "Thus, `Hand` inherits the `__init__` method too, from `Deck`.\n",
    "\n",
    "But instead of populating the hand with all the `52` cards, it should initialize it with an empty list."
   ]
  },
  {
   "cell_type": "markdown",
   "metadata": {
    "slideshow": {
     "slide_type": "fragment"
    }
   },
   "source": [
    "Providing for an `__init__` method, **overrides** the one in the **parent** class."
   ]
  },
  {
   "cell_type": "code",
   "execution_count": 18,
   "metadata": {
    "collapsed": true,
    "slideshow": {
     "slide_type": "subslide"
    }
   },
   "outputs": [],
   "source": [
    "class Hand(Deck):\n",
    "    \"\"\"Represents a hand of playing cards.\"\"\"\n",
    "    def __init__(self, label=''):\n",
    "        self.cards = []\n",
    "        self.label = label"
   ]
  },
  {
   "cell_type": "markdown",
   "metadata": {
    "slideshow": {
     "slide_type": "-"
    }
   },
   "source": [
    "Creating an `Hand`, `Python` invokes **this** `__init__` method:"
   ]
  },
  {
   "cell_type": "code",
   "execution_count": 20,
   "metadata": {
    "collapsed": false,
    "slideshow": {
     "slide_type": "fragment"
    }
   },
   "outputs": [
    {
     "data": {
      "text/plain": [
       "'new hand'"
      ]
     },
     "execution_count": 20,
     "metadata": {},
     "output_type": "execute_result"
    }
   ],
   "source": [
    "hand = Hand('new hand')\n",
    "hand.cards\n",
    "hand.label"
   ]
  },
  {
   "cell_type": "markdown",
   "metadata": {
    "slideshow": {
     "slide_type": "subslide"
    }
   },
   "source": [
    "... and the other methods (`pop_card` and `add_card`) are inherited too, to deal a card:"
   ]
  },
  {
   "cell_type": "code",
   "execution_count": 21,
   "metadata": {
    "collapsed": false,
    "slideshow": {
     "slide_type": "-"
    }
   },
   "outputs": [
    {
     "name": "stdout",
     "output_type": "stream",
     "text": [
      "King of Spades\n"
     ]
    }
   ],
   "source": [
    "deck = Deck()\n",
    "card = deck.pop_card()\n",
    "hand.add_card(card)\n",
    "print(hand)"
   ]
  },
  {
   "cell_type": "markdown",
   "metadata": {
    "slideshow": {
     "slide_type": "subslide"
    }
   },
   "source": [
    "It is then natural to encapsulate it in a `move_cards` method:"
   ]
  },
  {
   "cell_type": "code",
   "execution_count": 18,
   "metadata": {
    "collapsed": true,
    "slideshow": {
     "slide_type": "-"
    }
   },
   "outputs": [],
   "source": [
    "class Hand(Deck):\n",
    "    \"\"\"Represents a hand of playing cards.\"\"\"\n",
    "    def __init__(self, label=''):\n",
    "        self.cards = []\n",
    "        self.label = label\n",
    "    def move_cards(self, hand, num):\n",
    "        for i in range(num):\n",
    "            hand.add_card(self.pop_card())"
   ]
  },
  {
   "cell_type": "markdown",
   "metadata": {
    "slideshow": {
     "slide_type": "subslide"
    }
   },
   "source": [
    "It takes two arguments:\n",
    "- an `Hand` object \n",
    "- the number of cards to deal\n",
    "\n",
    "modifying both `self`, `hand` and returning `None`."
   ]
  },
  {
   "cell_type": "markdown",
   "metadata": {
    "slideshow": {
     "slide_type": "subslide"
    }
   },
   "source": [
    "With `move_cards`, depending on the game, cards can be moved:\n",
    "- from the deck to an hand\n",
    "- from one hand to another\n",
    "- from an hand back to the deck"
   ]
  },
  {
   "cell_type": "markdown",
   "metadata": {
    "slideshow": {
     "slide_type": "fragment"
    }
   },
   "source": [
    "This because:\n",
    "- `self` can be either a `Deck` or a `Hand`\n",
    "- `hand` can even be a `Deck` (despite its name!)"
   ]
  },
  {
   "cell_type": "markdown",
   "metadata": {
    "slideshow": {
     "slide_type": "subslide"
    }
   },
   "source": [
    "Inheritance is a useful feature:\n",
    "- Programs that would be repetitive without it, are written more **elegantly** with. \n",
    "- Facilitate **code reuse**, just customizing the parent classes with childs. \n",
    "- Reflects the natural **structure** of the problem, making the design easier to understand."
   ]
  },
  {
   "cell_type": "markdown",
   "metadata": {
    "slideshow": {
     "slide_type": "subslide"
    }
   },
   "source": [
    "But, it makes programs difficult to read. "
   ]
  },
  {
   "cell_type": "markdown",
   "metadata": {
    "slideshow": {
     "slide_type": "fragment"
    }
   },
   "source": [
    "When invoking a method, sometimes, it's not clear where to find its definition. \n",
    "\n",
    "Relevant code may be spread across several modules."
   ]
  },
  {
   "cell_type": "markdown",
   "metadata": {
    "slideshow": {
     "slide_type": "subslide"
    }
   },
   "source": [
    "<p style=\"text-align: center;\">Many things done with inheritance can be done &ndash; as well or better &ndash; without it!</p>"
   ]
  },
  {
   "cell_type": "markdown",
   "metadata": {
    "slideshow": {
     "slide_type": "slide"
    }
   },
   "source": [
    "## Class Diagrams"
   ]
  },
  {
   "cell_type": "markdown",
   "metadata": {
    "slideshow": {
     "slide_type": "-"
    }
   },
   "source": [
    "Snapshots that change as the program executes:\n",
    "\n",
    "- **stack diagrams**, show the state of a program\n",
    "- **object diagrams**, show the attributes values of an object"
   ]
  },
  {
   "cell_type": "markdown",
   "metadata": {
    "slideshow": {
     "slide_type": "fragment"
    }
   },
   "source": [
    "Sometimes, too detailed."
   ]
  },
  {
   "cell_type": "markdown",
   "metadata": {
    "slideshow": {
     "slide_type": "fragment"
    }
   },
   "source": [
    "- **class diagrams**, represent the program structure: \n",
    "    - classes (abstract representation)\n",
    "    - relationships (between them)"
   ]
  },
  {
   "cell_type": "markdown",
   "metadata": {
    "slideshow": {
     "slide_type": "subslide"
    }
   },
   "source": [
    "Several kinds of relationship between classes:\n",
    "\n",
    "- **HAS-A** objects with references to other classes objects. \n",
    "<p style=\"text-align: center;\">For example, <em>“a Rectangle has a Point.”</em></p>\n",
    "\n",
    "- **IS-A** child class inheriting from a parent one.\n",
    "\n",
    "<p style=\"text-align: center;\">For example, <em>“a Hand is a kind of a Deck.”</em></p>\n",
    "\n",
    "- **dependency** objects take other classes objects as parameters."
   ]
  },
  {
   "cell_type": "markdown",
   "metadata": {
    "slideshow": {
     "slide_type": "subslide"
    }
   },
   "source": [
    "<p align=\"center\"><img src=\"img/class.png\" style=\"margin:auto\" width=\"600\">"
   ]
  },
  {
   "cell_type": "markdown",
   "metadata": {
    "slideshow": {
     "slide_type": "fragment"
    }
   },
   "source": [
    "- **IS-A** relationship, arrow with a hollow triangle head\n",
    "- **HAS-A** relationship, standard arrowhead with its multiplicity\n",
    "    - simple number or range\n",
    "    - star `*` (any number)\n",
    "- **dependency** relationship, dashed arrow (sometimes omitted)\n",
    "<p style=\"text-align: center;\"><em>Built-in types</em> (as list/dict) are usually not shown.</p>\n",
    "\n"
   ]
  }
 ],
 "metadata": {
  "celltoolbar": "Slideshow",
  "kernelspec": {
   "display_name": "Python 3",
   "language": "python",
   "name": "python3"
  },
  "language_info": {
   "codemirror_mode": {
    "name": "ipython",
    "version": 3
   },
   "file_extension": ".py",
   "mimetype": "text/x-python",
   "name": "python",
   "nbconvert_exporter": "python",
   "pygments_lexer": "ipython3",
   "version": "3.4.5"
  }
 },
 "nbformat": 4,
 "nbformat_minor": 2
}
